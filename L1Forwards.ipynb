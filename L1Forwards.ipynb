{
 "cells": [
  {
   "cell_type": "markdown",
   "metadata": {
    "slideshow": {
     "slide_type": "slide"
    }
   },
   "source": [
    "# __Forward and Futures Contracts__"
   ]
  },
  {
   "cell_type": "markdown",
   "metadata": {},
   "source": [
    "__Based on Hull textbook: Futures, Options ans other derivatives__"
   ]
  },
  {
   "cell_type": "code",
   "execution_count": 2,
   "metadata": {},
   "outputs": [],
   "source": [
    "import sys\n",
    "path = '/home/jupyter-slava/teaching/lib/bsm'\n",
    "sys.path.append(path)\n",
    "import numpy as np\n",
    "from MC import *"
   ]
  },
  {
   "cell_type": "markdown",
   "metadata": {
    "slideshow": {
     "slide_type": "slide"
    }
   },
   "source": [
    "<br>\n",
    "\n",
    "### __Forward: Contract Design__"
   ]
  },
  {
   "cell_type": "markdown",
   "metadata": {
    "slideshow": {
     "slide_type": "slide"
    }
   },
   "source": [
    "A __forward contract__ is a contract to buy or sell an underlying asset at a\n",
    "predetermined price $K$ (__delivery price__) on a specified future date $T$. \n",
    "\n",
    "  * __Long party__ agrees __to buy__ the underlying asset at the delivery price $K$ at\n",
    "    time $T$\n",
    "  * __Short party__ agrees __to sell__ the underlying asset at the delivery price $K$ at\n",
    "    time $T$   \n",
    "    \n",
    "    "
   ]
  },
  {
   "cell_type": "code",
   "execution_count": 2,
   "metadata": {
    "slideshow": {
     "slide_type": "slide"
    }
   },
   "outputs": [
    {
     "data": {
      "image/png": "[encoded data removed]",
      "text/plain": [
       "<Figure size 432x288 with 1 Axes>"
      ]
     },
     "metadata": {
      "needs_background": "light"
     },
     "output_type": "display_data"
    }
   ],
   "source": [
    "plot1()"
   ]
  },
  {
   "cell_type": "markdown",
   "metadata": {},
   "source": [
    "__Payoff at Expiration:__\n",
    "\n",
    "  * __The long__ receives the asset worth $S_T$ (price of the asset at maturity of the forward $T$) and pays    the delivery price $K$. Thus the cash flow (payoff) from the long forward position at maturity $T$ is: $S_T − K$. \n",
    "      * Some forward contracts are cash physically settled, while some are cash settled. \n",
    "     \n",
    "     \n",
    "  * __The short__ receives the cash amount $K$ and delivers the asset worth $S_T$ in exchange (payoff is $K − S_T$). \n",
    "          "
   ]
  },
  {
   "cell_type": "code",
   "execution_count": 3,
   "metadata": {},
   "outputs": [
    {
     "data": {
      "image/png": "[encoded data removed]",
      "text/plain": [
       "<Figure size 432x288 with 1 Axes>"
      ]
     },
     "metadata": {},
     "output_type": "display_data"
    }
   ],
   "source": [
    "plot2()"
   ]
  },
  {
   "cell_type": "markdown",
   "metadata": {
    "slideshow": {
     "slide_type": "slide"
    }
   },
   "source": [
    "<br>\n",
    "\n",
    "#### __Valuation__ \n",
    "\n",
    "_How do you establish the fair delivery price $K$ in the forward contract?_"
   ]
  },
  {
   "cell_type": "markdown",
   "metadata": {
    "slideshow": {
     "slide_type": "fragment"
    }
   },
   "source": [
    "__Notations:__\n",
    "\n",
    "\n",
    "  * $S_t$: underlying asset price at time $t$ \n",
    "  * $K$: delivery price specified at contract inception \n",
    "  * $V(t,T)$: present value at time $t≥0$ of the forward contract initiated at $t=0$ and expiring at $T$\n",
    "  * $F(t,T)$ or simply $F$: forward price at time $t$ for settlement at time $T$\n",
    "  * $r$ - risk-free interest rate per annum with continuous compounding (initially we assume that the term structure is    flat)\n",
    "    "
   ]
  },
  {
   "cell_type": "markdown",
   "metadata": {
    "slideshow": {
     "slide_type": "fragment"
    }
   },
   "source": [
    "__Assumptions of perfect markets:__\n",
    "\n",
    "\n",
    "  * Market participants can lend and borrow at the same risk-free rate of interest\n",
    "  \n",
    "  * There are no arbitrage opportunities, or market participants take advantage of arbitrage opportunities instantaneously as they occur \n",
    "    "
   ]
  },
  {
   "cell_type": "markdown",
   "metadata": {
    "slideshow": {
     "slide_type": "subslide"
    }
   },
   "source": [
    "<br>\n",
    "\n",
    "#### __Case 1: No Dividends__\n",
    "\n",
    "\n",
    "Payoff from a long forward position:  $V(T,T) = S_T - K$ \n",
    "  \n",
    "At inception, a forward contract is neither an asset nor liability.<br/> It is set up so that     its __PV at inception is zero__ to both parties:  $V(0,T) = 0$\n",
    "  \n",
    "__Definition__: __Forward price $F(0,T)$__  is such a delivery price $K$ that sets the timezero present value of the forward contract to zero.\n",
    "  \n",
    "__Problem__: find such $K = F(0,T)$ that sets the PV of the forward contract to zero,\n",
    "    i.e., $V(0,T) = 0$.\n",
    "    \n",
    "__Result__: $K = F(0,T) = e^{rT}S_0$\n",
    "      \n",
    "__Proof__: creating a synthetic forward position and arbitraging the actual forward contract against the synthetic forward position\n",
    "  \n",
    "__Synthetic forward position__ ($t=0$):\n",
    "  \n",
    "* Borrow $e^{−rT} K$ dollars until time $T$ at the risk-free rate $r$;\n",
    "    \n",
    "* Buy the asset at spot price $S$; \n",
    "     \n",
    "* Payoff at time T is $S_T − K$ , which is the same as the payoff of the forward contract.<br/>  Therefore, its value (price) at $t=0$ should be equal to the value of forward contract (to avoid arbitrage). <br/>The value of synthetic forward at time zero is $S_0 − e^{\n",
    "−rT} K$ .\n",
    "\n",
    "* At strike level $K^*=e^{rT}S$ , the value of forward contract is zero\n",
    "    \n",
    "__Note__: To create synthetic forward with zero value, we need to borrow $S_0$ dollars, and buy 1 stock \n",
    "  \n",
    " "
   ]
  },
  {
   "cell_type": "markdown",
   "metadata": {},
   "source": [
    "\n",
    "<br>\n",
    "\n",
    "__Arbitrage__\n",
    "\n",
    "\n",
    "Suppose $F(0,T) = e^{rT}S$ does not hold, and for example, $F(0,T) > e^{rT}S$ . This violates non-arbitrage assumption. To realize arbitrage: \n",
    "  \n",
    "  __Short the actual forward and go long a synthetic forward__ (create a synthetic forward contract by borrowing cash and buying the asset): \n",
    "      \n",
    "      \n",
    "At time t=0 :\n",
    "    \n",
    "  * Borrow $S$ dollars until time $T$ at the risk-free rate $r$ ;\n",
    "  * Use these dollars to buy the asset at spot price $S$ ;\n",
    "  * Take a short position in the forward contract with delivery price $F(0,T)$\n",
    "      \n",
    "    Note, no capital investment is needed to do this (zero initial cost). \n",
    "        \n",
    "At time T :\n",
    "  \n",
    "  * Sell the asset for the delivery price $F(0,T)$ ;\n",
    "    \n",
    "  * Use the amount $e^{rT}S$ of the proceeds to repay the loan plus interest. \n",
    "    \n",
    "    \n",
    "__Profit and Loss (P&L)__: a riskless and costless arbitrage profit of $F(0,T)−e^{rT} S_0>0$ \n",
    "  \n",
    "In the case $F(0,T) < e^{rT}S$ the arbitrage can be realize by going __long in the actual forward and shorting a synthetic forward__.\n",
    "  \n",
    "Thus $F(0,T) = e^{rT}S$\n",
    "  \n",
    " "
   ]
  },
  {
   "cell_type": "markdown",
   "metadata": {},
   "source": [
    "<br>\n",
    "\n",
    "#### __Case 2: Discrete dividends__\n",
    "\n",
    "\n",
    "__Examples__: Coupon bearing bonds, stocks paying cash dividends\n",
    "  \n",
    "  \n",
    "Let $I_0$ be PV at $t=0$ of all income to be received from the asset between $t=0$ and $T$ (discounted at the risk-rate; assume all future cash dividends between $0$ and $T$ are known).\n",
    "  \n",
    "Need to find fair forward price $F(0,T)$ for this case.\n",
    "\n",
    "Create a synthetic forward position ($t=0$) which replicates the forward contract:    \n",
    "    \n",
    "* Borrow $e^{−rT}K$ dollars until time $T$ at the risk-free rate $r$;\n",
    "    \n",
    "* Buy one unit of asset at spot price $S$\n",
    "    \n",
    "* Borrow $I_0$ dollars at the risk-free rate $r$;\n",
    "    \n",
    "    \n",
    "Since we can use dividens to return debt, which was equivalent of $I_0$ to time zero, the only cash flow from the synthetic forward position is equal to $S_T − K$ at time $T$(the same as forward payoff) \n",
    "  \n",
    "The value of synthetic forward at time zero is $S − e^{−rT}K-I_0$\n",
    "\n",
    "At strike level $K^*=e^{rT}(S-I_0)$ , the value of forward contract is zero\n",
    "  \n",
    "__Result__: $F(0,T) = e^{rT}(S-I_0)$\n",
    "  \n",
    " "
   ]
  },
  {
   "cell_type": "code",
   "execution_count": 4,
   "metadata": {},
   "outputs": [
    {
     "data": {
      "image/png": "[encoded data removed]",
      "text/plain": [
       "<Figure size 432x288 with 1 Axes>"
      ]
     },
     "metadata": {
      "needs_background": "light"
     },
     "output_type": "display_data"
    }
   ],
   "source": [
    "plot3()"
   ]
  },
  {
   "cell_type": "markdown",
   "metadata": {},
   "source": [
    "<br>\n",
    "\n",
    "#### __Case 3: Continuous Dividend__\n",
    "\n",
    "\n",
    "Suppose the underlying asset pays dividends continuously at the constant rate $q$ (dividend yield), so that the dividend paid over an infinitesimal time period $dt$ is $qS_tdt$\n",
    "  \n",
    "Then $X_0 = e^{−qT}$ units of the asset purchased at time $t=0$ grow to one unit of the asset by time $t=T$ due to the accumulation of dividends, assuming all dividends are reinvested in the asset as soon as they are received.\n",
    "  \n",
    "__Proof__: $dX = \\frac{qX t S_t dt}{ S_t} = qX_t dt$ - the amount of asset bought      during $dt$. Thus $X_t= e^{ qt} X_0$, and if $X_0 = e^{−qT}$, $X_T = 1$ \n",
    "  \n",
    "  \n",
    "  * Create a synthetic forward position ($t=0$) which replicates the forward contract:    \n",
    "    \n",
    "    * Borrow $e^{−rT}K$ dollars until time $T$ at the risk-free rate $r$;\n",
    "   \n",
    "    * Buy $e^{−qT}$ units of asset at spot price $S$\n",
    "    \n",
    "    \n",
    "  * Payoff of a synthetic forward position $S_T − K$ (the same as forward payoff)\n",
    "  \n",
    "  * The value of synthetic forward at time zero is $e^{−qT}S − e^{−rT}K$\n",
    "  * At strike level $K^*=e^{(r−q)T}S$ , the value of forward contract is zero\n",
    "  \n",
    "__Result__: $F(0,T) = e^{(r-q)T}S$\n",
    "  \n",
    " "
   ]
  },
  {
   "cell_type": "markdown",
   "metadata": {},
   "source": [
    "<br>\n",
    "\n",
    "### __Forward. Marking to market__"
   ]
  },
  {
   "cell_type": "markdown",
   "metadata": {},
   "source": [
    "At some time $t$ during the life of the contract, $0≤t≤T$, __PV__ of a long forward contract with delivery price $K$ is generally different from zero. It is equal to the present value of the difference between the current forward price $F(t ,T)$ at time $t$ and the delivery price $K$ (that was set equal to the forward price $F(0,T)$ at the forward contract inception $t=0$): \n",
    "  \n",
    "  $V(t,T) = e^{-r(T-t)}(F(t,T)-K)$\n",
    "    \n",
    " \n",
    "Since $S_T−K = (S_T−F(t,T))+(F(t,T)−K)$, the seasoned forward contract is equivalent to the combination of:\n",
    "   \n",
    "* A newly written __short forward contract__ + \n",
    "   \n",
    "* __Fixed cash amount__ $F(t,T)−K$ to be received at $T$.\n",
    " \n",
    " \n",
    "Since PV of the newly written forward is zero, PV of the seasoned forward is equal to PV of the cash amount $F(t,T)−K$ , i.e., \n",
    "$$V(t,T) = e^{-r(T-t)}(F(t,T)-K)$$\n",
    "     \n",
    " \n",
    "* For the underlying asset that pays no income before time T :\n",
    "  \n",
    "     $V(t,T) = S - e^{-r(T-t)}K$\n",
    " \n",
    " \n",
    "* For the contract is written for N underlying assets (__N is notional__), then:\n",
    "  \n",
    "     $V(t,T) = Ne^{-r(T-t)}(F(t,T)-K)$\n",
    "  \n",
    "    "
   ]
  },
  {
   "cell_type": "markdown",
   "metadata": {},
   "source": [
    "<br> \n",
    "\n",
    "### __Currency Forwards__"
   ]
  },
  {
   "cell_type": "markdown",
   "metadata": {},
   "source": [
    "If the underlying asset is a foreign currency, then the forward exchange rate is:\n",
    "  \n",
    "  $F(0,T) = e^{(r_d - r_f)T}S_0$\n",
    "  \n",
    "where $r_d$ and $r_f$ are the domestic and foreing risk-free interest rates\n",
    "    \n",
    "The foreign currency can be thought of as the asset that pays continuous dividend yield at the rate $r_f$\n",
    "      \n",
    "      \n",
    "The exchange forward rate can be expressed using the domestic and foreign discount factors:\n",
    "   \n",
    "  $F(0,T) = e^{(r_d - r_f)T}S_0 = \\frac{P_f(0,T)}{P_d(0,T)}S_0$\n",
    "    \n",
    " \n",
    "The exchange forward rate can be also derived using the following logics:\n",
    " \n",
    "* The value of 1 USD paid at $t=T$ is equal to $e^{- r_fT}$ USD at $t=0$\n",
    "  \n",
    "* This is equivalent to $e^{- r_f T}S_0$ RUB at $t=0$\n",
    "  \n",
    "* which is equivalent to $e^{(r_d - r_f) T}S_0$ RUB at $t=T$\n",
    "  \n",
    "* Therefore, 1 USD paid at $t=T$ is equivalent to $e^{(r_d - r_f) T}S_0$ RUB at paid $t=T$\n",
    " \n",
    "  \n",
    "    "
   ]
  },
  {
   "cell_type": "markdown",
   "metadata": {},
   "source": [
    "<a id='AssetMoney'></a>\n",
    "#### __Asset or Money?__\n",
    "\n",
    "Dealing with FX derivatives contracts can be tricky, since an underlying asset is also currency. At the beginning, it is __important__ to determine, which currency will be considered as money, and which one as an underlying asset (we measure asset prices in \"money\").\n",
    "\n",
    "There is duality here. We can solve a problem by taking any currency as money, but once it is fixed, it should keep it this way, until the final price is derived.\n",
    "\n",
    "The simplest way to choose the money is to use exchange rate, provided in the text of the problem, as an asset price. Supposed there are two currencies: X and Y. Exchange rate X/Y states, that one unit of currency X devided by one unit of currency Y is equal to the exchange rate. Then take X as an asset, Y as money (cash).\n",
    "\n",
    "For example, EUR/USD is equal to 1.1 It means one EUR is worth 1.1 USD.\n",
    "EUR is an underlyng asset, USD is money.\n",
    "\n"
   ]
  },
  {
   "cell_type": "markdown",
   "metadata": {},
   "source": [
    "<a id='example1'></a>\n",
    "#### __Example from past exam__\n"
   ]
  },
  {
   "cell_type": "markdown",
   "metadata": {},
   "source": [
    "The current USD/RUB exchange rate is $S=60$. <br/>\n",
    "The risk free interest rates are $5\\%$ (for RUB) and $2\\%$ (for USD) (continuous compounding). <br/>"
   ]
  },
  {
   "cell_type": "markdown",
   "metadata": {},
   "source": [
    "a) Determine 2 month forward rate for USD/RUB exchange rate.<br/>"
   ]
  },
  {
   "cell_type": "code",
   "execution_count": 3,
   "metadata": {},
   "outputs": [
    {
     "name": "stdout",
     "output_type": "stream",
     "text": [
      "F2m= 60.301\n"
     ]
    }
   ],
   "source": [
    "S, r, q, T = 60, 0.05, 0.02, 2/12\n",
    "F2m=np.exp((r-q)*T)*S\n",
    "print(\"F2m= {0:.3f}\".format(F2m))"
   ]
  },
  {
   "cell_type": "markdown",
   "metadata": {},
   "source": [
    "b) The bank enters the forward contract to sell $100m$ RUB to USD at 2m forward rate (calculated in a)). \n",
    "\n",
    "- __(Only for this question assume)__ In 1 months the exchange rate changed to $63$ , and USD interest rate goes down to $1\\%$. \n",
    "\n",
    "- Marked to market the forward contract.<br/>\n"
   ]
  },
  {
   "cell_type": "markdown",
   "metadata": {},
   "source": [
    "Selling 100 M RUB is equavalent to buying N=100/K M USD"
   ]
  },
  {
   "cell_type": "code",
   "execution_count": 4,
   "metadata": {},
   "outputs": [
    {
     "name": "stdout",
     "output_type": "stream",
     "text": [
      "N= 1.658 M USD\n",
      "Fnew= 63.210 M RUB\n",
      "V= 4.805 M RUB\n"
     ]
    }
   ],
   "source": [
    "N=100/F2m\n",
    "S1, r1, q1, t= 63, 0.05, 0.01, 1/12\n",
    "Fnew=np.exp((r1-q1)*t)*S1\n",
    "V=np.exp(-r1*t)*(Fnew-F2m)*N\n",
    "print(\"N= {0:.3f} M USD\".format(N))\n",
    "print(\"Fnew= {0:.3f} M RUB\".format(Fnew))\n",
    "print(\"V= {0:.3f} M RUB\".format(V))"
   ]
  },
  {
   "cell_type": "markdown",
   "metadata": {},
   "source": [
    "<br>\n",
    "\n",
    "#### __Par forward__\n",
    "\n",
    "__Motivation__: A Russian company will have to make annual payments in USD for the next three years. The amount of each payment is $N$ USD at the end of each year. The company wishes to hedge its risk exposure to the USD/RUB exchange rate. It enters into a __Par-Forward__ contract with the bank. Each year, the company will make fixed payments to the bank. It will pay fixed amount $N⋅K$ RUB and receive $N$ USD, where $K$ is a pre-negotiated fixed exchange rate that will apply for the entire duration of the contract (three years). Thus, the company is fixing the exchange rate over the entire period.\n",
    "\n",
    "__Pricing__:\n",
    "\n",
    "In general case, when there are n exchange trades at times $t_i, i=1,n$, PV of the Par-Forward is equal to the PV of portfolio of $n$ FX forwards with maturities $t_i, i=1,n$. We find such a $K$ so it is neither an asset nor liability at inception:\n",
    "    \n",
    "$PV(K) = \\sum_{i=1,n}Ne^{-r_{RUB}t_i}(F(0,t_i;K)-K)=0$\n",
    "    \n",
    "Then fair $K$ is equal to\n",
    "    \n",
    "$K = \\frac{\\sum_{i=1,n}e^{-r_{RUB}t_i}F(0,t_i;K)}{\\sum_{i=1,n}e^{-r_{RUB}t_i}}$"
   ]
  },
  {
   "cell_type": "markdown",
   "metadata": {},
   "source": [
    "<br>\n",
    "\n",
    "#### __Currency Forwards: Applications in Financial sector__"
   ]
  },
  {
   "cell_type": "markdown",
   "metadata": {},
   "source": [
    "<a id='d5c1'></a>\n",
    "##### __Hedging__\n",
    "\n",
    "__Example__: To purchase equipment a Russian telecommunication company is supposed to make 10m USD payment in 6 months. To hedge agaist currency flactuations the company enters FX forward contract to buy 10m USD for RUB at the current 6m forward rate. \n",
    "  \n",
    "  \n",
    "__Par Forward__\n",
    "  "
   ]
  },
  {
   "cell_type": "markdown",
   "metadata": {},
   "source": [
    "##### __Converting funding from one currency to another__\n",
    "\n",
    "Suppose, a bank have access to USD LIBOR market and needs to provide its Russian client with RUB funding (A client needs to borrow $L$ amount of RUB).\n",
    "   \n",
    "The USD/RUB forward rate is $F$ and USD LIBOR rate for time $T$ is $r_{USD}$. The implied RUB rate $r_{RUB}$ satisfies:\n",
    "\n",
    "$$F = F(0,T) = e^{(r_{RUB} - r_{USD})T}S_0$$\n",
    "     \n",
    "At $t=0$: \n",
    "\n",
    "* The bank borrows $\\frac{L}{S_0}$ amount of dollars on LIBOR at $r_{USD}$ rate. It is supposed to return $\\frac{L}{S_0}e^{r_{USD}T}$ USD at $t=T$.\n",
    "\n",
    "* Convert USD to RUB using spot exchange rate $S_0$ and lend this money ($L$ RUB) to the borrower at rate $r_{RUS}$. The borrower is supposed to return $Le^{r_{RUB}T}$  RUB at $t=T$. \n",
    "\n",
    "* Enter a forward contract to buy $N = \\frac{L}{S_0}e^{r_{USD}T}$ USD ($N$ is notional of forward contract) against RUB for $F$ at $t=T$ \n",
    "\n",
    "* Need to deliver $N*F = \\frac{L}{S_0}e^{r_{USD}T}*e^{(r_{RUB} - r_{USD})T}S_0 = \\frac{L}e^{r_{RUB}T}$ RUB\n",
    "  \n",
    " \n",
    "At $t=T$:\n",
    "   \n",
    "The borrower returns $Le^{r_{RUB}T}$  RUB \n",
    "  \n",
    "* Forward Settlement: The banks deliver $L e^{r_{RUB} T}$ RUB and receive $\\frac{L}{S_0}e^{r_{USD} T}$ USD\n",
    "     \n",
    "* Pay USD debt on LIBOR account.\n",
    "     \n",
    "__The result__: Being able to borrow on LIBOR and having access to USD/RUB forwards, we are able to lend RUB at implied forward RUB rates.\n",
    "     "
   ]
  },
  {
   "cell_type": "code",
   "execution_count": null,
   "metadata": {},
   "outputs": [],
   "source": [
    "plt.close('all')"
   ]
  },
  {
   "cell_type": "markdown",
   "metadata": {
    "slideshow": {
     "slide_type": "slide"
    }
   },
   "source": [
    "<br>\n",
    "\n",
    "### __Futures__"
   ]
  },
  {
   "cell_type": "markdown",
   "metadata": {},
   "source": [
    "<a id='f1'></a>\n",
    "#### __Futures contracts vs. forward contracts__"
   ]
  },
  {
   "cell_type": "markdown",
   "metadata": {},
   "source": [
    "Futures contracts are specified by the exchange, while forward contracts are private OTC arrangements. "
   ]
  },
  {
   "cell_type": "markdown",
   "metadata": {},
   "source": [
    "|  <font size=4>__Forwards__</font> |  <font size=4>__Futures__</font> |\n",
    "| :---     | ---------: |\n",
    "| <font size=3>Private OTC contracts  </font>   | <font size=3>    Traded on exchange </font> |\n",
    "| <font size=3>Not standardized   </font>| <font size=3>  Standardized </font> |\n",
    "| <font size=3>Settled at contract expiration  </font>| <font size=3>  Settled daily </font> |\n",
    "| <font size=3>Counterparty credit risk   </font>| <font size=3>  No credit risk  </font> |"
   ]
  },
  {
   "cell_type": "markdown",
   "metadata": {},
   "source": [
    "<a id='f2'></a>\n",
    "#### __Designing a new futures contract__\n",
    "\n",
    "* Specify the underlying asset - quality option and location option\n",
    "\n",
    "* Contract size\n",
    "\n",
    "* Delivery arrangements - timing options (for commodities delivery can be made anytime during the delivery month; the short has the right to choose when to deliver)\n",
    "\n",
    "* Price quotes - minimum price movement\n",
    "\n",
    "* Daily price movement limits (limit up/limit down)\n",
    "\n",
    "* Position limits for speculators "
   ]
  },
  {
   "cell_type": "markdown",
   "metadata": {},
   "source": [
    "#### __Futures Trading Mechanics__\n",
    "\n",
    "* Deposit __initial margin__ with your broker (margins set by the exchanges depending on the contract’s volatility and changed often)\n",
    "\n",
    "* __Daily settlement__: at the end of each day your account is marked to market and actually adjusted to reflect the current end-of-day P&L: deposits are made and losses are withdrawn. Futures contracts are actually re-settled each day: PV of a futures position is always zero at the end of the day: V is resettled each day to zero. \n",
    "\n",
    "* Many financial futures are settled in cash (e.g., S&P 500 futures). \n",
    "\n",
    "* Convergence of futures price to spot\n",
    "\n",
    "  * As the delivery month of a futures contract is approached, the futures price converges to spot. If this were not true, there would be an arbitrage opportunity."
   ]
  },
  {
   "cell_type": "markdown",
   "metadata": {},
   "source": [
    "<a id='f4'></a>\n",
    "#### __Commodity Futures__\n",
    "\n",
    "__Investment vs. consumption commodities__ \n",
    "\n",
    "__Investment commodities__ are commodities held by a significant number of investors solely for investment purposes (gold and silver). \n",
    "\n",
    "* Storage costs can be regarded as negative income. Let $U$ denote the present value of all storage costs to be incurred over the life of the contract: \n",
    "\n",
    "    $U=PV(All\\; storage \\: cost)$\n",
    "    \n",
    "* Then the futures price of an investment commodity (gold, silver) is:\n",
    "\n",
    "    $ F =e^{rT}(S+U)$\n",
    "    \n",
    "* If storage costs are proportional to the price of the commodity, they can be regarded as a negative dividend yield:\n",
    "\n",
    "     $F =e^{(r+u)T}S$, where $u$ are storage costs per annum as a proportion of the spot price. \n",
    " \n",
    "\n",
    "__Consumption commodities__. There are certain benefits associated with holding physical commodities in stock (keep production running, avoid stock-outs, take advantage of local short-term shortages, etc.) \n",
    "\n",
    "*  For consumption commodities we only have the inequality:\n",
    "    \n",
    "     $ F <=e^{rT}(S+U)$\n",
    "     \n",
    "    Even if futures fall to a discount, the holders of physical commodity will not\n",
    "    sell the physical and buy the futures, since they need the physical commodity for\n",
    "    current consumption. \n",
    "    \n",
    "* Suppose y is an effective payment rate (yield) for the potential inconvenience of a stock- out for     commodity, called convenience yield. It is defined as follows: \n",
    "    \n",
    "    $F =e^{(r-y)T}(S+U)$\n",
    "    \n",
    "* For investment assets, convenience yield should be equal to zero. Otherwise, there are arbitrage opportunities.\n",
    "    \n",
    "    \n",
    "\n"
   ]
  },
  {
   "cell_type": "markdown",
   "metadata": {},
   "source": [
    "##### __Cost of carry__ \n",
    "\n",
    "Interest paid to finance the asset + storage costs - income\n",
    "earned on the asset \n",
    "\n",
    "Cost of carry rate for different assets: $c=$ \n",
    "\n",
    "  * Assets with no dividends and storage costs: $r$\n",
    "  * Stock index: $r−q$\n",
    "  * Foreign currency: $r_d−r_f$\n",
    "  * Commodity: $r+u$\n",
    "  \n",
    "  \n",
    "Then, the futures price can be expressed as: \n",
    "\n",
    "  * Investment asset: $F = e^{cT}S$ \n",
    "  * Consumption asset: $F = e^{(c-y)T}S$"
   ]
  },
  {
   "cell_type": "code",
   "execution_count": null,
   "metadata": {},
   "outputs": [],
   "source": []
  }
 ],
 "metadata": {
  "celltoolbar": "Slideshow",
  "kernelspec": {
   "display_name": "Python 3 (ipykernel)",
   "language": "python",
   "name": "python3"
  },
  "language_info": {
   "codemirror_mode": {
    "name": "ipython",
    "version": 3
   },
   "file_extension": ".py",
   "mimetype": "text/x-python",
   "name": "python",
   "nbconvert_exporter": "python",
   "pygments_lexer": "ipython3",
   "version": "3.9.7"
  },
  "toc-autonumbering": false,
  "toc-showcode": false,
  "toc-showmarkdowntxt": false,
  "toc-showtags": true
 },
 "nbformat": 4,
 "nbformat_minor": 4
}
