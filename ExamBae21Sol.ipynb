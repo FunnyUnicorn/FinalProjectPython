{
 "cells": [
  {
   "cell_type": "code",
   "execution_count": 1,
   "metadata": {},
   "outputs": [
    {
     "data": {
      "text/plain": [
       "50"
      ]
     },
     "execution_count": 1,
     "metadata": {},
     "output_type": "execute_result"
    }
   ],
   "source": [
    "score = {1: 2+4+4, 2: 3+2, 3: 2+2+5+5+3, 4: 6+4+4, 5: 2+2}\n",
    "sum(score.values())"
   ]
  },
  {
   "cell_type": "code",
   "execution_count": 2,
   "metadata": {},
   "outputs": [],
   "source": [
    "import sys\n",
    "# path to the folder with module\n",
    "path = '/home/jupyter-slava/teaching/lib/bsm'\n",
    "sys.path.append(path)"
   ]
  },
  {
   "cell_type": "code",
   "execution_count": 3,
   "metadata": {},
   "outputs": [],
   "source": [
    "from bsm1 import BSM, Binomial\n",
    "from numpy import exp"
   ]
  },
  {
   "cell_type": "markdown",
   "metadata": {},
   "source": [
    "# Exam"
   ]
  },
  {
   "cell_type": "markdown",
   "metadata": {},
   "source": [
    "* __When you calculate the price of instruments below, it is important you indicate the currency, in which price is calculated. Small deduction will be taken for not indicating currency.__ \n",
    "\n",
    "For example, the price is equal to 5.65 USD, or P = 2.3 GBP. But not price = 5.65. "
   ]
  },
  {
   "cell_type": "markdown",
   "metadata": {},
   "source": [
    "### Problem 1: Forward"
   ]
  },
  {
   "cell_type": "markdown",
   "metadata": {},
   "source": [
    "The current GBP/USD exchange rate is $S = 1.25$. <br/>\n",
    "The risk free interest rates are $2\\%$ (for GBP) and $1\\%$ (for USD) (continuous compounding). <br/>"
   ]
  },
  {
   "cell_type": "markdown",
   "metadata": {},
   "source": [
    "a) __(2 points)__ Determine 9 months forward rate for GBP/USD exchange rate.<br/>"
   ]
  },
  {
   "cell_type": "code",
   "execution_count": 4,
   "metadata": {
    "jupyter": {
     "source_hidden": true
    }
   },
   "outputs": [],
   "source": [
    "S, r, q, T = 1.25, 0.01, 0.02, 9/12"
   ]
  },
  {
   "cell_type": "code",
   "execution_count": 5,
   "metadata": {},
   "outputs": [
    {
     "name": "stdout",
     "output_type": "stream",
     "text": [
      "F9m= 1.2407\n"
     ]
    }
   ],
   "source": [
    "F9m = exp((r-q)*T)*S\n",
    "print(\"F9m= {0:.4f}\".format(F9m))"
   ]
  },
  {
   "cell_type": "markdown",
   "metadata": {},
   "source": [
    "b)  __(4 points)__ The bank enters the forward contract to sell $100m$ GBP to USD at 9m forward rate (calculated in a)). \n",
    "\n",
    " In 3 months the exchange rate changed to $1.2$ , and USD interest rate goes down to $0\\%$. \n",
    "\n",
    "- Marked to market the forward contract.<br/>\n",
    "\n",
    "c) __(4 points)__ Marked to market the forward contract using alternative approach by switching asset and money. <br/>\n",
    "\n",
    "\n"
   ]
  },
  {
   "cell_type": "code",
   "execution_count": 6,
   "metadata": {},
   "outputs": [
    {
     "name": "stdout",
     "output_type": "stream",
     "text": [
      "Fnew= 1.1881\n",
      "V= 5.260 M USD\n"
     ]
    }
   ],
   "source": [
    "# b)\n",
    "N = 100\n",
    "S1, r1, T1 = 1.2, 0.0, 6/12\n",
    "Fnew = exp((r1-q)*T1)*S1\n",
    "# short position\n",
    "V = -exp(-r1*T1)*(Fnew-F9m)*N\n",
    "print(\"Fnew= {0:.4f}\".format(Fnew))\n",
    "print(\"V= {0:.3f} M USD\".format(V))"
   ]
  },
  {
   "cell_type": "code",
   "execution_count": 7,
   "metadata": {},
   "outputs": [
    {
     "name": "stdout",
     "output_type": "stream",
     "text": [
      "Fnew= 0.842\n",
      "V= 4.383 M GBP\n",
      "V= 5.260 M USD\n"
     ]
    }
   ],
   "source": [
    "# c)\n",
    "N=100*F9m\n",
    "# X=1/S\n",
    "X, r, q, T = 1/S, 0.02, 0.01, 9/12\n",
    "XF9m = exp((r-q)*T)*X\n",
    "X1, r1, q1, T1 = 1/S1, r, 0, 6/12\n",
    "XFnew = exp((r1-q1)*T1)*X1\n",
    "VGBP = exp(-r1*T1)*(XFnew-XF9m)*N\n",
    "VUSD = VGBP*S1\n",
    "print(\"Fnew= {0:.3f}\".format(XFnew))\n",
    "print(\"V= {0:.3f} M GBP\".format(VGBP))\n",
    "print(\"V= {0:.3f} M USD\".format(VUSD))"
   ]
  },
  {
   "cell_type": "markdown",
   "metadata": {},
   "source": [
    "<br>\n",
    "\n",
    "### Problem 2"
   ]
  },
  {
   "cell_type": "markdown",
   "metadata": {},
   "source": [
    "The same market data as in Problem 1. a) point:\n",
    "\n",
    "The current GBP/USD exchange rate is $S = 1.25$. <br/>\n",
    "The risk free interest rates are $2\\%$ (for GBP) and $1\\%$ (for USD) (continuous compounding).\n",
    "\n",
    "a) __(3 points)__  Which option is more expensive, European Call option with strike $K=1.25$ (a right to buy 1 GBP for 1.25 USD) and maturity $T=1$, or European Put option with the same strike and maturity? Do you have enough info to answer this question? If not, which additional info do you need?\n",
    "\n",
    "\n",
    "b) __(2 points)__ Which option is more expensive, European Put option with strike $K=1.3$  and maturity $T=1$, or European Call option with with strike $K=1.25$ and the same maturity? Do you have enough info to answer this question?\n",
    "\n",
    "\n"
   ]
  },
  {
   "cell_type": "markdown",
   "metadata": {
    "id": "yN8BvauD2e5R"
   },
   "source": [
    "### _Solution_"
   ]
  },
  {
   "cell_type": "markdown",
   "metadata": {},
   "source": [
    "a)\n",
    "\n",
    "by P-C parity:\n",
    "\n",
    "$C(K)-P(K) = V(K) = Se^{-yT} - Ke^{-xT}$\n",
    "\n"
   ]
  },
  {
   "cell_type": "code",
   "execution_count": 8,
   "metadata": {},
   "outputs": [
    {
     "data": {
      "text/plain": [
       "0.012313950553016095"
      ]
     },
     "execution_count": 8,
     "metadata": {},
     "output_type": "execute_result"
    }
   ],
   "source": [
    "K, T = 1.25, 1\n",
    "VK = exp(-q*T)*S - exp(-r*T)*K\n",
    "VK"
   ]
  },
  {
   "cell_type": "markdown",
   "metadata": {},
   "source": [
    "Since $V(K)<0$, it follows $C<P$"
   ]
  },
  {
   "cell_type": "markdown",
   "metadata": {},
   "source": [
    "b)\n",
    "\n",
    "Since P(K=1.3) > P(K=1.25) (Put is an increasing function of K), and from a) \n"
   ]
  },
  {
   "cell_type": "markdown",
   "metadata": {},
   "source": [
    "<br>\n",
    "\n",
    "### Problem 3"
   ]
  },
  {
   "cell_type": "markdown",
   "metadata": {},
   "source": [
    "The current GBP/USD exchange rate is $S = 1.25$. <br/>\n",
    "\n",
    "__The risk free interest rates are $0\\%$ (for GBP)__ and $1\\%$ (for USD) (continuous compounding). Additionally, volatility $\\sigma = 12\\%$. <br/>\n",
    "\n",
    "Pay attention, that GBP interest rate is __zero__ now.\n"
   ]
  },
  {
   "cell_type": "markdown",
   "metadata": {
    "id": "yN8BvauD2e5R"
   },
   "source": [
    "### _Solution_"
   ]
  },
  {
   "cell_type": "markdown",
   "metadata": {},
   "source": [
    "a) __(2 points)__  Build 4-period binomial tree for the exchange rate for the total time horizon of T=12 months (it mean each period length is $\\Delta t$=3 month) (also calculate u,d,p, and probabilities of all nodes)"
   ]
  },
  {
   "cell_type": "code",
   "execution_count": 9,
   "metadata": {},
   "outputs": [
    {
     "name": "stdout",
     "output_type": "stream",
     "text": [
      "Tree for S\n",
      "1.25   \n",
      "1.18   1.33   \n",
      "1.11   1.25   1.41   \n",
      "1.04   1.18   1.33   1.50   \n",
      "0.98   1.11   1.25   1.41   1.59   \n",
      "\n",
      "Tree for Probs\n",
      "1.00   \n",
      "0.49   0.51   \n",
      "0.24   0.50   0.26   \n",
      "0.12   0.37   0.38   0.13   \n",
      "0.06   0.24   0.37   0.26   0.07   \n"
     ]
    }
   ],
   "source": [
    "S, r, T, vol = 1.25, 0.01, 12/12, .12\n",
    "\n",
    "# create class instance a (Tree object)\n",
    "a = Binomial(S,T,r,0,vol,4)\n",
    "a.ShowTreeS()\n",
    "print(\"\")\n",
    "a.ShowTreeProb()"
   ]
  },
  {
   "cell_type": "markdown",
   "metadata": {},
   "source": [
    "b) __(2 points)__ Calculate the price of Europian Call option with strike $K = 1.25$ GBP/USD. Maturity $T = 6m$. \n"
   ]
  },
  {
   "cell_type": "code",
   "execution_count": 10,
   "metadata": {},
   "outputs": [
    {
     "name": "stdout",
     "output_type": "stream",
     "text": [
      "Call = 0.041 USD\n"
     ]
    }
   ],
   "source": [
    "K = 1.25\n",
    "C6m = a.df**2*(a.TreeProb[2][2]*(a.TreeS[2][2]-K))\n",
    "print(\"Call = {0:.3f} USD\".format(C6m))"
   ]
  },
  {
   "cell_type": "markdown",
   "metadata": {},
   "source": [
    "c) __(4 points)__ Calculate the price of Barrier Call with strike $K = 1.25$ GBP/USD with __knock-out__ barrier at level $B= 1.2$. Maturity of the option is $1Y$.\n"
   ]
  },
  {
   "cell_type": "markdown",
   "metadata": {},
   "source": [
    "Paths in the money: $uuuu$, $uduu$, $uudu$, $uuud$\n"
   ]
  },
  {
   "cell_type": "code",
   "execution_count": 11,
   "metadata": {},
   "outputs": [
    {
     "name": "stdout",
     "output_type": "stream",
     "text": [
      "Barrier Call = 0.052 USD\n"
     ]
    }
   ],
   "source": [
    "# expected payoff related to uuuu\n",
    "Pf1 = a.p**4*(a.TreeS[4][4]-K)\n",
    "# expected payoff related to the rest of paths\n",
    "Pf2 = a.p**3*(1-a.p)*(a.TreeS[4][3]-K)\n",
    "# Price\n",
    "BC = a.df**4*(Pf1 + 3*Pf2)\n",
    "print(\"Barrier Call = {0:.3f} USD\".format(BC))"
   ]
  },
  {
   "cell_type": "markdown",
   "metadata": {},
   "source": [
    "d) __(5 points)__ How to hedge Barrier option from c) at time $t= 3$ months at node (1,1) (up time from intial level) using underlying asset."
   ]
  },
  {
   "cell_type": "code",
   "execution_count": 20,
   "metadata": {},
   "outputs": [
    {
     "data": {
      "text/plain": [
       "0.7845093876887156"
      ]
     },
     "execution_count": 20,
     "metadata": {},
     "output_type": "execute_result"
    }
   ],
   "source": [
    "# from node (1,1) we do to up: (2,2) or down: (2,1) \n",
    "# consider (2,2); 3 paths are in the money: uu, ud, du\n",
    "# similar to point c)\n",
    "Cup = a.df**2*(a.p**2*(a.TreeS[4][4]-K) + 2*a.p*(1-a.p)*(a.TreeS[4][3]-K))\n",
    "# consider (2,1); 1 path is in the money: uu\n",
    "Cd = a.df**2*a.p**2*(a.TreeS[4][3]-K)\n",
    "Delta = (Cup - Cd)/(a.TreeS[2][2]-a.TreeS[2][1])\n",
    "Delta"
   ]
  },
  {
   "cell_type": "markdown",
   "metadata": {},
   "source": [
    "__Hedge__: Long Barrier Call and short delta GBP/USD"
   ]
  },
  {
   "cell_type": "markdown",
   "metadata": {},
   "source": [
    "e) __(3 points)__ Calculate the current price of derivative, which pays 100 GBP at time $T$ if GBP/USD exchange $S_T<1.25$."
   ]
  },
  {
   "cell_type": "code",
   "execution_count": 14,
   "metadata": {},
   "outputs": [
    {
     "data": {
      "text/plain": [
       "32.60283588883036"
      ]
     },
     "execution_count": 14,
     "metadata": {},
     "output_type": "execute_result"
    }
   ],
   "source": [
    "a.df**4*100*(a.TreeProb[4][0]*a.TreeS[4][0] + a.TreeProb[4][1]*a.TreeS[4][1])"
   ]
  },
  {
   "cell_type": "markdown",
   "metadata": {},
   "source": [
    "<br>\n",
    "\n",
    "### Problem 4.1"
   ]
  },
  {
   "cell_type": "markdown",
   "metadata": {},
   "source": [
    "__Market data for 4.1 and 4.2__: The same market data as in Problem 1. a) point:\n",
    "\n",
    "The current GBP/USD exchange rate is $S = 1.25$. <br/>\n",
    "The risk free interest rates are $2\\%$ (for GBP) and $1\\%$ (for USD) (continuous compounding). Volatility $\\sigma = 12\\%$. <br/>  <br/>"
   ]
  },
  {
   "cell_type": "markdown",
   "metadata": {},
   "source": [
    "\n",
    " __(6 points)__ Consider 6 month DCD (dual/multi currency deposit). The notional is $N =1000$ GBP. In the case, GBP will be greater that $K=1.4$ at maturity, the holder will receive $N*K$ USD instead of notional N GBP and __NO Interest__.. \n",
    "\n",
    "So payoff can be written as:\n",
    "\n",
    "\n",
    "- $e^{(r_{GBP}+y)T}N$ GBP if $S_T < K$\n",
    "\n",
    "- $NK$ USD if $S_T >= K$\n",
    "\n",
    "\n",
    "\n",
    "Find the replication portfolio and calculate fair yield enhancement $y$.\n"
   ]
  },
  {
   "cell_type": "markdown",
   "metadata": {
    "id": "yN8BvauD2e5R"
   },
   "source": [
    "### _Solution_"
   ]
  },
  {
   "cell_type": "markdown",
   "metadata": {},
   "source": [
    "Can be replicated as \n",
    "\n",
    "* deposit in GBP paying at $T$: $e^{(r_{GBP}+y)T}N$. It is current value is $e^{yT}NS_0$ USD.\n",
    "\n",
    "* short Call with notional $e^{(r_{GBP}+y)T}N$;\n",
    "    \n",
    "  (payoff is $e^{(r_{GBP}+y)T}NK$ USD if $S_T>K$)\n",
    "  \n",
    "* short Binary paying notional $NK (e^{(r_{GBP}+y)T}-1)$ in USD if $S_T>K$\n"
   ]
  },
  {
   "cell_type": "code",
   "execution_count": 37,
   "metadata": {},
   "outputs": [
    {
     "name": "stdout",
     "output_type": "stream",
     "text": [
      "P0 = 1.2500 \n"
     ]
    }
   ],
   "source": [
    "S, r, q = 1.25, 0.01, 0.02\n",
    "vol = 0.12\n",
    "wUSD = BSM(S,vol,r,q)\n",
    "\n",
    "y = 0.0092\n",
    "T = 6/12\n",
    "K = 1.4\n",
    "# N=1\n",
    "Price = exp(y*T)*S - exp((y+q)*T)*wUSD.Call(K,T) - (1-wUSD.Pr(K,T))*exp(-r*T)*(exp((y+q)*T)-1)*K\n",
    "print(\"P0 = {0:.4f} \".format(Price))"
   ]
  },
  {
   "cell_type": "markdown",
   "metadata": {},
   "source": [
    "<br>\n",
    "\n",
    "### Problem 4.2"
   ]
  },
  {
   "cell_type": "markdown",
   "metadata": {},
   "source": [
    "__(4 points)__ Calculate the current price of derivative, which pays the min(1.25 mln USD, 1 mln GBP) in 1 year. "
   ]
  },
  {
   "cell_type": "markdown",
   "metadata": {
    "id": "yN8BvauD2e5R"
   },
   "source": [
    "### _Solution_"
   ]
  },
  {
   "cell_type": "markdown",
   "metadata": {},
   "source": [
    "$min(S,K) = K + min(S-K,0)= K - max(K-S,0)$\n",
    "\n",
    "Long Discount bond and short Put option"
   ]
  },
  {
   "cell_type": "code",
   "execution_count": 38,
   "metadata": {},
   "outputs": [
    {
     "data": {
      "text/plain": [
       "1.1722853079673419"
      ]
     },
     "execution_count": 38,
     "metadata": {},
     "output_type": "execute_result"
    }
   ],
   "source": [
    "K = S\n",
    "exp(-r*T)*K - wUSD.Put(K,T)"
   ]
  },
  {
   "cell_type": "markdown",
   "metadata": {},
   "source": [
    "<br>\n",
    "\n",
    "### Problem 4.3"
   ]
  },
  {
   "cell_type": "markdown",
   "metadata": {},
   "source": [
    "__(4 points)__ \n",
    "\n",
    "This is an analytical question.\n",
    "\n",
    "Assume a Black-Scholes world. The underlying stock does not pay dividends and interest rate is zero. Volatility is $\\sigma >0$.\n",
    "\n",
    "Compare prices of two binary options:\n",
    "\n",
    "1. It pays N USD if $S_T > S_0$\n",
    "\n",
    "2. It pays N USD if $S_T < S_0$\n",
    "\n",
    "Do you have enough info to find out, which option is more expensive. Justify your answer.\n",
    "\n"
   ]
  },
  {
   "cell_type": "markdown",
   "metadata": {
    "id": "yN8BvauD2e5R"
   },
   "source": [
    "### _Solution_"
   ]
  },
  {
   "cell_type": "markdown",
   "metadata": {},
   "source": [
    "The price of digital is equal to $N Pr\\{A\\}$, where $A$ is an event. $S_T > S_0$ or $S_T < S_0$ in our case.\n",
    "\n",
    "$S_T = S_0e^{(-\\sigma^2/2)T + \\sigma \\sqrt{T} \\epsilon}$, or $S_T = S_0e^{y_T}$, \n",
    "where $y_T \\sim N(-\\sigma^2T/2 ,\\sigma^2 T)$.  We took into account that $r=0$.\n",
    "\n",
    "It follows that $S_T > S_0$ is equavalent to $y_T > 0$. \n",
    "\n",
    "Since $E(y_T)<0 \\implies \\Pr(y_T > 0)<\\frac{1}{2}$ and $\\Pr(y_T < 0)>\\frac{1}{2}$.\n",
    "\n",
    "It implies than the second binary is more expensive than the first one."
   ]
  },
  {
   "cell_type": "code",
   "execution_count": null,
   "metadata": {},
   "outputs": [],
   "source": []
  },
  {
   "cell_type": "markdown",
   "metadata": {
    "id": "V-aVH1Nu2e5Q"
   },
   "source": [
    "### Problem 5"
   ]
  },
  {
   "cell_type": "markdown",
   "metadata": {
    "id": "a6YlLaE02e5R"
   },
   "source": [
    "__a)__ (2 points) Gold mining company plan to enter a forward contract with the bank. According to the contract, the bank will sell 1000 ounces of gold to the mining company at maturity for the price, which is fixed now. Is it right, wrong way risk or no risk at all for the bank, and explain why?\n",
    "\n",
    "__b)__ (2 points) A bank bought PUT option on USD/RUB exchange rate from the importer? Is it right, wrong way risk or no risk at all for the bank, and explain why? Definition of an importer: revenures in RUB, cost in USD."
   ]
  },
  {
   "cell_type": "markdown",
   "metadata": {
    "id": "yN8BvauD2e5R"
   },
   "source": [
    "### _Solution_"
   ]
  },
  {
   "cell_type": "markdown",
   "metadata": {
    "id": "xAk01_Oc2e5R"
   },
   "source": [
    "__a)__ wwr: bank profit from contract when gold goes down, not good situation for mining company.\n",
    "\n",
    "__b)__ rwr: bank profit from contract when USD/RUB goes down, a good situation for  the importer."
   ]
  },
  {
   "cell_type": "code",
   "execution_count": null,
   "metadata": {},
   "outputs": [],
   "source": []
  }
 ],
 "metadata": {
  "kernelspec": {
   "display_name": "Python 3 (ipykernel)",
   "language": "python",
   "name": "python3"
  },
  "language_info": {
   "codemirror_mode": {
    "name": "ipython",
    "version": 3
   },
   "file_extension": ".py",
   "mimetype": "text/x-python",
   "name": "python",
   "nbconvert_exporter": "python",
   "pygments_lexer": "ipython3",
   "version": "3.9.7"
  }
 },
 "nbformat": 4,
 "nbformat_minor": 4
}
