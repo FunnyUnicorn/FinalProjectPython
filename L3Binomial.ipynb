{
 "cells": [
  {
   "cell_type": "markdown",
   "metadata": {
    "slideshow": {
     "slide_type": "slide"
    }
   },
   "source": [
    "# __Binomial__"
   ]
  },
  {
   "cell_type": "markdown",
   "metadata": {},
   "source": [
    "Based on __Hull: Options, Futures and other derivatives, 9th edition__\n",
    "\n",
    "__Charter 13__"
   ]
  },
  {
   "cell_type": "code",
   "execution_count": 1,
   "metadata": {},
   "outputs": [],
   "source": [
    "from IPython.core.display import SVG\n",
    "from IPython.display import Image"
   ]
  },
  {
   "cell_type": "markdown",
   "metadata": {},
   "source": [
    "<br>\n",
    "\n",
    "## __Introductory Example__"
   ]
  },
  {
   "cell_type": "markdown",
   "metadata": {},
   "source": [
    "* Current stock price: $S=\\$ 100$ \n",
    "* Call Strike: $K=\\$ 100$\n",
    "* Maturity: $T = 1Y$ \n",
    "* Interest rate: $r=0\\%$\n",
    "\n",
    "\n",
    "At the end of the period (one year) the stock can go: \n",
    "* either up to $S_u = \\$120$ with prob $q = 50\\%$\n",
    "* or down to $S_d = \\$90$ with prob $1-q = 50\\%$"
   ]
  },
  {
   "cell_type": "code",
   "execution_count": 2,
   "metadata": {},
   "outputs": [
    {
     "data": {
      "image/png": "[encoded data removed]",
      "text/plain": [
       "<IPython.core.display.Image object>"
      ]
     },
     "execution_count": 2,
     "metadata": {
      "image/png": {
       "width": 450
      }
     },
     "output_type": "execute_result"
    }
   ],
   "source": [
    "Image(\"img/Binom.png\", width =450)"
   ]
  },
  {
   "cell_type": "markdown",
   "metadata": {
    "heading_collapsed": "true"
   },
   "source": [
    "#### __Solution__: Replicate Call  \n",
    "\n",
    "Create porfolio at $t=0$:\n",
    "\n",
    "1. Buy $\\Delta$ number of the stocks $S$\n",
    "\n",
    "2. Borrow $B$ dollars \n",
    "\n",
    "Solve for $\\Delta$ and $B$, which replicates the Call payoff at $T$:\n",
    "\n",
    "$\\Delta S_T - B = (S_T-K)^{+} $\n",
    "\n",
    "or:\n",
    "\n",
    "_up_: $\\Delta*\\$120-B = \\$20 $ \n",
    "\n",
    "_down_: $\\Delta*\\$90-B = 0$\n",
    "\n",
    "_Solution_: $\\Delta=\\frac{2}{3}$, $B= \\$60$\n",
    "\n",
    "Porfolio's currect price is $\\frac{2}{3}\\$100-\\$60 = \\$\\frac{20}{3}$.\n",
    "\n",
    "* Therefore, the Call price is equal to $\\$\\frac{20}{3}$ \n",
    "\n",
    "__To price the call we needed the following data:__\n",
    "\n",
    "* $K$, $S$, $r$, $T$ (time to maturity), range of the stock movement: $u$, $d$ \n",
    "\n",
    "__We did not need:__ \n",
    "\n",
    "* The probabilities $q$ and $(1 - q)$ that the stock will go up or down. \n",
    "\n",
    "We have priced the option _relative_ to _the underlying stock and the risk-free rate_.  "
   ]
  },
  {
   "cell_type": "markdown",
   "metadata": {},
   "source": [
    "<br>\n",
    "\n",
    "## __One-Period Binomial Model__\n",
    "\n",
    "<br>\n",
    "\n",
    "### __Approach 1: Replicating Portfolio__ \n",
    "\n",
    "* We constructing a portfolio, which replicates payoff of the Call option. By _the law of the one price (from the no-arbitrage argument)_, the current values the portfolio and the option should be equal.\n",
    "\n",
    "* We assume the underlying asset pays no dividends (we will relax this assumption later). We also assume that $0<d< e^{r∆t}<u$ (this is an important assumption) "
   ]
  },
  {
   "cell_type": "code",
   "execution_count": 3,
   "metadata": {},
   "outputs": [
    {
     "data": {
      "image/png": "[encoded data removed]",
      "text/plain": [
       "<IPython.core.display.Image object>"
      ]
     },
     "execution_count": 3,
     "metadata": {
      "image/png": {
       "width": 550
      }
     },
     "output_type": "execute_result"
    }
   ],
   "source": [
    "Image(\"img/binom2.png\", width =550)"
   ]
  },
  {
   "cell_type": "markdown",
   "metadata": {},
   "source": [
    "In general case:\n",
    "\n",
    "* Let us select $∆$ and $B$ so that the end-of-period values of our portfolio are equal to the option payoffs for each possible outcome:\n",
    "\n",
    "_up_: $\\Delta uS - B = C_u $ \n",
    "\n",
    "_down_: $\\Delta dS - B = C_d$\n",
    "\n",
    "Solve these two equations for $∆$ and $B$:\n",
    "\n",
    "$\\Delta = \\frac{C_u -C_d}{(u-d)S}~~~~~~~~~~~~~~~~~~~~~~~~~~~~~~~~~~~~~$  (__Delta__ of the option)\n",
    "\n",
    "$B = e^{-r∆t}\\Bigl(\\frac{dC_u - uC_d}{u-d}\\Bigl)~~~~~~~~~~~~~~~~~~~~~$ (Amount to borrow)\n"
   ]
  },
  {
   "cell_type": "markdown",
   "metadata": {},
   "source": [
    "Thus, portfolio $\\Delta S - B$ replicates the Call option $C$, and therefore:\n",
    "\n",
    "$$ C = \\Delta S - B $$"
   ]
  },
  {
   "cell_type": "markdown",
   "metadata": {},
   "source": [
    "#### __One-Period Binomial Pricing Formula__\n",
    "\n",
    "\n",
    "Substitute the expressions for ∆ and B into the pricing formula:\n",
    "\n",
    "\n",
    "$C = \\Delta S - B = \\frac{C_u -C_d}{(u-d)S} S + e^{-r∆t}\\Bigl(\\frac{dC_u - uC_d}{u-d}\\Bigl) = e^{-r∆t} \\Bigl(\\Bigl(\\frac{e^{r∆t} - d}{u-d}\\Bigl)C_u  + \\Bigl(\\frac{u - e^{r∆t}}{u-d}\\Bigl)C_d\\Bigl) = e^{-r∆t} [ p C_u  + (1-p)C_d]$\n",
    "\n",
    "where \n",
    "\n",
    "$p = \\frac{e^{r∆t} - d}{u-d}~~$ and $~~1-p = \\frac{u - e^{r∆t}}{u-d}$\n",
    "\n",
    "Just like pricing forwards, we constructed a synthetic option.\n",
    "\n",
    "Note, that the probabilities $q$ and $1 - q$ do not appear anywhere in the formula! The call price relative to $S$ and $r$ does not depend on investorsí attitudes toward risk.\n"
   ]
  },
  {
   "cell_type": "markdown",
   "metadata": {},
   "source": [
    "#### __Risk-Neutral Probabilities__\n",
    "\n",
    "\n",
    "The quantities $p$ and $(1-p)$ are called _risk-neutral probabilities_.\n",
    "\n",
    "As long as  $0<d<e^{r∆t}<u<1$, they are between $0$ and $1$.\n",
    "\n",
    "In the risk-neutral world, investors are risk-neutral and do not require any risk premium for holding risky assets. Expected rate of return on all assets is equal to the risk-free rate.\n",
    "\n",
    "Let's check it for stock price:\n",
    "\n",
    "$puS + (1-p)dS = \\Bigl[\\Bigl(\\frac{e^{r∆t} - d}{u-d}\\Bigl)u  + \\Bigl(\\frac{u - e^{r∆t}}{u-d}\\Bigl)d\\Bigl]S = e^{r∆t}S$\n",
    "\n",
    "Inded, the expected rate of return of stock is equal to the risk neutral rate $r$.\n"
   ]
  },
  {
   "cell_type": "markdown",
   "metadata": {
    "heading_collapsed": "true"
   },
   "source": [
    "#### __Risk-Neutral Valuation Formula__"
   ]
  },
  {
   "cell_type": "markdown",
   "metadata": {},
   "source": [
    "$C = e^{-r∆t} [ p C_u  + (1-p)C_d]$"
   ]
  },
  {
   "cell_type": "markdown",
   "metadata": {
    "heading_collapsed": "true"
   },
   "source": [
    "<br>\n",
    "\n",
    "### __Approach 2: Alternative and equivalent derivation using Hedged Portfolio__  \n",
    "\n",
    "\n",
    "Set up a portfolio: \n",
    "\n",
    "1. Short 1 Call \n",
    "\n",
    "2. Long ∆ shares S\n",
    "\n",
    "$\\Pi_{0}=\\Delta*S-C$\n",
    "\n",
    "_For portfolio to be risk-less_ at time $T$ its values at both states should be the same:\n",
    "\n",
    " $\\Pi_{u} = \\Pi_{d}$, or\n",
    " \n",
    " $\\Delta S_u - C_u  = \\Delta S_d - C_d$\n",
    " \n",
    " Solve for ∆:\n",
    " \n",
    " $\\Delta = \\frac{C_u - C_d}{(u-d)S}$\n",
    "\n",
    "Portfolio is riskless => must earn interest at the risk-free rate, i.e.,\n",
    "\n",
    "\n",
    "$\\Pi_T=e^{r∆t}\\Pi_0$, or\n",
    "\n",
    "\n",
    "$\\Delta \\cdot uS - C_U = e^{rT} (\\Delta S - C)$\n",
    "\n",
    "or\n",
    "\n",
    "$ C = \\Bigl(\\frac{C_u -C_d}{u-d} \\Bigl)(1-ue^{-r∆t}) +e^{-r∆t}C_u~= e^{-r∆t}\\Bigl[\\Bigl(\\frac{e^{r∆t} -u}{u-d} +1 \\Bigl)C_u + \\Bigl(\\frac{u-e^{r∆t}}{u-d}\\Bigl) \\Bigl] = e^{-r∆t}\\Bigl[\\Bigl(\\frac{e^{r∆t} -d}{u-d} \\Bigl)C_u + \\Bigl(\\frac{u-e^{r∆t}}{u-d}\\Bigl) \\Bigl] = e^{-r∆t} [ p C_u  + (1-p)C_d]$\n",
    "\n",
    "This derivation of the option pricing based on the _hedged portfolio_ is completely\n",
    "equivalent to the first derivation based on the _replicating portfolio_. "
   ]
  },
  {
   "cell_type": "markdown",
   "metadata": {},
   "source": [
    "<br>\n",
    "\n",
    "## __Existence and Uniqueness of Risk-Neutral Probabilities, Absence of Arbitrage Opportunities, and Market Completeness__ "
   ]
  },
  {
   "cell_type": "markdown",
   "metadata": {},
   "source": [
    "* The one-period binomial model contains one risky asset (a stock S) and one risk-free\n",
    "asset (one-period money market account or risk-free zero-coupon bond). \n",
    "\n",
    "* More general models are multi-period (or continuous time) and include multiple risky assets, along with the risk-free asset (money market account). The very simple binomial model already contains many of the features of more general models. \n",
    "\n",
    "#### __The First Fundamental Theorem of Asset Pricing__\n",
    "\n",
    "Risk-neutral probabilities (risk-neutral probability measure) exist if and only if there are no arbitrage opportunities in the model.\n",
    "\n",
    "#### __Replicable Claim__\n",
    "\n",
    "A contingent claim is said to be _replicable_ if it can be exactly replicated by an\n",
    "equivalent replicating portfolio of primitive underlying securities. \n",
    "\n",
    "#### __Complete Model__\n",
    "\n",
    "A model is said to be _complete_ if all contingent claims are replicable in this model.\n",
    "\n",
    "#### __The Second Fundamental Theorem of Asset Pricing__\n",
    "\n",
    "The risk-neutral probability measure is unique if and only if the market is complete.\n",
    "\n",
    "The __binomial model__: \n",
    "\n",
    "* Since $0<d< e^{r∆t}<u~~$ => admits no arbitrage opportunities \n",
    "\n",
    "* It is complete $~~$\n",
    "\n",
    "* Therefore, there exists a unique risk-neutral probability measure (risk-neutral probabilities $p$ and $1-p$). "
   ]
  },
  {
   "cell_type": "markdown",
   "metadata": {},
   "source": [
    "<br>\n",
    "\n",
    "## __Two-Period Binomial Model__ "
   ]
  },
  {
   "cell_type": "code",
   "execution_count": 4,
   "metadata": {},
   "outputs": [
    {
     "data": {
      "image/svg+xml": [
       "<svg fill=\"none\" stroke=\"none\" stroke-linecap=\"square\" stroke-miterlimit=\"10\" version=\"1.1\" viewBox=\"0.0 0.0 777.2073490813648 402.4803149606299\" xmlns=\"http://www.w3.org/2000/svg\" xmlns:xlink=\"http://www.w3.org/1999/xlink\"><clipPath id=\"p.0\"><path clip-rule=\"nonzero\" d=\"m0 0l777.20734 0l0 402.48032l-777.20734 0l0 -402.48032z\"/></clipPath><g clip-path=\"url(#p.0)\"><path d=\"m0 0l777.20734 0l0 402.48032l-777.20734 0z\" fill=\"#000000\" fill-opacity=\"0.0\" fill-rule=\"evenodd\"/><path d=\"m124.629036 175.583l125.259834 -62.456688\" fill=\"#000000\" fill-opacity=\"0.0\" fill-rule=\"evenodd\"/><path d=\"m124.629036 175.58301l119.89033 -59.779366\" fill-rule=\"evenodd\" stroke=\"#000000\" stroke-linecap=\"butt\" stroke-linejoin=\"round\" stroke-width=\"1.0\"/><path d=\"m245.2564 117.281815l3.3242035 -3.5031815l-4.798279 0.54683685z\" fill=\"#000000\" fill-rule=\"evenodd\" stroke=\"#000000\" stroke-linecap=\"butt\" stroke-width=\"1.0\"/><path d=\"m124.63092 177.90059l127.68504 45.85826\" fill=\"#000000\" fill-opacity=\"0.0\" fill-rule=\"evenodd\"/><path d=\"m124.63091 177.90059l122.0382 43.8302\" fill-rule=\"evenodd\" stroke=\"#000000\" stroke-linecap=\"butt\" stroke-linejoin=\"round\" stroke-width=\"1.0\"/><path d=\"m246.11081 223.2853l4.8293 -0.020568848l-3.7126923 -3.0884552z\" fill=\"#000000\" fill-rule=\"evenodd\" stroke=\"#000000\" stroke-linecap=\"butt\" stroke-width=\"1.0\"/><path d=\"m81.3727 142.04724l78.173225 0l0 46.960632l-78.173225 0z\" fill=\"#000000\" fill-opacity=\"0.0\" fill-rule=\"evenodd\"/><path d=\"m90.91958 159.80162l1.0625 -0.09375q0.078125 0.65625 0.359375 1.0625q0.28125 0.40625 0.859375 0.671875q0.59375 0.25 1.328125 0.25q0.640625 0 1.140625 -0.1875q0.5 -0.203125 0.734375 -0.53125q0.25 -0.34375 0.25 -0.734375q0 -0.40625 -0.234375 -0.703125q-0.234375 -0.3125 -0.765625 -0.515625q-0.359375 -0.140625 -1.546875 -0.421875q-1.171875 -0.28125 -1.640625 -0.53125q-0.625 -0.328125 -0.921875 -0.796875q-0.296875 -0.484375 -0.296875 -1.078125q0 -0.640625 0.359375 -1.203125q0.375 -0.578125 1.078125 -0.859375q0.71875 -0.296875 1.578125 -0.296875q0.953125 0 1.6875 0.3125q0.734375 0.296875 1.125 0.90625q0.390625 0.59375 0.421875 1.34375l-1.09375 0.078125q-0.09375 -0.8125 -0.609375 -1.21875q-0.5 -0.421875 -1.484375 -0.421875q-1.03125 0 -1.5 0.375q-0.46875 0.375 -0.46875 0.90625q0 0.46875 0.328125 0.765625q0.328125 0.296875 1.703125 0.609375q1.390625 0.3125 1.90625 0.546875q0.75 0.359375 1.109375 0.890625q0.359375 0.515625 0.359375 1.21875q0 0.6875 -0.390625 1.296875q-0.390625 0.59375 -1.125 0.9375q-0.734375 0.328125 -1.65625 0.328125q-1.171875 0 -1.96875 -0.328125q-0.78125 -0.34375 -1.234375 -1.03125q-0.4375 -0.6875 -0.453125 -1.546875z\" fill=\"#000000\" fill-rule=\"nonzero\"/><path d=\"m91.2477 176.56725l0 -8.59375l3.234375 0q0.984375 0 1.578125 0.265625q0.59375 0.265625 0.921875 0.8125q0.34375 0.53125 0.34375 1.125q0 0.546875 -0.296875 1.03125q-0.296875 0.484375 -0.90625 0.78125q0.78125 0.234375 1.1875 0.796875q0.421875 0.546875 0.421875 1.296875q0 0.59375 -0.25 1.125q-0.25 0.515625 -0.625 0.796875q-0.375 0.28125 -0.953125 0.421875q-0.5625 0.140625 -1.375 0.140625l-3.28125 0zm1.140625 -4.984375l1.859375 0q0.75 0 1.078125 -0.09375q0.4375 -0.125 0.65625 -0.421875q0.21875 -0.3125 0.21875 -0.765625q0 -0.421875 -0.203125 -0.75q-0.203125 -0.328125 -0.59375 -0.4375q-0.375 -0.125 -1.296875 -0.125l-1.71875 0l0 2.59375zm0 3.96875l2.140625 0q0.546875 0 0.765625 -0.046875q0.40625 -0.0625 0.65625 -0.21875q0.265625 -0.171875 0.4375 -0.484375q0.171875 -0.3125 0.171875 -0.71875q0 -0.484375 -0.25 -0.84375q-0.234375 -0.359375 -0.671875 -0.5q-0.4375 -0.140625 -1.265625 -0.140625l-1.984375 0l0 2.953125z\" fill=\"#000000\" fill-rule=\"nonzero\"/><path d=\"m97.4352 187.55162l1.125 0.296875q-0.359375 1.390625 -1.28125 2.125q-0.921875 0.734375 -2.265625 0.734375q-1.390625 0 -2.265625 -0.5625q-0.875 -0.5625 -1.328125 -1.625q-0.453125 -1.078125 -0.453125 -2.3125q0 -1.34375 0.515625 -2.34375q0.515625 -1.0 1.453125 -1.515625q0.953125 -0.515625 2.09375 -0.515625q1.28125 0 2.15625 0.65625q0.890625 0.65625 1.234375 1.84375l-1.125 0.265625q-0.296875 -0.9375 -0.875 -1.359375q-0.5625 -0.4375 -1.421875 -0.4375q-0.984375 0 -1.65625 0.484375q-0.65625 0.46875 -0.9375 1.265625q-0.265625 0.796875 -0.265625 1.65625q0 1.09375 0.3125 1.90625q0.328125 0.8125 1.0 1.21875q0.671875 0.40625 1.46875 0.40625q0.953125 0 1.609375 -0.546875q0.671875 -0.546875 0.90625 -1.640625zm7.9472656 -2.03125l-5.671875 0l0 -0.984375l5.671875 0l0 0.984375zm0 2.609375l-5.671875 0l0 -0.984375l5.671875 0l0 0.984375zm3.4296875 0.328125q0 -0.21875 0 -0.328125q0 -0.609375 0.171875 -1.0625q0.125 -0.34375 0.421875 -0.6875q0.203125 -0.25 0.75 -0.734375q0.546875 -0.484375 0.703125 -0.765625q0.171875 -0.296875 0.171875 -0.640625q0 -0.609375 -0.484375 -1.078125q-0.46875 -0.46875 -1.171875 -0.46875q-0.671875 0 -1.125 0.421875q-0.453125 0.421875 -0.59375 1.328125l-1.078125 -0.140625q0.140625 -1.1875 0.859375 -1.828125q0.734375 -0.640625 1.921875 -0.640625q1.265625 0 2.015625 0.6875q0.75 0.6875 0.75 1.65625q0 0.5625 -0.265625 1.046875q-0.265625 0.46875 -1.03125 1.140625q-0.515625 0.453125 -0.6875 0.671875q-0.15625 0.21875 -0.234375 0.5q-0.0625 0.28125 -0.078125 0.921875l-1.015625 0zm-0.0625 2.109375l0 -1.203125l1.203125 0l0 1.203125l-1.203125 0z\" fill=\"#000000\" fill-rule=\"nonzero\"/><path d=\"m128.68242 326.24933l130.26772 0\" fill=\"#000000\" fill-opacity=\"0.0\" fill-rule=\"evenodd\"/><path d=\"m128.68242 326.24933l124.267715 0\" fill-rule=\"evenodd\" stroke=\"#000000\" stroke-linecap=\"butt\" stroke-linejoin=\"round\" stroke-width=\"1.0\"/><path d=\"m252.95013 327.90106l4.538086 -1.6517334l-4.538086 -1.6517029z\" fill=\"#000000\" fill-rule=\"evenodd\" stroke=\"#000000\" stroke-linecap=\"butt\" stroke-width=\"1.0\"/><path d=\"m106.0105 326.24933l78.17323 0l0 46.960632l-78.17323 0z\" fill=\"#000000\" fill-opacity=\"0.0\" fill-rule=\"evenodd\"/><path d=\"m118.10425 345.83185l0.15625 0.921875q-0.453125 0.09375 -0.796875 0.09375q-0.578125 0 -0.890625 -0.171875q-0.3125 -0.1875 -0.453125 -0.484375q-0.125 -0.296875 -0.125 -1.25l0 -3.578125l-0.765625 0l0 -0.8125l0.765625 0l0 -1.546875l1.046875 -0.625l0 2.171875l1.0625 0l0 0.8125l-1.0625 0l0 3.640625q0 0.453125 0.046875 0.578125q0.0625 0.125 0.1875 0.203125q0.125 0.078125 0.359375 0.078125q0.1875 0 0.46875 -0.03125zm6.5839844 -4.109375l-5.671875 0l0 -0.984375l5.671875 0l0 0.984375zm0 2.609375l-5.671875 0l0 -0.984375l5.671875 0l0 0.984375zm1.1640625 -1.796875q0 -1.53125 0.3125 -2.453125q0.3125 -0.9375 0.921875 -1.4375q0.625 -0.5 1.5625 -0.5q0.6875 0 1.203125 0.28125q0.53125 0.28125 0.875 0.8125q0.34375 0.515625 0.53125 1.265625q0.1875 0.75 0.1875 2.03125q0 1.515625 -0.3125 2.4375q-0.296875 0.921875 -0.921875 1.4375q-0.609375 0.5 -1.5625 0.5q-1.234375 0 -1.953125 -0.890625q-0.84375 -1.0625 -0.84375 -3.484375zm1.078125 0q0 2.109375 0.5 2.8125q0.5 0.703125 1.21875 0.703125q0.734375 0 1.21875 -0.703125q0.5 -0.703125 0.5 -2.8125q0 -2.125 -0.5 -2.8125q-0.484375 -0.703125 -1.234375 -0.703125q-0.71875 0 -1.15625 0.609375q-0.546875 0.78125 -0.546875 2.90625z\" fill=\"#000000\" fill-rule=\"nonzero\"/><path d=\"m244.25722 329.49344l48.094498 0l0 30.519684l-48.094498 0z\" fill=\"#000000\" fill-opacity=\"0.0\" fill-rule=\"evenodd\"/><path d=\"m256.35098 349.07593l0.15625 0.921875q-0.453125 0.09375 -0.79689026 0.09375q-0.578125 0 -0.890625 -0.171875q-0.3125 -0.1875 -0.453125 -0.484375q-0.125 -0.296875 -0.125 -1.25l0 -3.578125l-0.765625 0l0 -0.8125l0.765625 0l0 -1.546875l1.046875 -0.625l0 2.171875l1.0625153 0l0 0.8125l-1.0625153 0l0 3.640625q0 0.453125 0.046875 0.578125q0.0625 0.125 0.1875 0.203125q0.125 0.078125 0.359375 0.078125q0.18751526 0 0.46876526 -0.03125zm6.5839844 -4.109375l-5.671875 0l0 -0.984375l5.671875 0l0 0.984375zm0 2.609375l-5.671875 0l0 -0.984375l5.671875 0l0 0.984375zm0.6484375 2.4375l3.296875 -8.59375l1.234375 0l3.515625 8.59375l-8.046875 0zm1.578125 -1.015625l4.78125 0l-1.859375 -4.890625q-0.421875 -1.109375 -0.609375 -1.78125q-0.15625 0.796875 -0.46875 1.640625l-1.84375 5.03125zm9.546875 0.078125l0.15625 0.921875q-0.453125 0.09375 -0.796875 0.09375q-0.578125 0 -0.890625 -0.171875q-0.3125 -0.1875 -0.453125 -0.484375q-0.125 -0.296875 -0.125 -1.25l0 -3.578125l-0.765625 0l0 -0.8125l0.765625 0l0 -1.546875l1.046875 -0.625l0 2.171875l1.0625 0l0 0.8125l-1.0625 0l0 3.640625q0 0.453125 0.046875 0.578125q0.0625 0.125 0.1875 0.203125q0.125 0.078125 0.359375 0.078125q0.1875 0 0.46875 -0.03125z\" fill=\"#000000\" fill-rule=\"nonzero\"/><path d=\"m282.79703 113.126305l125.25983 -62.45669\" fill=\"#000000\" fill-opacity=\"0.0\" fill-rule=\"evenodd\"/><path d=\"m282.79703 113.126305l119.89026 -59.779354\" fill-rule=\"evenodd\" stroke=\"#000000\" stroke-linecap=\"butt\" stroke-linejoin=\"round\" stroke-width=\"1.0\"/><path d=\"m403.42435 54.82512l3.3242188 -3.5031738l-4.7983093 0.54683304z\" fill=\"#000000\" fill-rule=\"evenodd\" stroke=\"#000000\" stroke-linecap=\"butt\" stroke-width=\"1.0\"/><path d=\"m282.79703 223.75885l125.25983 -62.456696\" fill=\"#000000\" fill-opacity=\"0.0\" fill-rule=\"evenodd\"/><path d=\"m282.79703 223.75887l119.89026 -59.779373\" fill-rule=\"evenodd\" stroke=\"#000000\" stroke-linecap=\"butt\" stroke-linejoin=\"round\" stroke-width=\"1.0\"/><path d=\"m403.42435 165.45767l3.3242188 -3.503189l-4.7983093 0.5468445z\" fill=\"#000000\" fill-rule=\"evenodd\" stroke=\"#000000\" stroke-linecap=\"butt\" stroke-width=\"1.0\"/><path d=\"m281.5863 223.75885l127.68503 45.858276\" fill=\"#000000\" fill-opacity=\"0.0\" fill-rule=\"evenodd\"/><path d=\"m281.5863 223.75887l122.03818 43.830185\" fill-rule=\"evenodd\" stroke=\"#000000\" stroke-linecap=\"butt\" stroke-linejoin=\"round\" stroke-width=\"1.0\"/><path d=\"m403.06616 269.14355l4.829315 -0.020568848l-3.7127075 -3.08844z\" fill=\"#000000\" fill-rule=\"evenodd\" stroke=\"#000000\" stroke-linecap=\"butt\" stroke-width=\"1.0\"/><path d=\"m281.5863 113.12499l127.68503 45.85827\" fill=\"#000000\" fill-opacity=\"0.0\" fill-rule=\"evenodd\"/><path d=\"m281.5863 113.12499l122.03818 43.830193\" fill-rule=\"evenodd\" stroke=\"#000000\" stroke-linecap=\"butt\" stroke-linejoin=\"round\" stroke-width=\"1.0\"/><path d=\"m403.06616 158.5097l4.829315 -0.020584106l-3.7127075 -3.0884552z\" fill=\"#000000\" fill-rule=\"evenodd\" stroke=\"#000000\" stroke-linecap=\"butt\" stroke-width=\"1.0\"/><path d=\"m419.46982 13.884515l116.1575 0l0 76.220474l-116.1575 0z\" fill=\"#000000\" fill-opacity=\"0.0\" fill-rule=\"evenodd\"/><path d=\"m429.0167 31.63889l1.0625 -0.09375q0.078125 0.65625 0.359375 1.0625q0.28125 0.40625 0.859375 0.671875q0.59375 0.25 1.328125 0.25q0.640625 0 1.140625 -0.1875q0.5 -0.203125 0.734375 -0.53125q0.25 -0.34375 0.25 -0.734375q0 -0.40625 -0.234375 -0.703125q-0.234375 -0.3125 -0.765625 -0.515625q-0.359375 -0.140625 -1.546875 -0.421875q-1.171875 -0.28125 -1.640625 -0.53125q-0.625 -0.328125 -0.921875 -0.796875q-0.296875 -0.484375 -0.296875 -1.078125q0 -0.640625 0.359375 -1.203125q0.375 -0.578125 1.078125 -0.859375q0.71875 -0.296875 1.578125 -0.296875q0.953125 0 1.6875 0.3125q0.734375 0.296875 1.125 0.90625q0.390625 0.59375 0.421875 1.34375l-1.09375 0.078125q-0.09375 -0.8125 -0.609375 -1.21875q-0.5 -0.421875 -1.484375 -0.421875q-1.03125 0 -1.5 0.375q-0.46875 0.375 -0.46875 0.90625q0 0.46875 0.328125 0.765625q0.328125 0.296875 1.703125 0.609375q1.390625 0.3125 1.90625 0.546875q0.75 0.359375 1.109375 0.890625q0.359375 0.515625 0.359375 1.21875q0 0.6875 -0.390625 1.296875q-0.390625 0.59375 -1.125 0.9375q-0.734375 0.328125 -1.65625 0.328125q-1.171875 0 -1.96875 -0.328125q-0.78125 -0.34375 -1.234375 -1.03125q-0.4375 -0.6875 -0.453125 -1.546875z\" fill=\"#000000\" fill-rule=\"nonzero\"/><path d=\"m439.72372 38.904514l0 -0.609375q-0.484375 0.703125 -1.3125 0.703125q-0.375 0 -0.703125 -0.140625q-0.3125 -0.140625 -0.46875 -0.34375q-0.140625 -0.21875 -0.203125 -0.53125q-0.046875 -0.203125 -0.046875 -0.65625l0 -2.578125l0.703125 0l0 2.3125q0 0.546875 0.046875 0.734375q0.0625 0.28125 0.265625 0.4375q0.21875 0.15625 0.546875 0.15625q0.3125 0 0.578125 -0.15625q0.28125 -0.171875 0.390625 -0.4375q0.125 -0.28125 0.125 -0.8125l0 -2.234375l0.703125 0l0 4.15625l-0.625 0zm4.4492188 0l0 -0.609375q-0.484375 0.703125 -1.3125 0.703125q-0.375 0 -0.703125 -0.140625q-0.3125 -0.140625 -0.46875 -0.34375q-0.140625 -0.21875 -0.203125 -0.53125q-0.046875 -0.203125 -0.046875 -0.65625l0 -2.578125l0.703125 0l0 2.3125q0 0.546875 0.046875 0.734375q0.0625 0.28125 0.265625 0.4375q0.21875 0.15625 0.546875 0.15625q0.3125 0 0.578125 -0.15625q0.28125 -0.171875 0.390625 -0.4375q0.125 -0.28125 0.125 -0.8125l0 -2.234375l0.703125 0l0 4.15625l-0.625 0z\" fill=\"#000000\" fill-rule=\"nonzero\"/><path d=\"m451.7159 29.35764l-5.671875 0l0 -0.984375l5.671875 0l0 0.984375zm0 2.609375l-5.671875 0l0 -0.984375l5.671875 0l0 0.984375zm5.5390625 2.4375l0 -0.921875q-0.734375 1.0625 -1.984375 1.0625q-0.546875 0 -1.03125 -0.203125q-0.46875 -0.21875 -0.703125 -0.53125q-0.234375 -0.328125 -0.328125 -0.796875q-0.0625 -0.296875 -0.0625 -0.984375l0 -3.84375l1.0625 0l0 3.453125q0 0.8125 0.0625 1.109375q0.09375 0.40625 0.40625 0.65625q0.328125 0.234375 0.8125 0.234375q0.46875 0 0.875 -0.234375q0.421875 -0.25 0.59375 -0.671875q0.1875 -0.421875 0.1875 -1.21875l0 -3.328125l1.046875 0l0 6.21875l-0.9375 0z\" fill=\"#000000\" fill-rule=\"nonzero\"/><path d=\"m463.08505 29.23264l0 0.671875l-3.78125 0q-0.015625 -0.25 0.078125 -0.484375q0.140625 -0.390625 0.453125 -0.765625q0.328125 -0.375 0.921875 -0.875q0.9375 -0.765625 1.265625 -1.203125q0.328125 -0.453125 0.328125 -0.84375q0 -0.421875 -0.296875 -0.703125q-0.296875 -0.296875 -0.78125 -0.296875q-0.5 0 -0.8125 0.3125q-0.296875 0.296875 -0.3125 0.84375l-0.71875 -0.078125q0.078125 -0.8125 0.5625 -1.234375q0.484375 -0.421875 1.296875 -0.421875q0.828125 0 1.296875 0.453125q0.484375 0.453125 0.484375 1.140625q0 0.34375 -0.140625 0.671875q-0.140625 0.328125 -0.46875 0.703125q-0.3125 0.359375 -1.078125 1.0q-0.625 0.53125 -0.8125 0.71875q-0.171875 0.1875 -0.296875 0.390625l2.8125 0z\" fill=\"#000000\" fill-rule=\"nonzero\"/><path d=\"m464.0499 31.63889l1.0625 -0.09375q0.078125 0.65625 0.359375 1.0625q0.28125 0.40625 0.859375 0.671875q0.59375 0.25 1.328125 0.25q0.640625 0 1.140625 -0.1875q0.5 -0.203125 0.734375 -0.53125q0.25 -0.34375 0.25 -0.734375q0 -0.40625 -0.234375 -0.703125q-0.234375 -0.3125 -0.765625 -0.515625q-0.359375 -0.140625 -1.546875 -0.421875q-1.171875 -0.28125 -1.640625 -0.53125q-0.625 -0.328125 -0.921875 -0.796875q-0.296875 -0.484375 -0.296875 -1.078125q0 -0.640625 0.359375 -1.203125q0.375 -0.578125 1.078125 -0.859375q0.71875 -0.296875 1.578125 -0.296875q0.953125 0 1.6875 0.3125q0.734375 0.296875 1.125 0.90625q0.390625 0.59375 0.421875 1.34375l-1.09375 0.078125q-0.09375 -0.8125 -0.609375 -1.21875q-0.5 -0.421875 -1.484375 -0.421875q-1.03125 0 -1.5 0.375q-0.46875 0.375 -0.46875 0.90625q0 0.46875 0.328125 0.765625q0.328125 0.296875 1.703125 0.609375q1.390625 0.3125 1.90625 0.546875q0.75 0.359375 1.109375 0.890625q0.359375 0.515625 0.359375 1.21875q0 0.6875 -0.390625 1.296875q-0.390625 0.59375 -1.125 0.9375q-0.734375 0.328125 -1.65625 0.328125q-1.171875 0 -1.96875 -0.328125q-0.78125 -0.34375 -1.234375 -1.03125q-0.4375 -0.6875 -0.453125 -1.546875z\" fill=\"#000000\" fill-rule=\"nonzero\"/><path d=\"m429.34482 48.404514l0 -8.59375l3.234375 0q0.984375 0 1.578125 0.265625q0.59375 0.265625 0.921875 0.8125q0.34375 0.53125 0.34375 1.125q0 0.546875 -0.296875 1.03125q-0.296875 0.484375 -0.90625 0.78125q0.78125 0.234375 1.1875 0.796875q0.421875 0.546875 0.421875 1.296875q0 0.59375 -0.25 1.125q-0.25 0.515625 -0.625 0.796875q-0.375 0.28125 -0.953125 0.421875q-0.5625 0.140625 -1.375 0.140625l-3.28125 0zm1.140625 -4.984375l1.859375 0q0.75 0 1.078125 -0.09375q0.4375 -0.125 0.65625 -0.421875q0.21875 -0.3125 0.21875 -0.765625q0 -0.421875 -0.203125 -0.75q-0.203125 -0.328125 -0.59375 -0.4375q-0.375 -0.125 -1.296875 -0.125l-1.71875 0l0 2.59375zm0 3.96875l2.140625 0q0.546875 0 0.765625 -0.046875q0.40625 -0.0625 0.65625 -0.21875q0.265625 -0.171875 0.4375 -0.484375q0.171875 -0.3125 0.171875 -0.71875q0 -0.484375 -0.25 -0.84375q-0.234375 -0.359375 -0.671875 -0.5q-0.4375 -0.140625 -1.265625 -0.140625l-1.984375 0l0 2.953125z\" fill=\"#000000\" fill-rule=\"nonzero\"/><path d=\"m439.72372 52.904514l0 -0.609375q-0.484375 0.703125 -1.3125 0.703125q-0.375 0 -0.703125 -0.140625q-0.3125 -0.140625 -0.46875 -0.34375q-0.140625 -0.21875 -0.203125 -0.53125q-0.046875 -0.203125 -0.046875 -0.65625l0 -2.578125l0.703125 0l0 2.3125q0 0.546875 0.046875 0.734375q0.0625 0.28125 0.265625 0.4375q0.21875 0.15625 0.546875 0.15625q0.3125 0 0.578125 -0.15625q0.28125 -0.171875 0.390625 -0.4375q0.125 -0.28125 0.125 -0.8125l0 -2.234375l0.703125 0l0 4.15625l-0.625 0zm4.4492188 0l0 -0.609375q-0.484375 0.703125 -1.3125 0.703125q-0.375 0 -0.703125 -0.140625q-0.3125 -0.140625 -0.46875 -0.34375q-0.140625 -0.21875 -0.203125 -0.53125q-0.046875 -0.203125 -0.046875 -0.65625l0 -2.578125l0.703125 0l0 2.3125q0 0.546875 0.046875 0.734375q0.0625 0.28125 0.265625 0.4375q0.21875 0.15625 0.546875 0.15625q0.3125 0 0.578125 -0.15625q0.28125 -0.171875 0.390625 -0.4375q0.125 -0.28125 0.125 -0.8125l0 -2.234375l0.703125 0l0 4.15625l-0.625 0z\" fill=\"#000000\" fill-rule=\"nonzero\"/><path d=\"m451.7159 43.35764l-5.671875 0l0 -0.984375l5.671875 0l0 0.984375zm0 2.609375l-5.671875 0l0 -0.984375l5.671875 0l0 0.984375zm1.5390625 2.4375l0 -8.59375l3.234375 0q0.984375 0 1.578125 0.265625q0.59375 0.265625 0.921875 0.8125q0.34375 0.53125 0.34375 1.125q0 0.546875 -0.296875 1.03125q-0.296875 0.484375 -0.90625 0.78125q0.78125 0.234375 1.1875 0.796875q0.421875 0.546875 0.421875 1.296875q0 0.59375 -0.25 1.125q-0.25 0.515625 -0.625 0.796875q-0.375 0.28125 -0.953125 0.421875q-0.5625 0.140625 -1.375 0.140625l-3.28125 0zm1.140625 -4.984375l1.859375 0q0.75 0 1.078125 -0.09375q0.4375 -0.125 0.65625 -0.421875q0.21875 -0.3125 0.21875 -0.765625q0 -0.421875 -0.203125 -0.75q-0.203125 -0.328125 -0.59375 -0.4375q-0.375 -0.125 -1.296875 -0.125l-1.71875 0l0 2.59375zm0 3.96875l2.140625 0q0.546875 0 0.765625 -0.046875q0.40625 -0.0625 0.65625 -0.21875q0.265625 -0.171875 0.4375 -0.484375q0.171875 -0.3125 0.171875 -0.71875q0 -0.484375 -0.25 -0.84375q-0.234375 -0.359375 -0.671875 -0.5q-0.4375 -0.140625 -1.265625 -0.140625l-1.984375 0l0 2.953125zm11.035156 -0.984375l1.09375 0.125q-0.25 0.953125 -0.953125 1.484375q-0.703125 0.53125 -1.78125 0.53125q-1.359375 0 -2.171875 -0.84375q-0.796875 -0.84375 -0.796875 -2.359375q0 -1.5625 0.8125 -2.421875q0.8125 -0.875 2.09375 -0.875q1.25 0 2.03125 0.84375q0.796875 0.84375 0.796875 2.390625q0 0.09375 0 0.28125l-4.640625 0q0.0625 1.03125 0.578125 1.578125q0.515625 0.53125 1.296875 0.53125q0.578125 0 0.984375 -0.296875q0.421875 -0.3125 0.65625 -0.96875zm-3.453125 -1.703125l3.46875 0q-0.0625 -0.796875 -0.390625 -1.1875q-0.515625 -0.609375 -1.3125 -0.609375q-0.734375 0 -1.234375 0.484375q-0.484375 0.484375 -0.53125 1.3125z\" fill=\"#000000\" fill-rule=\"nonzero\"/><path d=\"m467.57333 43.904514l0 -4.15625l0.640625 0l0 0.640625q0.234375 -0.453125 0.4375 -0.59375q0.21875 -0.140625 0.453125 -0.140625q0.359375 0 0.734375 0.234375l-0.25 0.65625q-0.25 -0.15625 -0.515625 -0.15625q-0.234375 0 -0.421875 0.140625q-0.171875 0.140625 -0.25 0.375q-0.125 0.375 -0.125 0.828125l0 2.171875l-0.703125 0zm6.1796875 -0.671875l0 0.671875l-3.78125 0q-0.015625 -0.25 0.078125 -0.484375q0.140625 -0.390625 0.453125 -0.765625q0.328125 -0.375 0.921875 -0.875q0.9375 -0.765625 1.265625 -1.203125q0.328125 -0.453125 0.328125 -0.84375q0 -0.421875 -0.296875 -0.703125q-0.296875 -0.296875 -0.78125 -0.296875q-0.5 0 -0.8125 0.3125q-0.296875 0.296875 -0.3125 0.84375l-0.71875 -0.078125q0.078125 -0.8125 0.5625 -1.234375q0.484375 -0.421875 1.296875 -0.421875q0.828125 0 1.296875 0.453125q0.484375 0.453125 0.484375 1.140625q0 0.34375 -0.140625 0.671875q-0.140625 0.328125 -0.46875 0.703125q-0.3125 0.359375 -1.078125 1.0q-0.625 0.53125 -0.8125 0.71875q-0.171875 0.1875 -0.296875 0.390625l2.8125 0zm0.40234375 0.671875l2.203125 -5.734375l0.828125 0l2.34375 5.734375l-5.375 0zm1.0625 -0.671875l3.1875 0l-1.25 -3.265625q-0.265625 -0.734375 -0.40625 -1.1875q-0.09375 0.53125 -0.296875 1.09375l-1.234375 3.359375zm6.359375 0.046875l0.109375 0.609375q-0.296875 0.078125 -0.53125 0.078125q-0.390625 0 -0.609375 -0.125q-0.203125 -0.125 -0.296875 -0.3125q-0.078125 -0.203125 -0.078125 -0.84375l0 -2.390625l-0.515625 0l0 -0.546875l0.515625 0l0 -1.015625l0.703125 -0.421875l0 1.4375l0.703125 0l0 0.546875l-0.703125 0l0 2.4375q0 0.296875 0.03125 0.390625q0.046875 0.078125 0.125 0.125q0.078125 0.046875 0.234375 0.046875q0.125 0 0.3125 -0.015625z\" fill=\"#000000\" fill-rule=\"nonzero\"/><path d=\"m435.53232 59.38889l1.125 0.296875q-0.359375 1.390625 -1.28125 2.125q-0.921875 0.734375 -2.265625 0.734375q-1.390625 0 -2.265625 -0.5625q-0.875 -0.5625 -1.328125 -1.625q-0.453125 -1.078125 -0.453125 -2.3125q0 -1.34375 0.515625 -2.34375q0.515625 -1.0 1.453125 -1.515625q0.953125 -0.515625 2.09375 -0.515625q1.28125 0 2.15625 0.65625q0.890625 0.65625 1.234375 1.84375l-1.125 0.265625q-0.296875 -0.9375 -0.875 -1.359375q-0.5625 -0.4375 -1.421875 -0.4375q-0.984375 0 -1.65625 0.484375q-0.65625 0.46875 -0.9375 1.265625q-0.265625 0.796875 -0.265625 1.65625q0 1.09375 0.3125 1.90625q0.328125 0.8125 1.0 1.21875q0.671875 0.40625 1.46875 0.40625q0.953125 0 1.609375 -0.546875q0.671875 -0.546875 0.90625 -1.640625z\" fill=\"#000000\" fill-rule=\"nonzero\"/><path d=\"m440.38583 66.90452l0 -0.609375q-0.484375 0.703125 -1.3125 0.703125q-0.375 0 -0.703125 -0.140625q-0.3125 -0.140625 -0.46875 -0.34375q-0.140625 -0.21875 -0.203125 -0.53125q-0.046875 -0.203125 -0.046875 -0.65625l0 -2.5781288l0.703125 0l0 2.3125038q0 0.546875 0.046875 0.734375q0.0625 0.28125 0.265625 0.4375q0.21875 0.15625 0.546875 0.15625q0.3125 0 0.578125 -0.15625q0.28125 -0.171875 0.390625 -0.4375q0.125 -0.28125 0.125 -0.8125l0 -2.2343788l0.703125 0l0 4.156254l-0.625 0zm4.4492188 0l0 -0.609375q-0.484375 0.703125 -1.3125 0.703125q-0.375 0 -0.703125 -0.140625q-0.3125 -0.140625 -0.46875 -0.34375q-0.140625 -0.21875 -0.203125 -0.53125q-0.046875 -0.203125 -0.046875 -0.65625l0 -2.5781288l0.703125 0l0 2.3125038q0 0.546875 0.046875 0.734375q0.0625 0.28125 0.265625 0.4375q0.21875 0.15625 0.546875 0.15625q0.3125 0 0.578125 -0.15625q0.28125 -0.171875 0.390625 -0.4375q0.125 -0.28125 0.125 -0.8125l0 -2.2343788l0.703125 0l0 4.156254l-0.625 0z\" fill=\"#000000\" fill-rule=\"nonzero\"/><path d=\"m452.37802 57.35764l-5.671875 0l0 -0.984375l5.671875 0l0 0.984375zm0 2.609375l-5.671875 0l0 -0.984375l5.671875 0l0 0.984375zm3.4765625 4.968754q-0.875 -1.1093788 -1.484375 -2.5781288q-0.59375 -1.484375 -0.59375 -3.0625q0 -1.390625 0.4375 -2.671875q0.53125 -1.484375 1.640625 -2.953125l0.75 0q-0.703125 1.21875 -0.9375 1.734375q-0.359375 0.8125 -0.5625 1.6875q-0.25 1.09375 -0.25 2.203125q0 2.828125 1.75 5.640629l-0.75 0zm6.0585938 -2.5312538l0 -0.921875q-0.734375 1.0625 -1.984375 1.0625q-0.546875 0 -1.03125 -0.203125q-0.46875 -0.21875 -0.703125 -0.53125q-0.234375 -0.328125 -0.328125 -0.796875q-0.0625 -0.296875 -0.0625 -0.984375l0 -3.84375l1.0625 0l0 3.453125q0 0.8125 0.0625 1.109375q0.09375 0.40625 0.40625 0.65625q0.328125 0.234375 0.8125 0.234375q0.46875 0 0.875 -0.234375q0.421875 -0.25 0.59375 -0.671875q0.1875 -0.421875 0.1875 -1.21875l0 -3.328125l1.046875 0l0 6.21875l-0.9375 0z\" fill=\"#000000\" fill-rule=\"nonzero\"/><path d=\"m467.74326 57.23264l0 0.671875l-3.78125 0q-0.015625 -0.25 0.078125 -0.484375q0.140625 -0.390625 0.453125 -0.765625q0.328125 -0.375 0.921875 -0.875q0.9375 -0.765625 1.265625 -1.203125q0.328125 -0.453125 0.328125 -0.84375q0 -0.421875 -0.296875 -0.703125q-0.296875 -0.296875 -0.78125 -0.296875q-0.5 0 -0.8125 0.3125q-0.296875 0.296875 -0.3125 0.84375l-0.71875 -0.078125q0.078125 -0.8125 0.5625 -1.234375q0.484375 -0.421875 1.296875 -0.421875q0.828125 0 1.296875 0.453125q0.484375 0.453125 0.484375 1.140625q0 0.34375 -0.140625 0.671875q-0.140625 0.328125 -0.46875 0.703125q-0.3125 0.359375 -1.078125 1.0q-0.625 0.53125 -0.8125 0.71875q-0.171875 0.1875 -0.296875 0.390625l2.8125 0z\" fill=\"#000000\" fill-rule=\"nonzero\"/><path d=\"m468.7081 59.63889l1.0625 -0.09375q0.078125 0.65625 0.359375 1.0625q0.28125 0.40625 0.859375 0.671875q0.59375 0.25 1.328125 0.25q0.640625 0 1.140625 -0.1875q0.5 -0.203125 0.734375 -0.53125q0.25 -0.34375 0.25 -0.734375q0 -0.40625 -0.234375 -0.703125q-0.234375 -0.3125 -0.765625 -0.515625q-0.359375 -0.140625 -1.546875 -0.421875q-1.171875 -0.28125 -1.640625 -0.53125q-0.625 -0.328125 -0.921875 -0.796875q-0.296875 -0.484375 -0.296875 -1.078125q0 -0.640625 0.359375 -1.203125q0.375 -0.578125 1.078125 -0.859375q0.71875 -0.296875 1.578125 -0.296875q0.953125 0 1.6875 0.3125q0.734375 0.296875 1.125 0.90625q0.390625 0.59375 0.421875 1.34375l-1.09375 0.078125q-0.09375 -0.8125 -0.609375 -1.21875q-0.5 -0.421875 -1.484375 -0.421875q-1.03125 0 -1.5 0.375q-0.46875 0.375 -0.46875 0.90625q0 0.46875 0.328125 0.765625q0.328125 0.296875 1.703125 0.609375q1.390625 0.3125 1.90625 0.546875q0.75 0.359375 1.109375 0.890625q0.359375 0.515625 0.359375 1.21875q0 0.6875 -0.390625 1.296875q-0.390625 0.59375 -1.125 0.9375q-0.734375 0.328125 -1.65625 0.328125q-1.171875 0 -1.96875 -0.328125q-0.78125 -0.34375 -1.234375 -1.03125q-0.4375 -0.6875 -0.453125 -1.546875zm7.8320312 0.1875l0 -1.0625l3.25 0l0 1.0625l-3.25 0zm4.4960938 2.578125l0 -8.59375l1.140625 0l0 4.265625l4.265625 -4.265625l1.546875 0l-3.609375 3.484375l3.765625 5.109375l-1.5 0l-3.0625 -4.34375l-1.40625 1.359375l0 2.984375l-1.140625 0zm8.613281 2.5312538l-0.75 0q1.75 -2.8125038 1.75 -5.640629q0 -1.09375 -0.25 -2.1875q-0.203125 -0.875 -0.5625 -1.6875q-0.234375 -0.515625 -0.9375 -1.75l0.75 0q1.09375 1.46875 1.625 2.953125q0.453125 1.28125 0.453125 2.671875q0 1.578125 -0.609375 3.0625q-0.609375 1.46875 -1.46875 2.5781288z\" fill=\"#000000\" fill-rule=\"nonzero\"/><path d=\"m494.16122 56.98264l0 -1.578125l-1.546875 0l0 -0.65625l1.546875 0l0 -1.5625l0.671875 0l0 1.5625l1.5625 0l0 0.65625l-1.5625 0l0 1.578125l-0.671875 0z\" fill=\"#000000\" fill-rule=\"nonzero\"/><path d=\"m424.4462 125.0l116.1575 0l0 76.220474l-116.1575 0z\" fill=\"#000000\" fill-opacity=\"0.0\" fill-rule=\"evenodd\"/><path d=\"m433.99307 142.75438l1.0625 -0.09375q0.078125 0.65625 0.359375 1.0625q0.28125 0.40625 0.859375 0.671875q0.59375 0.25 1.328125 0.25q0.640625 0 1.140625 -0.1875q0.5 -0.203125 0.734375 -0.53125q0.25 -0.34375 0.25 -0.734375q0 -0.40625 -0.234375 -0.703125q-0.234375 -0.3125 -0.765625 -0.515625q-0.359375 -0.140625 -1.546875 -0.421875q-1.171875 -0.28125 -1.640625 -0.53125q-0.625 -0.328125 -0.921875 -0.796875q-0.296875 -0.484375 -0.296875 -1.078125q0 -0.640625 0.359375 -1.203125q0.375 -0.578125 1.078125 -0.859375q0.71875 -0.296875 1.578125 -0.296875q0.953125 0 1.6875 0.3125q0.734375 0.296875 1.125 0.90625q0.390625 0.59375 0.421875 1.34375l-1.09375 0.078125q-0.09375 -0.8125 -0.609375 -1.21875q-0.5 -0.421875 -1.484375 -0.421875q-1.03125 0 -1.5 0.375q-0.46875 0.375 -0.46875 0.90625q0 0.46875 0.328125 0.765625q0.328125 0.296875 1.703125 0.609375q1.390625 0.3125 1.90625 0.546875q0.75 0.359375 1.109375 0.890625q0.359375 0.515625 0.359375 1.21875q0 0.6875 -0.390625 1.296875q-0.390625 0.59375 -1.125 0.9375q-0.734375 0.328125 -1.65625 0.328125q-1.171875 0 -1.96875 -0.328125q-0.78125 -0.34375 -1.234375 -1.03125q-0.4375 -0.6875 -0.453125 -1.546875z\" fill=\"#000000\" fill-rule=\"nonzero\"/><path d=\"m444.7001 150.02l0 -0.609375q-0.484375 0.703125 -1.3125 0.703125q-0.375 0 -0.703125 -0.140625q-0.3125 -0.140625 -0.46875 -0.34375q-0.140625 -0.21875 -0.203125 -0.53125q-0.046875 -0.203125 -0.046875 -0.65625l0 -2.578125l0.703125 0l0 2.3125q0 0.546875 0.046875 0.734375q0.0625 0.28125 0.265625 0.4375q0.21875 0.15625 0.546875 0.15625q0.3125 0 0.578125 -0.15625q0.28125 -0.171875 0.390625 -0.4375q0.125 -0.28125 0.125 -0.8125l0 -2.234375l0.703125 0l0 4.15625l-0.625 0zm4.4179688 0l0 -0.53125q-0.390625 0.625 -1.15625 0.625q-0.5 0 -0.921875 -0.265625q-0.40625 -0.28125 -0.640625 -0.765625q-0.21875 -0.5 -0.21875 -1.140625q0 -0.609375 0.203125 -1.109375q0.203125 -0.515625 0.609375 -0.78125q0.421875 -0.28125 0.9375 -0.28125q0.375 0 0.65625 0.171875q0.296875 0.15625 0.484375 0.40625l0 -2.0625l0.703125 0l0 5.734375l-0.65625 0zm-2.21875 -2.078125q0 0.796875 0.328125 1.203125q0.34375 0.390625 0.796875 0.390625q0.46875 0 0.78125 -0.375q0.328125 -0.375 0.328125 -1.15625q0 -0.84375 -0.328125 -1.234375q-0.328125 -0.40625 -0.8125 -0.40625q-0.46875 0 -0.78125 0.390625q-0.3125 0.375 -0.3125 1.1875z\" fill=\"#000000\" fill-rule=\"nonzero\"/><path d=\"m456.6923 140.47313l-5.671875 0l0 -0.984375l5.671875 0l0 0.984375zm0 2.609375l-5.671875 0l0 -0.984375l5.671875 0l0 0.984375zm5.5390625 2.4375l0 -0.921875q-0.734375 1.0625 -1.984375 1.0625q-0.546875 0 -1.03125 -0.203125q-0.46875 -0.21875 -0.703125 -0.53125q-0.234375 -0.328125 -0.328125 -0.796875q-0.0625 -0.296875 -0.0625 -0.984375l0 -3.84375l1.0625 0l0 3.453125q0 0.8125 0.0625 1.109375q0.09375 0.40625 0.40625 0.65625q0.328125 0.234375 0.8125 0.234375q0.46875 0 0.875 -0.234375q0.421875 -0.25 0.59375 -0.671875q0.1875 -0.421875 0.1875 -1.21875l0 -3.328125l1.046875 0l0 6.21875l-0.9375 0zm6.626953 0l0 -0.78125q-0.59375 0.921875 -1.734375 0.921875q-0.75 0 -1.375 -0.40625q-0.625 -0.421875 -0.96875 -1.15625q-0.34375 -0.734375 -0.34375 -1.6875q0 -0.921875 0.3125 -1.6875q0.3125 -0.765625 0.9375 -1.15625q0.625 -0.40625 1.390625 -0.40625q0.5625 0 1.0 0.234375q0.4375 0.234375 0.71875 0.609375l0 -3.078125l1.046875 0l0 8.59375l-0.984375 0zm-3.328125 -3.109375q0 1.203125 0.5 1.796875q0.5 0.578125 1.1875 0.578125q0.6875 0 1.171875 -0.5625q0.484375 -0.5625 0.484375 -1.71875q0 -1.28125 -0.5 -1.875q-0.484375 -0.59375 -1.203125 -0.59375q-0.703125 0 -1.171875 0.578125q-0.46875 0.5625 -0.46875 1.796875zm5.720703 0.34375l1.0625 -0.09375q0.078125 0.65625 0.359375 1.0625q0.28125 0.40625 0.859375 0.671875q0.59375 0.25 1.328125 0.25q0.640625 0 1.140625 -0.1875q0.5 -0.203125 0.734375 -0.53125q0.25 -0.34375 0.25 -0.734375q0 -0.40625 -0.234375 -0.703125q-0.234375 -0.3125 -0.765625 -0.515625q-0.359375 -0.140625 -1.546875 -0.421875q-1.171875 -0.28125 -1.640625 -0.53125q-0.625 -0.328125 -0.921875 -0.796875q-0.296875 -0.484375 -0.296875 -1.078125q0 -0.640625 0.359375 -1.203125q0.375 -0.578125 1.078125 -0.859375q0.71875 -0.296875 1.578125 -0.296875q0.953125 0 1.6875 0.3125q0.734375 0.296875 1.125 0.90625q0.390625 0.59375 0.421875 1.34375l-1.09375 0.078125q-0.09375 -0.8125 -0.609375 -1.21875q-0.5 -0.421875 -1.484375 -0.421875q-1.03125 0 -1.5 0.375q-0.46875 0.375 -0.46875 0.90625q0 0.46875 0.328125 0.765625q0.328125 0.296875 1.703125 0.609375q1.390625 0.3125 1.90625 0.546875q0.75 0.359375 1.109375 0.890625q0.359375 0.515625 0.359375 1.21875q0 0.6875 -0.390625 1.296875q-0.390625 0.59375 -1.125 0.9375q-0.734375 0.328125 -1.65625 0.328125q-1.171875 0 -1.96875 -0.328125q-0.78125 -0.34375 -1.234375 -1.03125q-0.4375 -0.6875 -0.453125 -1.546875z\" fill=\"#000000\" fill-rule=\"nonzero\"/><path d=\"m434.3212 159.52l0 -8.59375l3.234375 0q0.984375 0 1.578125 0.265625q0.59375 0.265625 0.921875 0.8125q0.34375 0.53125 0.34375 1.125q0 0.546875 -0.296875 1.03125q-0.296875 0.484375 -0.90625 0.78125q0.78125 0.234375 1.1875 0.796875q0.421875 0.546875 0.421875 1.296875q0 0.59375 -0.25 1.125q-0.25 0.515625 -0.625 0.796875q-0.375 0.28125 -0.953125 0.421875q-0.5625 0.140625 -1.375 0.140625l-3.28125 0zm1.140625 -4.984375l1.859375 0q0.75 0 1.078125 -0.09375q0.4375 -0.125 0.65625 -0.421875q0.21875 -0.3125 0.21875 -0.765625q0 -0.421875 -0.203125 -0.75q-0.203125 -0.328125 -0.59375 -0.4375q-0.375 -0.125 -1.296875 -0.125l-1.71875 0l0 2.59375zm0 3.96875l2.140625 0q0.546875 0 0.765625 -0.046875q0.40625 -0.0625 0.65625 -0.21875q0.265625 -0.171875 0.4375 -0.484375q0.171875 -0.3125 0.171875 -0.71875q0 -0.484375 -0.25 -0.84375q-0.234375 -0.359375 -0.671875 -0.5q-0.4375 -0.140625 -1.265625 -0.140625l-1.984375 0l0 2.953125z\" fill=\"#000000\" fill-rule=\"nonzero\"/><path d=\"m444.7001 164.02l0 -0.609375q-0.484375 0.703125 -1.3125 0.703125q-0.375 0 -0.703125 -0.140625q-0.3125 -0.140625 -0.46875 -0.34375q-0.140625 -0.21875 -0.203125 -0.53125q-0.046875 -0.203125 -0.046875 -0.65625l0 -2.578125l0.703125 0l0 2.3125q0 0.546875 0.046875 0.734375q0.0625 0.28125 0.265625 0.4375q0.21875 0.15625 0.546875 0.15625q0.3125 0 0.578125 -0.15625q0.28125 -0.171875 0.390625 -0.4375q0.125 -0.28125 0.125 -0.8125l0 -2.234375l0.703125 0l0 4.15625l-0.625 0zm4.4179688 0l0 -0.53125q-0.390625 0.625 -1.15625 0.625q-0.5 0 -0.921875 -0.265625q-0.40625 -0.28125 -0.640625 -0.765625q-0.21875 -0.5 -0.21875 -1.140625q0 -0.609375 0.203125 -1.109375q0.203125 -0.515625 0.609375 -0.78125q0.421875 -0.28125 0.9375 -0.28125q0.375 0 0.65625 0.171875q0.296875 0.15625 0.484375 0.40625l0 -2.0625l0.703125 0l0 5.734375l-0.65625 0zm-2.21875 -2.078125q0 0.796875 0.328125 1.203125q0.34375 0.390625 0.796875 0.390625q0.46875 0 0.78125 -0.375q0.328125 -0.375 0.328125 -1.15625q0 -0.84375 -0.328125 -1.234375q-0.328125 -0.40625 -0.8125 -0.40625q-0.46875 0 -0.78125 0.390625q-0.3125 0.375 -0.3125 1.1875z\" fill=\"#000000\" fill-rule=\"nonzero\"/><path d=\"m456.6923 154.47313l-5.671875 0l0 -0.984375l5.671875 0l0 0.984375zm0 2.609375l-5.671875 0l0 -0.984375l5.671875 0l0 0.984375zm1.5390625 2.4375l0 -8.59375l3.234375 0q0.984375 0 1.578125 0.265625q0.59375 0.265625 0.921875 0.8125q0.34375 0.53125 0.34375 1.125q0 0.546875 -0.296875 1.03125q-0.296875 0.484375 -0.90625 0.78125q0.78125 0.234375 1.1875 0.796875q0.421875 0.546875 0.421875 1.296875q0 0.59375 -0.25 1.125q-0.25 0.515625 -0.625 0.796875q-0.375 0.28125 -0.953125 0.421875q-0.5625 0.140625 -1.375 0.140625l-3.28125 0zm1.140625 -4.984375l1.859375 0q0.75 0 1.078125 -0.09375q0.4375 -0.125 0.65625 -0.421875q0.21875 -0.3125 0.21875 -0.765625q0 -0.421875 -0.203125 -0.75q-0.203125 -0.328125 -0.59375 -0.4375q-0.375 -0.125 -1.296875 -0.125l-1.71875 0l0 2.59375zm0 3.96875l2.140625 0q0.546875 0 0.765625 -0.046875q0.40625 -0.0625 0.65625 -0.21875q0.265625 -0.171875 0.4375 -0.484375q0.171875 -0.3125 0.171875 -0.71875q0 -0.484375 -0.25 -0.84375q-0.234375 -0.359375 -0.671875 -0.5q-0.4375 -0.140625 -1.265625 -0.140625l-1.984375 0l0 2.953125zm11.035156 -0.984375l1.09375 0.125q-0.25 0.953125 -0.953125 1.484375q-0.703125 0.53125 -1.78125 0.53125q-1.359375 0 -2.171875 -0.84375q-0.796875 -0.84375 -0.796875 -2.359375q0 -1.5625 0.8125 -2.421875q0.8125 -0.875 2.09375 -0.875q1.25 0 2.03125 0.84375q0.796875 0.84375 0.796875 2.390625q0 0.09375 0 0.28125l-4.640625 0q0.0625 1.03125 0.578125 1.578125q0.515625 0.53125 1.296875 0.53125q0.578125 0 0.984375 -0.296875q0.421875 -0.3125 0.65625 -0.96875zm-3.453125 -1.703125l3.46875 0q-0.0625 -0.796875 -0.390625 -1.1875q-0.515625 -0.609375 -1.3125 -0.609375q-0.734375 0 -1.234375 0.484375q-0.484375 0.484375 -0.53125 1.3125z\" fill=\"#000000\" fill-rule=\"nonzero\"/><path d=\"m472.5497 155.02l0 -4.15625l0.640625 0l0 0.640625q0.234375 -0.453125 0.4375 -0.59375q0.21875 -0.140625 0.453125 -0.140625q0.359375 0 0.734375 0.234375l-0.25 0.65625q-0.25 -0.15625 -0.515625 -0.15625q-0.234375 0 -0.421875 0.140625q-0.171875 0.140625 -0.25 0.375q-0.125 0.375 -0.125 0.828125l0 2.171875l-0.703125 0zm6.1796875 -0.671875l0 0.671875l-3.78125 0q-0.015625 -0.25 0.078125 -0.484375q0.140625 -0.390625 0.453125 -0.765625q0.328125 -0.375 0.921875 -0.875q0.9375 -0.765625 1.265625 -1.203125q0.328125 -0.453125 0.328125 -0.84375q0 -0.421875 -0.296875 -0.703125q-0.296875 -0.296875 -0.78125 -0.296875q-0.5 0 -0.8125 0.3125q-0.296875 0.296875 -0.3125 0.84375l-0.71875 -0.078125q0.078125 -0.8125 0.5625 -1.234375q0.484375 -0.421875 1.296875 -0.421875q0.828125 0 1.296875 0.453125q0.484375 0.453125 0.484375 1.140625q0 0.34375 -0.140625 0.671875q-0.140625 0.328125 -0.46875 0.703125q-0.3125 0.359375 -1.078125 1.0q-0.625 0.53125 -0.8125 0.71875q-0.171875 0.1875 -0.296875 0.390625l2.8125 0zm0.40234375 0.671875l2.203125 -5.734375l0.828125 0l2.34375 5.734375l-5.375 0zm1.0625 -0.671875l3.1875 0l-1.25 -3.265625q-0.265625 -0.734375 -0.40625 -1.1875q-0.09375 0.53125 -0.296875 1.09375l-1.234375 3.359375zm6.359375 0.046875l0.109375 0.609375q-0.296875 0.078125 -0.53125 0.078125q-0.390625 0 -0.609375 -0.125q-0.203125 -0.125 -0.296875 -0.3125q-0.078125 -0.203125 -0.078125 -0.84375l0 -2.390625l-0.515625 0l0 -0.546875l0.515625 0l0 -1.015625l0.703125 -0.421875l0 1.4375l0.703125 0l0 0.546875l-0.703125 0l0 2.4375q0 0.296875 0.03125 0.390625q0.046875 0.078125 0.125 0.125q0.078125 0.046875 0.234375 0.046875q0.125 0 0.3125 -0.015625z\" fill=\"#000000\" fill-rule=\"nonzero\"/><path d=\"m440.5087 170.50438l1.125 0.296875q-0.359375 1.390625 -1.28125 2.125q-0.921875 0.734375 -2.265625 0.734375q-1.390625 0 -2.265625 -0.5625q-0.875 -0.5625 -1.328125 -1.625q-0.453125 -1.078125 -0.453125 -2.3125q0 -1.34375 0.515625 -2.34375q0.515625 -1.0 1.453125 -1.515625q0.953125 -0.515625 2.09375 -0.515625q1.28125 0 2.15625 0.65625q0.890625 0.65625 1.234375 1.84375l-1.125 0.265625q-0.296875 -0.9375 -0.875 -1.359375q-0.5625 -0.4375 -1.421875 -0.4375q-0.984375 0 -1.65625 0.484375q-0.65625 0.46875 -0.9375 1.265625q-0.265625 0.796875 -0.265625 1.65625q0 1.09375 0.3125 1.90625q0.328125 0.8125 1.0 1.21875q0.671875 0.40625 1.46875 0.40625q0.953125 0 1.609375 -0.546875q0.671875 -0.546875 0.90625 -1.640625z\" fill=\"#000000\" fill-rule=\"nonzero\"/><path d=\"m445.3622 178.02l0 -0.609375q-0.484375 0.703125 -1.3125 0.703125q-0.375 0 -0.703125 -0.140625q-0.3125 -0.140625 -0.46875 -0.34375q-0.140625 -0.21875 -0.203125 -0.53125q-0.046875 -0.203125 -0.046875 -0.65625l0 -2.578125l0.703125 0l0 2.3125q0 0.546875 0.046875 0.734375q0.0625 0.28125 0.265625 0.4375q0.21875 0.15625 0.546875 0.15625q0.3125 0 0.578125 -0.15625q0.28125 -0.171875 0.390625 -0.4375q0.125 -0.28125 0.125 -0.8125l0 -2.234375l0.703125 0l0 4.15625l-0.625 0zm4.4179688 0l0 -0.53125q-0.390625 0.625 -1.15625 0.625q-0.5 0 -0.921875 -0.265625q-0.40625 -0.28125 -0.640625 -0.765625q-0.21875 -0.5 -0.21875 -1.140625q0 -0.609375 0.203125 -1.109375q0.203125 -0.515625 0.609375 -0.78125q0.421875 -0.28125 0.9375 -0.28125q0.375 0 0.65625 0.171875q0.296875 0.15625 0.484375 0.40625l0 -2.0625l0.703125 0l0 5.734375l-0.65625 0zm-2.21875 -2.078125q0 0.796875 0.328125 1.203125q0.34375 0.390625 0.796875 0.390625q0.46875 0 0.78125 -0.375q0.328125 -0.375 0.328125 -1.15625q0 -0.84375 -0.328125 -1.234375q-0.328125 -0.40625 -0.8125 -0.40625q-0.46875 0 -0.78125 0.390625q-0.3125 0.375 -0.3125 1.1875z\" fill=\"#000000\" fill-rule=\"nonzero\"/><path d=\"m457.3544 168.47313l-5.671875 0l0 -0.984375l5.671875 0l0 0.984375zm0 2.609375l-5.671875 0l0 -0.984375l5.671875 0l0 0.984375zm3.4765625 4.96875q-0.875 -1.109375 -1.484375 -2.578125q-0.59375 -1.484375 -0.59375 -3.0625q0 -1.390625 0.4375 -2.671875q0.53125 -1.484375 1.640625 -2.953125l0.75 0q-0.703125 1.21875 -0.9375 1.734375q-0.359375 0.8125 -0.5625 1.6875q-0.25 1.09375 -0.25 2.203125q0 2.828125 1.75 5.640625l-0.75 0zm6.0585938 -2.53125l0 -0.921875q-0.734375 1.0625 -1.984375 1.0625q-0.546875 0 -1.03125 -0.203125q-0.46875 -0.21875 -0.703125 -0.53125q-0.234375 -0.328125 -0.328125 -0.796875q-0.0625 -0.296875 -0.0625 -0.984375l0 -3.84375l1.0625 0l0 3.453125q0 0.8125 0.0625 1.109375q0.09375 0.40625 0.40625 0.65625q0.328125 0.234375 0.8125 0.234375q0.46875 0 0.875 -0.234375q0.421875 -0.25 0.59375 -0.671875q0.1875 -0.421875 0.1875 -1.21875l0 -3.328125l1.046875 0l0 6.21875l-0.9375 0zm6.626953 0l0 -0.78125q-0.59375 0.921875 -1.734375 0.921875q-0.75 0 -1.375 -0.40625q-0.625 -0.421875 -0.96875 -1.15625q-0.34375 -0.734375 -0.34375 -1.6875q0 -0.921875 0.3125 -1.6875q0.3125 -0.765625 0.9375 -1.15625q0.625 -0.40625 1.390625 -0.40625q0.5625 0 1.0 0.234375q0.4375 0.234375 0.71875 0.609375l0 -3.078125l1.046875 0l0 8.59375l-0.984375 0zm-3.328125 -3.109375q0 1.203125 0.5 1.796875q0.5 0.578125 1.1875 0.578125q0.6875 0 1.171875 -0.5625q0.484375 -0.5625 0.484375 -1.71875q0 -1.28125 -0.5 -1.875q-0.484375 -0.59375 -1.203125 -0.59375q-0.703125 0 -1.171875 0.578125q-0.46875 0.5625 -0.46875 1.796875zm5.720703 0.34375l1.0625 -0.09375q0.078125 0.65625 0.359375 1.0625q0.28125 0.40625 0.859375 0.671875q0.59375 0.25 1.328125 0.25q0.640625 0 1.140625 -0.1875q0.5 -0.203125 0.734375 -0.53125q0.25 -0.34375 0.25 -0.734375q0 -0.40625 -0.234375 -0.703125q-0.234375 -0.3125 -0.765625 -0.515625q-0.359375 -0.140625 -1.546875 -0.421875q-1.171875 -0.28125 -1.640625 -0.53125q-0.625 -0.328125 -0.921875 -0.796875q-0.296875 -0.484375 -0.296875 -1.078125q0 -0.640625 0.359375 -1.203125q0.375 -0.578125 1.078125 -0.859375q0.71875 -0.296875 1.578125 -0.296875q0.953125 0 1.6875 0.3125q0.734375 0.296875 1.125 0.90625q0.390625 0.59375 0.421875 1.34375l-1.09375 0.078125q-0.09375 -0.8125 -0.609375 -1.21875q-0.5 -0.421875 -1.484375 -0.421875q-1.03125 0 -1.5 0.375q-0.46875 0.375 -0.46875 0.90625q0 0.46875 0.328125 0.765625q0.328125 0.296875 1.703125 0.609375q1.390625 0.3125 1.90625 0.546875q0.75 0.359375 1.109375 0.890625q0.359375 0.515625 0.359375 1.21875q0 0.6875 -0.390625 1.296875q-0.390625 0.59375 -1.125 0.9375q-0.734375 0.328125 -1.65625 0.328125q-1.171875 0 -1.96875 -0.328125q-0.78125 -0.34375 -1.234375 -1.03125q-0.4375 -0.6875 -0.453125 -1.546875zm7.8320312 0.1875l0 -1.0625l3.25 0l0 1.0625l-3.25 0zm4.4960938 2.578125l0 -8.59375l1.140625 0l0 4.265625l4.265625 -4.265625l1.546875 0l-3.609375 3.484375l3.765625 5.109375l-1.5 0l-3.0625 -4.34375l-1.40625 1.359375l0 2.984375l-1.140625 0zm8.613281 2.53125l-0.75 0q1.75 -2.8125 1.75 -5.640625q0 -1.09375 -0.25 -2.1875q-0.203125 -0.875 -0.5625 -1.6875q-0.234375 -0.515625 -0.9375 -1.75l0.75 0q1.09375 1.46875 1.625 2.953125q0.453125 1.28125 0.453125 2.671875q0 1.578125 -0.609375 3.0625q-0.609375 1.46875 -1.46875 2.578125z\" fill=\"#000000\" fill-rule=\"nonzero\"/><path d=\"m501.3622 168.09813l0 -1.578125l-1.546875 0l0 -0.65625l1.546875 0l0 -1.5625l0.671875 0l0 1.5625l1.5625 0l0 0.65625l-1.5625 0l0 1.578125l-0.671875 0z\" fill=\"#000000\" fill-rule=\"nonzero\"/><path d=\"m428.44357 228.10236l116.1575 0l0 76.22049l-116.1575 0z\" fill=\"#000000\" fill-opacity=\"0.0\" fill-rule=\"evenodd\"/><path d=\"m437.99045 245.85674l1.0625 -0.09375q0.078125 0.65625 0.359375 1.0625q0.28125 0.40625 0.859375 0.671875q0.59375 0.25 1.328125 0.25q0.640625 0 1.140625 -0.1875q0.5 -0.203125 0.734375 -0.53125q0.25 -0.34375 0.25 -0.734375q0 -0.40625 -0.234375 -0.703125q-0.234375 -0.3125 -0.765625 -0.515625q-0.359375 -0.140625 -1.546875 -0.421875q-1.171875 -0.28125 -1.640625 -0.53125q-0.625 -0.328125 -0.921875 -0.796875q-0.296875 -0.484375 -0.296875 -1.078125q0 -0.640625 0.359375 -1.203125q0.375 -0.578125 1.078125 -0.859375q0.71875 -0.296875 1.578125 -0.296875q0.953125 0 1.6875 0.3125q0.734375 0.296875 1.125 0.90625q0.390625 0.59375 0.421875 1.34375l-1.09375 0.078125q-0.09375 -0.8125 -0.609375 -1.21875q-0.5 -0.421875 -1.484375 -0.421875q-1.03125 0 -1.5 0.375q-0.46875 0.375 -0.46875 0.90625q0 0.46875 0.328125 0.765625q0.328125 0.296875 1.703125 0.609375q1.390625 0.3125 1.90625 0.546875q0.75 0.359375 1.109375 0.890625q0.359375 0.515625 0.359375 1.21875q0 0.6875 -0.390625 1.296875q-0.390625 0.59375 -1.125 0.9375q-0.734375 0.328125 -1.65625 0.328125q-1.171875 0 -1.96875 -0.328125q-0.78125 -0.34375 -1.234375 -1.03125q-0.4375 -0.6875 -0.453125 -1.546875z\" fill=\"#000000\" fill-rule=\"nonzero\"/><path d=\"m448.66623 253.12236l0 -0.53125q-0.390625 0.625 -1.15625 0.625q-0.5 0 -0.921875 -0.265625q-0.40625 -0.28125 -0.640625 -0.765625q-0.21875 -0.5 -0.21875 -1.140625q0 -0.609375 0.203125 -1.109375q0.203125 -0.515625 0.609375 -0.78125q0.421875 -0.28125 0.9375 -0.28125q0.375 0 0.65625 0.171875q0.296875 0.15625 0.484375 0.40625l0 -2.0625l0.703125 0l0 5.734375l-0.65625 0zm-2.21875 -2.078125q0 0.796875 0.328125 1.203125q0.34375 0.390625 0.796875 0.390625q0.46875 0 0.78125 -0.375q0.328125 -0.375 0.328125 -1.15625q0 -0.84375 -0.328125 -1.234375q-0.328125 -0.40625 -0.8125 -0.40625q-0.46875 0 -0.78125 0.390625q-0.3125 0.375 -0.3125 1.1875zm6.6679688 2.078125l0 -0.53125q-0.390625 0.625 -1.15625 0.625q-0.5 0 -0.921875 -0.265625q-0.40625 -0.28125 -0.640625 -0.765625q-0.21875 -0.5 -0.21875 -1.140625q0 -0.609375 0.203125 -1.109375q0.203125 -0.515625 0.609375 -0.78125q0.421875 -0.28125 0.9375 -0.28125q0.375 0 0.65625 0.171875q0.296875 0.15625 0.484375 0.40625l0 -2.0625l0.703125 0l0 5.734375l-0.65625 0zm-2.21875 -2.078125q0 0.796875 0.328125 1.203125q0.34375 0.390625 0.796875 0.390625q0.46875 0 0.78125 -0.375q0.328125 -0.375 0.328125 -1.15625q0 -0.84375 -0.328125 -1.234375q-0.328125 -0.40625 -0.8125 -0.40625q-0.46875 0 -0.78125 0.390625q-0.3125 0.375 -0.3125 1.1875z\" fill=\"#000000\" fill-rule=\"nonzero\"/><path d=\"m460.68967 243.57549l-5.671875 0l0 -0.984375l5.671875 0l0 0.984375zm0 2.609375l-5.671875 0l0 -0.984375l5.671875 0l0 0.984375zm5.4921875 2.4375l0 -0.78125q-0.59375 0.921875 -1.734375 0.921875q-0.75 0 -1.375 -0.40625q-0.625 -0.421875 -0.96875 -1.15625q-0.34375 -0.734375 -0.34375 -1.6875q0 -0.921875 0.3125 -1.6875q0.3125 -0.765625 0.9375 -1.15625q0.625 -0.40625 1.390625 -0.40625q0.5625 0 1.0 0.234375q0.4375 0.234375 0.71875 0.609375l0 -3.078125l1.046875 0l0 8.59375l-0.984375 0zm-3.328125 -3.109375q0 1.203125 0.5 1.796875q0.5 0.578125 1.1875 0.578125q0.6875 0 1.171875 -0.5625q0.484375 -0.5625 0.484375 -1.71875q0 -1.28125 -0.5 -1.875q-0.484375 -0.59375 -1.203125 -0.59375q-0.703125 0 -1.171875 0.578125q-0.46875 0.5625 -0.46875 1.796875z\" fill=\"#000000\" fill-rule=\"nonzero\"/><path d=\"m472.0588 243.45049l0 0.671875l-3.78125 0q-0.015625 -0.25 0.078125 -0.484375q0.140625 -0.390625 0.453125 -0.765625q0.328125 -0.375 0.921875 -0.875q0.9375 -0.765625 1.265625 -1.203125q0.328125 -0.453125 0.328125 -0.84375q0 -0.421875 -0.296875 -0.703125q-0.296875 -0.296875 -0.78125 -0.296875q-0.5 0 -0.8125 0.3125q-0.296875 0.296875 -0.3125 0.84375l-0.71875 -0.078125q0.078125 -0.8125 0.5625 -1.234375q0.484375 -0.421875 1.296875 -0.421875q0.828125 0 1.296875 0.453125q0.484375 0.453125 0.484375 1.140625q0 0.34375 -0.140625 0.671875q-0.140625 0.328125 -0.46875 0.703125q-0.3125 0.359375 -1.078125 1.0q-0.625 0.53125 -0.8125 0.71875q-0.171875 0.1875 -0.296875 0.390625l2.8125 0z\" fill=\"#000000\" fill-rule=\"nonzero\"/><path d=\"m473.02365 245.85674l1.0625 -0.09375q0.078125 0.65625 0.359375 1.0625q0.28125 0.40625 0.859375 0.671875q0.59375 0.25 1.328125 0.25q0.640625 0 1.140625 -0.1875q0.5 -0.203125 0.734375 -0.53125q0.25 -0.34375 0.25 -0.734375q0 -0.40625 -0.234375 -0.703125q-0.234375 -0.3125 -0.765625 -0.515625q-0.359375 -0.140625 -1.546875 -0.421875q-1.171875 -0.28125 -1.640625 -0.53125q-0.625 -0.328125 -0.921875 -0.796875q-0.296875 -0.484375 -0.296875 -1.078125q0 -0.640625 0.359375 -1.203125q0.375 -0.578125 1.078125 -0.859375q0.71875 -0.296875 1.578125 -0.296875q0.953125 0 1.6875 0.3125q0.734375 0.296875 1.125 0.90625q0.390625 0.59375 0.421875 1.34375l-1.09375 0.078125q-0.09375 -0.8125 -0.609375 -1.21875q-0.5 -0.421875 -1.484375 -0.421875q-1.03125 0 -1.5 0.375q-0.46875 0.375 -0.46875 0.90625q0 0.46875 0.328125 0.765625q0.328125 0.296875 1.703125 0.609375q1.390625 0.3125 1.90625 0.546875q0.75 0.359375 1.109375 0.890625q0.359375 0.515625 0.359375 1.21875q0 0.6875 -0.390625 1.296875q-0.390625 0.59375 -1.125 0.9375q-0.734375 0.328125 -1.65625 0.328125q-1.171875 0 -1.96875 -0.328125q-0.78125 -0.34375 -1.234375 -1.03125q-0.4375 -0.6875 -0.453125 -1.546875z\" fill=\"#000000\" fill-rule=\"nonzero\"/><path d=\"m438.31857 262.62238l0 -8.593765l3.234375 0q0.984375 0 1.578125 0.265625q0.59375 0.265625 0.921875 0.8125q0.34375 0.53125 0.34375 1.1250153q0 0.546875 -0.296875 1.03125q-0.296875 0.484375 -0.90625 0.78125q0.78125 0.234375 1.1875 0.796875q0.421875 0.546875 0.421875 1.296875q0 0.59375 -0.25 1.125q-0.25 0.515625 -0.625 0.796875q-0.375 0.28125 -0.953125 0.421875q-0.5625 0.140625 -1.375 0.140625l-3.28125 0zm1.140625 -4.984375l1.859375 0q0.75 0 1.078125 -0.09375q0.4375 -0.125 0.65625 -0.421875q0.21875 -0.3125 0.21875 -0.765625q0 -0.42189026 -0.203125 -0.75001526q-0.203125 -0.328125 -0.59375 -0.4375q-0.375 -0.125 -1.296875 -0.125l-1.71875 0l0 2.5937653zm0 3.96875l2.140625 0q0.546875 0 0.765625 -0.046875q0.40625 -0.0625 0.65625 -0.21875q0.265625 -0.171875 0.4375 -0.484375q0.171875 -0.3125 0.171875 -0.71875q0 -0.484375 -0.25 -0.84375q-0.234375 -0.359375 -0.671875 -0.5q-0.4375 -0.140625 -1.265625 -0.140625l-1.984375 0l0 2.953125z\" fill=\"#000000\" fill-rule=\"nonzero\"/><path d=\"m448.66623 267.12238l0 -0.53125q-0.390625 0.625 -1.15625 0.625q-0.5 0 -0.921875 -0.265625q-0.40625 -0.28125 -0.640625 -0.765625q-0.21875 -0.5 -0.21875 -1.140625q0 -0.609375 0.203125 -1.109375q0.203125 -0.515625 0.609375 -0.78125q0.421875 -0.28125 0.9375 -0.28125q0.375 0 0.65625 0.171875q0.296875 0.15625 0.484375 0.40625l0 -2.0625l0.703125 0l0 5.734375l-0.65625 0zm-2.21875 -2.078125q0 0.796875 0.328125 1.203125q0.34375 0.390625 0.796875 0.390625q0.46875 0 0.78125 -0.375q0.328125 -0.375 0.328125 -1.15625q0 -0.84375 -0.328125 -1.234375q-0.328125 -0.40625 -0.8125 -0.40625q-0.46875 0 -0.78125 0.390625q-0.3125 0.375 -0.3125 1.1875zm6.6679688 2.078125l0 -0.53125q-0.390625 0.625 -1.15625 0.625q-0.5 0 -0.921875 -0.265625q-0.40625 -0.28125 -0.640625 -0.765625q-0.21875 -0.5 -0.21875 -1.140625q0 -0.609375 0.203125 -1.109375q0.203125 -0.515625 0.609375 -0.78125q0.421875 -0.28125 0.9375 -0.28125q0.375 0 0.65625 0.171875q0.296875 0.15625 0.484375 0.40625l0 -2.0625l0.703125 0l0 5.734375l-0.65625 0zm-2.21875 -2.078125q0 0.796875 0.328125 1.203125q0.34375 0.390625 0.796875 0.390625q0.46875 0 0.78125 -0.375q0.328125 -0.375 0.328125 -1.15625q0 -0.84375 -0.328125 -1.234375q-0.328125 -0.40625 -0.8125 -0.40625q-0.46875 0 -0.78125 0.390625q-0.3125 0.375 -0.3125 1.1875z\" fill=\"#000000\" fill-rule=\"nonzero\"/><path d=\"m460.68967 257.5755l-5.671875 0l0 -0.984375l5.671875 0l0 0.984375zm0 2.609375l-5.671875 0l0 -0.984375l5.671875 0l0 0.984375zm1.5390625 2.4375l0 -8.593765l3.234375 0q0.984375 0 1.578125 0.265625q0.59375 0.265625 0.921875 0.8125q0.34375 0.53125 0.34375 1.1250153q0 0.546875 -0.296875 1.03125q-0.296875 0.484375 -0.90625 0.78125q0.78125 0.234375 1.1875 0.796875q0.421875 0.546875 0.421875 1.296875q0 0.59375 -0.25 1.125q-0.25 0.515625 -0.625 0.796875q-0.375 0.28125 -0.953125 0.421875q-0.5625 0.140625 -1.375 0.140625l-3.28125 0zm1.140625 -4.984375l1.859375 0q0.75 0 1.078125 -0.09375q0.4375 -0.125 0.65625 -0.421875q0.21875 -0.3125 0.21875 -0.765625q0 -0.42189026 -0.203125 -0.75001526q-0.203125 -0.328125 -0.59375 -0.4375q-0.375 -0.125 -1.296875 -0.125l-1.71875 0l0 2.5937653zm0 3.96875l2.140625 0q0.546875 0 0.765625 -0.046875q0.40625 -0.0625 0.65625 -0.21875q0.265625 -0.171875 0.4375 -0.484375q0.171875 -0.3125 0.171875 -0.71875q0 -0.484375 -0.25 -0.84375q-0.234375 -0.359375 -0.671875 -0.5q-0.4375 -0.140625 -1.265625 -0.140625l-1.984375 0l0 2.953125zm11.035156 -0.984375l1.09375 0.125q-0.25 0.953125 -0.953125 1.484375q-0.703125 0.53125 -1.78125 0.53125q-1.359375 0 -2.171875 -0.84375q-0.796875 -0.84375 -0.796875 -2.359375q0 -1.5625 0.8125 -2.421875q0.8125 -0.875 2.09375 -0.875q1.25 0 2.03125 0.84375q0.796875 0.84375 0.796875 2.390625q0 0.09375 0 0.28125l-4.640625 0q0.0625 1.03125 0.578125 1.578125q0.515625 0.53125 1.296875 0.53125q0.578125 0 0.984375 -0.296875q0.421875 -0.3125 0.65625 -0.96875zm-3.453125 -1.703125l3.46875 0q-0.0625 -0.796875 -0.390625 -1.1875q-0.515625 -0.609375 -1.3125 -0.609375q-0.734375 0 -1.234375 0.484375q-0.484375 0.484375 -0.53125 1.3125z\" fill=\"#000000\" fill-rule=\"nonzero\"/><path d=\"m476.5471 258.12238l0 -4.1562653l0.640625 0l0 0.640625q0.234375 -0.453125 0.4375 -0.59375q0.21875 -0.140625 0.453125 -0.140625q0.359375 0 0.734375 0.234375l-0.25 0.65625q-0.25 -0.15625 -0.515625 -0.15625q-0.234375 0 -0.421875 0.140625q-0.171875 0.140625 -0.25 0.375q-0.125 0.375 -0.125 0.828125l0 2.1718903l-0.703125 0zm6.1796875 -0.671875l0 0.671875l-3.78125 0q-0.015625 -0.25 0.078125 -0.484375q0.140625 -0.390625 0.453125 -0.765625q0.328125 -0.375 0.921875 -0.87501526q0.9375 -0.765625 1.265625 -1.203125q0.328125 -0.453125 0.328125 -0.84375q0 -0.421875 -0.296875 -0.703125q-0.296875 -0.296875 -0.78125 -0.296875q-0.5 0 -0.8125 0.3125q-0.296875 0.296875 -0.3125 0.84375l-0.71875 -0.078125q0.078125 -0.8125 0.5625 -1.234375q0.484375 -0.421875 1.296875 -0.421875q0.828125 0 1.296875 0.453125q0.484375 0.453125 0.484375 1.140625q0 0.34375 -0.140625 0.671875q-0.140625 0.328125 -0.46875 0.703125q-0.3125 0.359375 -1.078125 1.0000153q-0.625 0.53125 -0.8125 0.71875q-0.171875 0.1875 -0.296875 0.390625l2.8125 0zm0.40234375 0.671875l2.203125 -5.7343903l0.828125 0l2.34375 5.7343903l-5.375 0zm1.0625 -0.671875l3.1875 0l-1.25 -3.2656403q-0.265625 -0.734375 -0.40625 -1.1875q-0.09375 0.53125 -0.296875 1.09375l-1.234375 3.3593903zm6.359375 0.046875l0.109375 0.609375q-0.296875 0.078125 -0.53125 0.078125q-0.390625 0 -0.609375 -0.125q-0.203125 -0.125 -0.296875 -0.3125q-0.078125 -0.203125 -0.078125 -0.84375l0 -2.3906403l-0.515625 0l0 -0.546875l0.515625 0l0 -1.015625l0.703125 -0.421875l0 1.4375l0.703125 0l0 0.546875l-0.703125 0l0 2.4375153q0 0.296875 0.03125 0.390625q0.046875 0.078125 0.125 0.125q0.078125 0.046875 0.234375 0.046875q0.125 0 0.3125 -0.015625z\" fill=\"#000000\" fill-rule=\"nonzero\"/><path d=\"m444.50607 273.60675l1.125 0.296875q-0.359375 1.390625 -1.28125 2.125q-0.921875 0.734375 -2.265625 0.734375q-1.390625 0 -2.265625 -0.5625q-0.875 -0.5625 -1.328125 -1.625q-0.453125 -1.078125 -0.453125 -2.3125q0 -1.34375 0.515625 -2.34375q0.515625 -1.0 1.453125 -1.515625q0.953125 -0.515625 2.09375 -0.515625q1.28125 0 2.15625 0.65625q0.890625 0.65625 1.234375 1.84375l-1.125 0.265625q-0.296875 -0.9375 -0.875 -1.359375q-0.5625 -0.4375 -1.421875 -0.4375q-0.984375 0 -1.65625 0.484375q-0.65625 0.46875 -0.9375 1.265625q-0.265625 0.796875 -0.265625 1.65625q0 1.09375 0.3125 1.90625q0.328125 0.8125 1.0 1.21875q0.671875 0.40625 1.46875 0.40625q0.953125 0 1.609375 -0.546875q0.671875 -0.546875 0.90625 -1.640625z\" fill=\"#000000\" fill-rule=\"nonzero\"/><path d=\"m449.32834 281.12238l0 -0.53125q-0.390625 0.625 -1.15625 0.625q-0.5 0 -0.921875 -0.265625q-0.40625 -0.28125 -0.640625 -0.765625q-0.21875 -0.5 -0.21875 -1.140625q0 -0.609375 0.203125 -1.109375q0.203125 -0.515625 0.609375 -0.78125q0.421875 -0.28125 0.9375 -0.28125q0.375 0 0.65625 0.171875q0.296875 0.15625 0.484375 0.40625l0 -2.0625l0.703125 0l0 5.734375l-0.65625 0zm-2.21875 -2.078125q0 0.796875 0.328125 1.203125q0.34375 0.390625 0.796875 0.390625q0.46875 0 0.78125 -0.375q0.328125 -0.375 0.328125 -1.15625q0 -0.84375 -0.328125 -1.234375q-0.328125 -0.40625 -0.8125 -0.40625q-0.46875 0 -0.78125 0.390625q-0.3125 0.375 -0.3125 1.1875zm6.6679688 2.078125l0 -0.53125q-0.390625 0.625 -1.15625 0.625q-0.5 0 -0.921875 -0.265625q-0.40625 -0.28125 -0.640625 -0.765625q-0.21875 -0.5 -0.21875 -1.140625q0 -0.609375 0.203125 -1.109375q0.203125 -0.515625 0.609375 -0.78125q0.421875 -0.28125 0.9375 -0.28125q0.375 0 0.65625 0.171875q0.296875 0.15625 0.484375 0.40625l0 -2.0625l0.703125 0l0 5.734375l-0.65625 0zm-2.21875 -2.078125q0 0.796875 0.328125 1.203125q0.34375 0.390625 0.796875 0.390625q0.46875 0 0.78125 -0.375q0.328125 -0.375 0.328125 -1.15625q0 -0.84375 -0.328125 -1.234375q-0.328125 -0.40625 -0.8125 -0.40625q-0.46875 0 -0.78125 0.390625q-0.3125 0.375 -0.3125 1.1875z\" fill=\"#000000\" fill-rule=\"nonzero\"/><path d=\"m461.35178 271.5755l-5.671875 0l0 -0.984375l5.671875 0l0 0.984375zm0 2.609375l-5.671875 0l0 -0.984375l5.671875 0l0 0.984375zm3.4765625 4.96875q-0.875 -1.109375 -1.484375 -2.578125q-0.59375 -1.484375 -0.59375 -3.0625q0 -1.390625 0.4375 -2.671875q0.53125 -1.484375 1.640625 -2.953125l0.75 0q-0.703125 1.21875 -0.9375 1.734375q-0.359375 0.8125 -0.5625 1.6875q-0.25 1.09375 -0.25 2.203125q0 2.828125 1.75 5.640625l-0.75 0zm6.0117188 -2.53125l0 -0.78125q-0.59375 0.921875 -1.734375 0.921875q-0.75 0 -1.375 -0.40625q-0.625 -0.421875 -0.96875 -1.15625q-0.34375 -0.734375 -0.34375 -1.6875q0 -0.921875 0.3125 -1.6875q0.3125 -0.765625 0.9375 -1.15625q0.625 -0.40625 1.390625 -0.40625q0.5625 0 1.0 0.234375q0.4375 0.234375 0.71875 0.609375l0 -3.078125l1.046875 0l0 8.59375l-0.984375 0zm-3.328125 -3.109375q0 1.203125 0.5 1.796875q0.5 0.578125 1.1875 0.578125q0.6875 0 1.171875 -0.5625q0.484375 -0.5625 0.484375 -1.71875q0 -1.28125 -0.5 -1.875q-0.484375 -0.59375 -1.203125 -0.59375q-0.703125 0 -1.171875 0.578125q-0.46875 0.5625 -0.46875 1.796875z\" fill=\"#000000\" fill-rule=\"nonzero\"/><path d=\"m476.717 271.4505l0 0.671875l-3.78125 0q-0.015625 -0.25 0.078125 -0.484375q0.140625 -0.390625 0.453125 -0.765625q0.328125 -0.375 0.921875 -0.875q0.9375 -0.765625 1.265625 -1.203125q0.328125 -0.453125 0.328125 -0.84375q0 -0.421875 -0.296875 -0.703125q-0.296875 -0.296875 -0.78125 -0.296875q-0.5 0 -0.8125 0.3125q-0.296875 0.296875 -0.3125 0.84375l-0.71875 -0.078125q0.078125 -0.8125 0.5625 -1.234375q0.484375 -0.421875 1.296875 -0.421875q0.828125 0 1.296875 0.453125q0.484375 0.453125 0.484375 1.140625q0 0.34375 -0.140625 0.671875q-0.140625 0.328125 -0.46875 0.703125q-0.3125 0.359375 -1.078125 1.0q-0.625 0.53125 -0.8125 0.71875q-0.171875 0.1875 -0.296875 0.390625l2.8125 0z\" fill=\"#000000\" fill-rule=\"nonzero\"/><path d=\"m477.68185 273.85675l1.0625 -0.09375q0.078125 0.65625 0.359375 1.0625q0.28125 0.40625 0.859375 0.671875q0.59375 0.25 1.328125 0.25q0.640625 0 1.140625 -0.1875q0.5 -0.203125 0.734375 -0.53125q0.25 -0.34375 0.25 -0.734375q0 -0.40625 -0.234375 -0.703125q-0.234375 -0.3125 -0.765625 -0.515625q-0.359375 -0.140625 -1.546875 -0.421875q-1.171875 -0.28125 -1.640625 -0.53125q-0.625 -0.328125 -0.921875 -0.796875q-0.296875 -0.484375 -0.296875 -1.078125q0 -0.640625 0.359375 -1.203125q0.375 -0.578125 1.078125 -0.859375q0.71875 -0.296875 1.578125 -0.296875q0.953125 0 1.6875 0.3125q0.734375 0.296875 1.125 0.90625q0.390625 0.59375 0.421875 1.34375l-1.09375 0.078125q-0.09375 -0.8125 -0.609375 -1.21875q-0.5 -0.421875 -1.484375 -0.421875q-1.03125 0 -1.5 0.375q-0.46875 0.375 -0.46875 0.90625q0 0.46875 0.328125 0.765625q0.328125 0.296875 1.703125 0.609375q1.390625 0.3125 1.90625 0.546875q0.75 0.359375 1.109375 0.890625q0.359375 0.515625 0.359375 1.21875q0 0.6875 -0.390625 1.296875q-0.390625 0.59375 -1.125 0.9375q-0.734375 0.328125 -1.65625 0.328125q-1.171875 0 -1.96875 -0.328125q-0.78125 -0.34375 -1.234375 -1.03125q-0.4375 -0.6875 -0.453125 -1.546875zm7.8320312 0.1875l0 -1.0625l3.25 0l0 1.0625l-3.25 0zm4.4960938 2.578125l0 -8.59375l1.140625 0l0 4.265625l4.265625 -4.265625l1.546875 0l-3.609375 3.484375l3.765625 5.109375l-1.5 0l-3.0625 -4.34375l-1.40625 1.359375l0 2.984375l-1.140625 0zm8.613281 2.53125l-0.75 0q1.75 -2.8125 1.75 -5.640625q0 -1.09375 -0.25 -2.1875q-0.203125 -0.875 -0.5625 -1.6875q-0.234375 -0.515625 -0.9375 -1.75l0.75 0q1.09375 1.46875 1.625 2.953125q0.453125 1.28125 0.453125 2.671875q0 1.578125 -0.609375 3.0625q-0.609375 1.46875 -1.46875 2.578125z\" fill=\"#000000\" fill-rule=\"nonzero\"/><path d=\"m503.13498 271.2005l0 -1.578125l-1.546875 0l0 -0.65625l1.546875 0l0 -1.5625l0.671875 0l0 1.5625l1.5625 0l0 0.65625l-1.5625 0l0 1.578125l-0.671875 0z\" fill=\"#000000\" fill-rule=\"nonzero\"/><path d=\"m228.71129 55.67454l85.6693 0l0 76.220474l-85.6693 0z\" fill=\"#000000\" fill-opacity=\"0.0\" fill-rule=\"evenodd\"/><path d=\"m238.25816 73.42892l1.0625 -0.09375q0.078125 0.65625 0.359375 1.0625q0.28125 0.40625 0.859375 0.671875q0.59375 0.25 1.328125 0.25q0.640625 0 1.140625 -0.1875q0.5 -0.203125 0.734375 -0.53125q0.25 -0.34375 0.25 -0.734375q0 -0.40625 -0.234375 -0.703125q-0.234375 -0.3125 -0.765625 -0.515625q-0.359375 -0.140625 -1.546875 -0.421875q-1.171875 -0.28125 -1.640625 -0.53125q-0.625 -0.328125 -0.921875 -0.796875q-0.296875 -0.484375 -0.296875 -1.078125q0 -0.640625 0.359375 -1.203125q0.375 -0.578125 1.078125 -0.859375q0.71875 -0.296875 1.578125 -0.296875q0.953125 0 1.6875 0.3125q0.734375 0.296875 1.125 0.90625q0.390625 0.59375 0.421875 1.34375l-1.09375 0.078125q-0.09375 -0.8125 -0.609375 -1.21875q-0.5 -0.421875 -1.484375 -0.421875q-1.03125 0 -1.5 0.375q-0.46875 0.375 -0.46875 0.90625q0 0.46875 0.328125 0.765625q0.328125 0.296875 1.703125 0.609375q1.390625 0.3125 1.90625 0.546875q0.75 0.359375 1.109375 0.890625q0.359375 0.515625 0.359375 1.21875q0 0.6875 -0.390625 1.296875q-0.390625 0.59375 -1.125 0.9375q-0.734375 0.328125 -1.65625 0.328125q-1.171875 0 -1.96875 -0.328125q-0.78125 -0.34375 -1.234375 -1.03125q-0.4375 -0.6875 -0.453125 -1.546875z\" fill=\"#000000\" fill-rule=\"nonzero\"/><path d=\"m248.9652 80.69454l0 -0.609375q-0.484375 0.703125 -1.3125 0.703125q-0.375 0 -0.703125 -0.140625q-0.3125 -0.140625 -0.46875 -0.34375q-0.140625 -0.21875 -0.203125 -0.53125q-0.046875 -0.203125 -0.046875 -0.65625l0 -2.578125l0.703125 0l0 2.3125q0 0.546875 0.046875 0.734375q0.0625 0.28125 0.265625 0.4375q0.21875 0.15625 0.546875 0.15625q0.3125 0 0.578125 -0.15625q0.28125 -0.171875 0.390625 -0.4375q0.125 -0.28125 0.125 -0.8125l0 -2.234375l0.703125 0l0 4.15625l-0.625 0z\" fill=\"#000000\" fill-rule=\"nonzero\"/><path d=\"m256.50815 71.14767l-5.6718597 0l0 -0.984375l5.6718597 0l0 0.984375zm0 2.609375l-5.6718597 0l0 -0.984375l5.6718597 0l0 0.984375zm5.5390625 2.4375l0 -0.921875q-0.734375 1.0625 -1.984375 1.0625q-0.546875 0 -1.03125 -0.203125q-0.46875 -0.21875 -0.703125 -0.53125q-0.234375 -0.328125 -0.328125 -0.796875q-0.0625 -0.296875 -0.0625 -0.984375l0 -3.84375l1.0625 0l0 3.453125q0 0.8125 0.0625 1.109375q0.09375 0.40625 0.40625 0.65625q0.328125 0.234375 0.8125 0.234375q0.46875 0 0.875 -0.234375q0.421875 -0.25 0.59375 -0.671875q0.1875 -0.421875 0.1875 -1.21875l0 -3.328125l1.046875 0l0 6.21875l-0.9375 0zm2.3457031 -2.765625l1.0625 -0.09375q0.078125 0.65625 0.359375 1.0625q0.28125 0.40625 0.859375 0.671875q0.59375 0.25 1.328125 0.25q0.640625 0 1.140625 -0.1875q0.5 -0.203125 0.734375 -0.53125q0.25 -0.34375 0.25 -0.734375q0 -0.40625 -0.234375 -0.703125q-0.234375 -0.3125 -0.765625 -0.515625q-0.359375 -0.140625 -1.546875 -0.421875q-1.171875 -0.28125 -1.640625 -0.53125q-0.625 -0.328125 -0.921875 -0.796875q-0.296875 -0.484375 -0.296875 -1.078125q0 -0.640625 0.359375 -1.203125q0.375 -0.578125 1.078125 -0.859375q0.71875 -0.296875 1.578125 -0.296875q0.953125 0 1.6875 0.3125q0.734375 0.296875 1.125 0.90625q0.390625 0.59375 0.421875 1.34375l-1.09375 0.078125q-0.09375 -0.8125 -0.609375 -1.21875q-0.5 -0.421875 -1.484375 -0.421875q-1.03125 0 -1.5 0.375q-0.46875 0.375 -0.46875 0.90625q0 0.46875 0.328125 0.765625q0.328125 0.296875 1.703125 0.609375q1.390625 0.3125 1.90625 0.546875q0.75 0.359375 1.109375 0.890625q0.359375 0.515625 0.359375 1.21875q0 0.6875 -0.390625 1.296875q-0.390625 0.59375 -1.125 0.9375q-0.734375 0.328125 -1.65625 0.328125q-1.171875 0 -1.96875 -0.328125q-0.78125 -0.34375 -1.234375 -1.03125q-0.4375 -0.6875 -0.453125 -1.546875z\" fill=\"#000000\" fill-rule=\"nonzero\"/><path d=\"m238.58629 90.19454l0 -8.59375l3.234375 0q0.984375 0 1.578125 0.265625q0.59375 0.265625 0.921875 0.8125q0.34375 0.53125 0.34375 1.125q0 0.546875 -0.296875 1.03125q-0.296875 0.484375 -0.90625 0.78125q0.78125 0.234375 1.1875 0.796875q0.421875 0.546875 0.421875 1.296875q0 0.59375 -0.25 1.125q-0.25 0.515625 -0.625 0.796875q-0.375 0.28125 -0.953125 0.421875q-0.5625 0.140625 -1.375 0.140625l-3.28125 0zm1.140625 -4.984375l1.859375 0q0.75 0 1.078125 -0.09375q0.4375 -0.125 0.65625 -0.421875q0.21875 -0.3125 0.21875 -0.765625q0 -0.421875 -0.203125 -0.75q-0.203125 -0.328125 -0.59375 -0.4375q-0.375 -0.125 -1.296875 -0.125l-1.71875 0l0 2.59375zm0 3.96875l2.140625 0q0.546875 0 0.765625 -0.046875q0.40625 -0.0625 0.65625 -0.21875q0.265625 -0.171875 0.4375 -0.484375q0.171875 -0.3125 0.171875 -0.71875q0 -0.484375 -0.25 -0.84375q-0.234375 -0.359375 -0.671875 -0.5q-0.4375 -0.140625 -1.265625 -0.140625l-1.984375 0l0 2.953125z\" fill=\"#000000\" fill-rule=\"nonzero\"/><path d=\"m248.9652 94.69454l0 -0.609375q-0.484375 0.703125 -1.3125 0.703125q-0.375 0 -0.703125 -0.140625q-0.3125 -0.140625 -0.46875 -0.34375q-0.140625 -0.21875 -0.203125 -0.53125q-0.046875 -0.203125 -0.046875 -0.65625l0 -2.578125l0.703125 0l0 2.3125q0 0.546875 0.046875 0.734375q0.0625 0.28125 0.265625 0.4375q0.21875 0.15625 0.546875 0.15625q0.3125 0 0.578125 -0.15625q0.28125 -0.171875 0.390625 -0.4375q0.125 -0.28125 0.125 -0.8125l0 -2.234375l0.703125 0l0 4.15625l-0.625 0z\" fill=\"#000000\" fill-rule=\"nonzero\"/><path d=\"m256.50815 85.14767l-5.6718597 0l0 -0.984375l5.6718597 0l0 0.984375zm0 2.609375l-5.6718597 0l0 -0.984375l5.6718597 0l0 0.984375zm1.5390625 2.4375l0 -8.59375l3.234375 0q0.984375 0 1.578125 0.265625q0.59375 0.265625 0.921875 0.8125q0.34375 0.53125 0.34375 1.125q0 0.546875 -0.296875 1.03125q-0.296875 0.484375 -0.90625 0.78125q0.78125 0.234375 1.1875 0.796875q0.421875 0.546875 0.421875 1.296875q0 0.59375 -0.25 1.125q-0.25 0.515625 -0.625 0.796875q-0.375 0.28125 -0.953125 0.421875q-0.5625 0.140625 -1.375 0.140625l-3.28125 0zm1.140625 -4.984375l1.859375 0q0.75 0 1.078125 -0.09375q0.4375 -0.125 0.65625 -0.421875q0.21875 -0.3125 0.21875 -0.765625q0 -0.421875 -0.203125 -0.75q-0.203125 -0.328125 -0.59375 -0.4375q-0.375 -0.125 -1.296875 -0.125l-1.71875 0l0 2.59375zm0 3.96875l2.140625 0q0.546875 0 0.765625 -0.046875q0.40625 -0.0625 0.65625 -0.21875q0.265625 -0.171875 0.4375 -0.484375q0.171875 -0.3125 0.171875 -0.71875q0 -0.484375 -0.25 -0.84375q-0.234375 -0.359375 -0.671875 -0.5q-0.4375 -0.140625 -1.265625 -0.140625l-1.984375 0l0 2.953125zm11.035156 -0.984375l1.09375 0.125q-0.25 0.953125 -0.953125 1.484375q-0.703125 0.53125 -1.78125 0.53125q-1.359375 0 -2.171875 -0.84375q-0.796875 -0.84375 -0.796875 -2.359375q0 -1.5625 0.8125 -2.421875q0.8125 -0.875 2.09375 -0.875q1.25 0 2.03125 0.84375q0.796875 0.84375 0.796875 2.390625q0 0.09375 0 0.28125l-4.640625 0q0.0625 1.03125 0.578125 1.578125q0.515625 0.53125 1.296875 0.53125q0.578125 0 0.984375 -0.296875q0.421875 -0.3125 0.65625 -0.96875zm-3.453125 -1.703125l3.46875 0q-0.0625 -0.796875 -0.390625 -1.1875q-0.515625 -0.609375 -1.3125 -0.609375q-0.734375 0 -1.234375 0.484375q-0.484375 0.484375 -0.53125 1.3125z\" fill=\"#000000\" fill-rule=\"nonzero\"/><path d=\"m272.36557 85.69454l0 -4.15625l0.640625 0l0 0.640625q0.234375 -0.453125 0.4375 -0.59375q0.21875 -0.140625 0.453125 -0.140625q0.359375 0 0.734375 0.234375l-0.25 0.65625q-0.25 -0.15625 -0.515625 -0.15625q-0.234375 0 -0.421875 0.140625q-0.171875 0.140625 -0.25 0.375q-0.125 0.375 -0.125 0.828125l0 2.171875l-0.703125 0zm2.1328125 0l2.203125 -5.734375l0.828125 0l2.34375 5.734375l-5.375 0zm1.0625 -0.671875l3.1875 0l-1.25 -3.265625q-0.265625 -0.734375 -0.40625 -1.1875q-0.09375 0.53125 -0.296875 1.09375l-1.234375 3.359375zm6.359375 0.046875l0.109375 0.609375q-0.296875 0.078125 -0.53125 0.078125q-0.390625 0 -0.609375 -0.125q-0.203125 -0.125 -0.296875 -0.3125q-0.078125 -0.203125 -0.078125 -0.84375l0 -2.390625l-0.515625 0l0 -0.546875l0.515625 0l0 -1.015625l0.703125 -0.421875l0 1.4375l0.703125 0l0 0.546875l-0.703125 0l0 2.4375q0 0.296875 0.03125 0.390625q0.046875 0.078125 0.125 0.125q0.078125 0.046875 0.234375 0.046875q0.125 0 0.3125 -0.015625z\" fill=\"#000000\" fill-rule=\"nonzero\"/><path d=\"m244.77379 101.17892l1.125 0.296875q-0.359375 1.390625 -1.28125 2.125q-0.921875 0.734375 -2.265625 0.734375q-1.390625 0 -2.265625 -0.5625q-0.875 -0.5625 -1.328125 -1.625q-0.453125 -1.078125 -0.453125 -2.3125q0 -1.34375 0.515625 -2.34375q0.515625 -1.0 1.453125 -1.515625q0.953125 -0.515625 2.09375 -0.515625q1.28125 0 2.15625 0.65625q0.890625 0.65625 1.234375 1.84375l-1.125 0.265625q-0.296875 -0.9375 -0.875 -1.359375q-0.5625 -0.4375 -1.421875 -0.4375q-0.984375 0 -1.65625 0.484375q-0.65625 0.46875 -0.9375 1.265625q-0.265625 0.796875 -0.265625 1.65625q0 1.09375 0.3125 1.90625q0.328125 0.8125 1.0 1.21875q0.671875 0.40625 1.46875 0.40625q0.953125 0 1.609375 -0.546875q0.671875 -0.546875 0.90625 -1.640625z\" fill=\"#000000\" fill-rule=\"nonzero\"/><path d=\"m249.6273 108.69454l0 -0.609375q-0.484375 0.703125 -1.3125 0.703125q-0.375 0 -0.703125 -0.140625q-0.3125 -0.140625 -0.46875 -0.34375q-0.140625 -0.21875 -0.203125 -0.53125q-0.046875 -0.203125 -0.046875 -0.65625l0 -2.578125l0.703125 0l0 2.3125q0 0.546875 0.046875 0.734375q0.0625 0.28125 0.265625 0.4375q0.21875 0.15625 0.546875 0.15625q0.3125 0 0.578125 -0.15625q0.28125 -0.171875 0.390625 -0.4375q0.125 -0.28125 0.125 -0.8125l0 -2.234375l0.703125 0l0 4.15625l-0.625 0z\" fill=\"#000000\" fill-rule=\"nonzero\"/><path d=\"m257.17026 99.14767l-5.6718597 0l0 -0.984375l5.6718597 0l0 0.984375zm0 2.609375l-5.6718597 0l0 -0.984375l5.6718597 0l0 0.984375zm3.4765625 4.96875q-0.875 -1.109375 -1.484375 -2.578125q-0.59375 -1.484375 -0.59375 -3.0625q0 -1.390625 0.4375 -2.671875q0.53125 -1.484375 1.640625 -2.953125l0.75 0q-0.703125 1.21875 -0.9375 1.734375q-0.359375 0.8125 -0.5625 1.6875q-0.25 1.09375 -0.25 2.203125q0 2.828125 1.75 5.640625l-0.75 0zm6.0585938 -2.53125l0 -0.921875q-0.734375 1.0625 -1.984375 1.0625q-0.546875 0 -1.03125 -0.203125q-0.46875 -0.21875 -0.703125 -0.53125q-0.234375 -0.328125 -0.328125 -0.796875q-0.0625 -0.296875 -0.0625 -0.984375l0 -3.84375l1.0625 0l0 3.453125q0 0.8125 0.0625 1.109375q0.09375 0.40625 0.40625 0.65625q0.328125 0.234375 0.8125 0.234375q0.46875 0 0.875 -0.234375q0.421875 -0.25 0.59375 -0.671875q0.1875 -0.421875 0.1875 -1.21875l0 -3.328125l1.046875 0l0 6.21875l-0.9375 0zm2.3457031 -2.765625l1.0625 -0.09375q0.078125 0.65625 0.359375 1.0625q0.28125 0.40625 0.859375 0.671875q0.59375 0.25 1.328125 0.25q0.640625 0 1.140625 -0.1875q0.5 -0.203125 0.734375 -0.53125q0.25 -0.34375 0.25 -0.734375q0 -0.40625 -0.234375 -0.703125q-0.234375 -0.3125 -0.765625 -0.515625q-0.359375 -0.140625 -1.546875 -0.421875q-1.171875 -0.28125 -1.640625 -0.53125q-0.625 -0.328125 -0.921875 -0.796875q-0.296875 -0.484375 -0.296875 -1.078125q0 -0.640625 0.359375 -1.203125q0.375 -0.578125 1.078125 -0.859375q0.71875 -0.296875 1.578125 -0.296875q0.953125 0 1.6875 0.3125q0.734375 0.296875 1.125 0.90625q0.390625 0.59375 0.421875 1.34375l-1.09375 0.078125q-0.09375 -0.8125 -0.609375 -1.21875q-0.5 -0.421875 -1.484375 -0.421875q-1.03125 0 -1.5 0.375q-0.46875 0.375 -0.46875 0.90625q0 0.46875 0.328125 0.765625q0.328125 0.296875 1.703125 0.609375q1.390625 0.3125 1.90625 0.546875q0.75 0.359375 1.109375 0.890625q0.359375 0.515625 0.359375 1.21875q0 0.6875 -0.390625 1.296875q-0.390625 0.59375 -1.125 0.9375q-0.734375 0.328125 -1.65625 0.328125q-1.171875 0 -1.96875 -0.328125q-0.78125 -0.34375 -1.234375 -1.03125q-0.4375 -0.6875 -0.453125 -1.546875zm7.8320312 0.1875l0 -1.0625l3.25 0l0 1.0625l-3.25 0zm4.4960938 2.578125l0 -8.59375l1.140625 0l0 4.265625l4.265625 -4.265625l1.546875 0l-3.609375 3.484375l3.765625 5.109375l-1.5 0l-3.0625 -4.34375l-1.40625 1.359375l0 2.984375l-1.140625 0zm8.613281 2.53125l-0.75 0q1.75 -2.8125 1.75 -5.640625q0 -1.09375 -0.25 -2.1875q-0.203125 -0.875 -0.5625 -1.6875q-0.234375 -0.515625 -0.9375 -1.75l0.75 0q1.09375 1.46875 1.625 2.953125q0.453125 1.28125 0.453125 2.671875q0 1.578125 -0.609375 3.0625q-0.609375 1.46875 -1.46875 2.578125z\" fill=\"#000000\" fill-rule=\"nonzero\"/><path d=\"m294.50424 98.77267l0 -1.578125l-1.546875 0l0 -0.65625l1.546875 0l0 -1.5625l0.671875 0l0 1.5625l1.5625 0l0 0.65625l-1.5625 0l0 1.578125l-0.671875 0z\" fill=\"#000000\" fill-rule=\"nonzero\"/><path d=\"m224.69029 214.42783l116.157486 0l0 76.22046l-116.157486 0z\" fill=\"#000000\" fill-opacity=\"0.0\" fill-rule=\"evenodd\"/><path d=\"m234.23717 232.18219l1.0625 -0.09375q0.078125 0.65625 0.359375 1.0625q0.28125 0.40625 0.859375 0.671875q0.59375 0.25 1.328125 0.25q0.640625 0 1.140625 -0.1875q0.5 -0.203125 0.734375 -0.53125q0.25 -0.34375 0.25 -0.734375q0 -0.40625 -0.234375 -0.703125q-0.234375 -0.3125 -0.765625 -0.515625q-0.359375 -0.140625 -1.546875 -0.421875q-1.171875 -0.28125 -1.640625 -0.53125q-0.625 -0.328125 -0.921875 -0.796875q-0.296875 -0.484375 -0.296875 -1.078125q0 -0.640625 0.359375 -1.203125q0.375 -0.578125 1.078125 -0.859375q0.71875 -0.296875 1.578125 -0.296875q0.953125 0 1.6875 0.3125q0.734375 0.296875 1.125 0.90625q0.390625 0.59375 0.421875 1.34375l-1.09375 0.078125q-0.09375 -0.8125 -0.609375 -1.21875q-0.5 -0.421875 -1.484375 -0.421875q-1.03125 0 -1.5 0.375q-0.46875 0.375 -0.46875 0.90625q0 0.46875 0.328125 0.765625q0.328125 0.296875 1.703125 0.609375q1.390625 0.3125 1.90625 0.546875q0.75 0.359375 1.109375 0.890625q0.359375 0.515625 0.359375 1.21875q0 0.6875 -0.390625 1.296875q-0.390625 0.59375 -1.125 0.9375q-0.734375 0.328125 -1.65625 0.328125q-1.171875 0 -1.96875 -0.328125q-0.78125 -0.34375 -1.234375 -1.03125q-0.4375 -0.6875 -0.453125 -1.546875z\" fill=\"#000000\" fill-rule=\"nonzero\"/><path d=\"m244.91295 239.44781l0 -0.53125q-0.390625 0.625 -1.15625 0.625q-0.5 0 -0.921875 -0.265625q-0.40625 -0.28125 -0.640625 -0.765625q-0.21875 -0.5 -0.21875 -1.140625q0 -0.609375 0.203125 -1.109375q0.203125 -0.515625 0.609375 -0.78125q0.421875 -0.28125 0.9375 -0.28125q0.375 0 0.65625 0.171875q0.296875 0.15625 0.484375 0.40625l0 -2.0625l0.703125 0l0 5.734375l-0.65625 0zm-2.21875 -2.078125q0 0.796875 0.328125 1.203125q0.34375 0.390625 0.796875 0.390625q0.46875 0 0.78125 -0.375q0.328125 -0.375 0.328125 -1.15625q0 -0.84375 -0.328125 -1.234375q-0.328125 -0.40625 -0.8125 -0.40625q-0.46875 0 -0.78125 0.390625q-0.3125 0.375 -0.3125 1.1875z\" fill=\"#000000\" fill-rule=\"nonzero\"/><path d=\"m252.48717 229.90094l-5.671875 0l0 -0.984375l5.671875 0l0 0.984375zm0 2.609375l-5.671875 0l0 -0.984375l5.671875 0l0 0.984375zm5.4921722 2.4375l0 -0.78125q-0.59375 0.921875 -1.734375 0.921875q-0.74998474 0 -1.3749847 -0.40625q-0.625 -0.421875 -0.96875 -1.15625q-0.34375 -0.734375 -0.34375 -1.6875q0 -0.921875 0.3125 -1.6875q0.3125 -0.765625 0.9375 -1.15625q0.625 -0.40625 1.3906097 -0.40625q0.5625 0 1.0 0.234375q0.4375 0.234375 0.71875 0.609375l0 -3.078125l1.046875 0l0 8.59375l-0.984375 0zm-3.3281097 -3.109375q0 1.203125 0.5 1.796875q0.5 0.578125 1.1874847 0.578125q0.6875 0 1.171875 -0.5625q0.484375 -0.5625 0.484375 -1.71875q0 -1.28125 -0.5 -1.875q-0.484375 -0.59375 -1.203125 -0.59375q-0.70310974 0 -1.1718597 0.578125q-0.46875 0.5625 -0.46875 1.796875zm5.720688 0.34375l1.0625 -0.09375q0.078125 0.65625 0.359375 1.0625q0.28125 0.40625 0.859375 0.671875q0.59375 0.25 1.328125 0.25q0.640625 0 1.140625 -0.1875q0.5 -0.203125 0.734375 -0.53125q0.25 -0.34375 0.25 -0.734375q0 -0.40625 -0.234375 -0.703125q-0.234375 -0.3125 -0.765625 -0.515625q-0.359375 -0.140625 -1.546875 -0.421875q-1.171875 -0.28125 -1.640625 -0.53125q-0.625 -0.328125 -0.921875 -0.796875q-0.296875 -0.484375 -0.296875 -1.078125q0 -0.640625 0.359375 -1.203125q0.375 -0.578125 1.078125 -0.859375q0.71875 -0.296875 1.578125 -0.296875q0.953125 0 1.6875 0.3125q0.734375 0.296875 1.125 0.90625q0.390625 0.59375 0.421875 1.34375l-1.09375 0.078125q-0.09375 -0.8125 -0.609375 -1.21875q-0.5 -0.421875 -1.484375 -0.421875q-1.03125 0 -1.5 0.375q-0.46875 0.375 -0.46875 0.90625q0 0.46875 0.328125 0.765625q0.328125 0.296875 1.703125 0.609375q1.390625 0.3125 1.90625 0.546875q0.75 0.359375 1.109375 0.890625q0.359375 0.515625 0.359375 1.21875q0 0.6875 -0.390625 1.296875q-0.390625 0.59375 -1.125 0.9375q-0.734375 0.328125 -1.65625 0.328125q-1.171875 0 -1.96875 -0.328125q-0.78125 -0.34375 -1.234375 -1.03125q-0.4375 -0.6875 -0.453125 -1.546875z\" fill=\"#000000\" fill-rule=\"nonzero\"/><path d=\"m234.56529 248.94781l0 -8.59375l3.234375 0q0.984375 0 1.578125 0.265625q0.59375 0.265625 0.921875 0.8125q0.34375 0.53125 0.34375 1.125q0 0.546875 -0.296875 1.03125q-0.296875 0.484375 -0.90625 0.78125q0.78125 0.234375 1.1875 0.796875q0.421875 0.546875 0.421875 1.296875q0 0.59375 -0.25 1.125q-0.25 0.515625 -0.625 0.796875q-0.375 0.28125 -0.953125 0.421875q-0.5625 0.140625 -1.375 0.140625l-3.28125 0zm1.140625 -4.984375l1.859375 0q0.75 0 1.078125 -0.09375q0.4375 -0.125 0.65625 -0.421875q0.21875 -0.3125 0.21875 -0.765625q0 -0.421875 -0.203125 -0.75q-0.203125 -0.328125 -0.59375 -0.4375q-0.375 -0.125 -1.296875 -0.125l-1.71875 0l0 2.59375zm0 3.96875l2.140625 0q0.546875 0 0.765625 -0.046875q0.40625 -0.0625 0.65625 -0.21875q0.265625 -0.171875 0.4375 -0.484375q0.171875 -0.3125 0.171875 -0.71875q0 -0.484375 -0.25 -0.84375q-0.234375 -0.359375 -0.671875 -0.5q-0.4375 -0.140625 -1.265625 -0.140625l-1.984375 0l0 2.953125z\" fill=\"#000000\" fill-rule=\"nonzero\"/><path d=\"m244.91295 253.44781l0 -0.53125q-0.390625 0.625 -1.15625 0.625q-0.5 0 -0.921875 -0.265625q-0.40625 -0.28125 -0.640625 -0.765625q-0.21875 -0.5 -0.21875 -1.140625q0 -0.609375 0.203125 -1.109375q0.203125 -0.515625 0.609375 -0.78125q0.421875 -0.28125 0.9375 -0.28125q0.375 0 0.65625 0.171875q0.296875 0.15625 0.484375 0.40625l0 -2.0625l0.703125 0l0 5.734375l-0.65625 0zm-2.21875 -2.078125q0 0.796875 0.328125 1.203125q0.34375 0.390625 0.796875 0.390625q0.46875 0 0.78125 -0.375q0.328125 -0.375 0.328125 -1.15625q0 -0.84375 -0.328125 -1.234375q-0.328125 -0.40625 -0.8125 -0.40625q-0.46875 0 -0.78125 0.390625q-0.3125 0.375 -0.3125 1.1875z\" fill=\"#000000\" fill-rule=\"nonzero\"/><path d=\"m252.48717 243.90094l-5.671875 0l0 -0.984375l5.671875 0l0 0.984375zm0 2.609375l-5.671875 0l0 -0.984375l5.671875 0l0 0.984375zm1.5390625 2.4375l0 -8.59375l3.2343597 0q0.984375 0 1.578125 0.265625q0.59375 0.265625 0.921875 0.8125q0.34375 0.53125 0.34375 1.125q0 0.546875 -0.296875 1.03125q-0.296875 0.484375 -0.90625 0.78125q0.78125 0.234375 1.1875 0.796875q0.421875 0.546875 0.421875 1.296875q0 0.59375 -0.25 1.125q-0.25 0.515625 -0.625 0.796875q-0.375 0.28125 -0.953125 0.421875q-0.5625 0.140625 -1.375 0.140625l-3.2812347 0zm1.140625 -4.984375l1.8593597 0q0.75 0 1.078125 -0.09375q0.4375 -0.125 0.65625 -0.421875q0.21875 -0.3125 0.21875 -0.765625q0 -0.421875 -0.203125 -0.75q-0.203125 -0.328125 -0.59375 -0.4375q-0.375 -0.125 -1.296875 -0.125l-1.7187347 0l0 2.59375zm0 3.96875l2.1406097 0q0.546875 0 0.765625 -0.046875q0.40625 -0.0625 0.65625 -0.21875q0.265625 -0.171875 0.4375 -0.484375q0.171875 -0.3125 0.171875 -0.71875q0 -0.484375 -0.25 -0.84375q-0.234375 -0.359375 -0.671875 -0.5q-0.4375 -0.140625 -1.265625 -0.140625l-1.9843597 0l0 2.953125zm11.035141 -0.984375l1.09375 0.125q-0.25 0.953125 -0.953125 1.484375q-0.703125 0.53125 -1.78125 0.53125q-1.359375 0 -2.171875 -0.84375q-0.796875 -0.84375 -0.796875 -2.359375q0 -1.5625 0.8125 -2.421875q0.8125 -0.875 2.09375 -0.875q1.25 0 2.03125 0.84375q0.796875 0.84375 0.796875 2.390625q0 0.09375 0 0.28125l-4.640625 0q0.0625 1.03125 0.578125 1.578125q0.515625 0.53125 1.296875 0.53125q0.578125 0 0.984375 -0.296875q0.421875 -0.3125 0.65625 -0.96875zm-3.453125 -1.703125l3.46875 0q-0.0625 -0.796875 -0.390625 -1.1875q-0.515625 -0.609375 -1.3125 -0.609375q-0.734375 0 -1.234375 0.484375q-0.484375 0.484375 -0.53125 1.3125z\" fill=\"#000000\" fill-rule=\"nonzero\"/><path d=\"m268.34457 244.44781l0 -4.15625l0.640625 0l0 0.640625q0.234375 -0.453125 0.4375 -0.59375q0.21875 -0.140625 0.453125 -0.140625q0.359375 0 0.734375 0.234375l-0.25 0.65625q-0.25 -0.15625 -0.515625 -0.15625q-0.234375 0 -0.421875 0.140625q-0.171875 0.140625 -0.25 0.375q-0.125 0.375 -0.125 0.828125l0 2.171875l-0.703125 0zm2.1328125 0l2.203125 -5.734375l0.828125 0l2.34375 5.734375l-5.375 0zm1.0625 -0.671875l3.1875 0l-1.25 -3.265625q-0.265625 -0.734375 -0.40625 -1.1875q-0.09375 0.53125 -0.296875 1.09375l-1.234375 3.359375zm6.359375 0.046875l0.109375 0.609375q-0.296875 0.078125 -0.53125 0.078125q-0.390625 0 -0.609375 -0.125q-0.203125 -0.125 -0.296875 -0.3125q-0.078125 -0.203125 -0.078125 -0.84375l0 -2.390625l-0.515625 0l0 -0.546875l0.515625 0l0 -1.015625l0.703125 -0.421875l0 1.4375l0.703125 0l0 0.546875l-0.703125 0l0 2.4375q0 0.296875 0.03125 0.390625q0.046875 0.078125 0.125 0.125q0.078125 0.046875 0.234375 0.046875q0.125 0 0.3125 -0.015625z\" fill=\"#000000\" fill-rule=\"nonzero\"/><path d=\"m240.75279 259.9322l1.125 0.296875q-0.359375 1.390625 -1.28125 2.125q-0.921875 0.734375 -2.265625 0.734375q-1.390625 0 -2.265625 -0.5625q-0.875 -0.5625 -1.328125 -1.625q-0.453125 -1.078125 -0.453125 -2.3125q0 -1.34375 0.515625 -2.34375q0.515625 -1.0 1.453125 -1.515625q0.953125 -0.515625 2.09375 -0.515625q1.28125 0 2.15625 0.65625q0.890625 0.65625 1.234375 1.84375l-1.125 0.265625q-0.296875 -0.9375 -0.875 -1.359375q-0.5625 -0.4375 -1.421875 -0.4375q-0.984375 0 -1.65625 0.484375q-0.65625 0.46875 -0.9375 1.265625q-0.265625 0.796875 -0.265625 1.65625q0 1.09375 0.3125 1.90625q0.328125 0.8125 1.0 1.21875q0.671875 0.40625 1.46875 0.40625q0.953125 0 1.609375 -0.546875q0.671875 -0.546875 0.90625 -1.640625z\" fill=\"#000000\" fill-rule=\"nonzero\"/><path d=\"m245.57506 267.4478l0 -0.53125q-0.390625 0.625 -1.15625 0.625q-0.5 0 -0.921875 -0.265625q-0.40625 -0.28125 -0.640625 -0.765625q-0.21875 -0.5 -0.21875 -1.140625q0 -0.609375 0.203125 -1.109375q0.203125 -0.515625 0.609375 -0.78125q0.421875 -0.28125 0.9375 -0.28125q0.375 0 0.65625 0.171875q0.296875 0.15625 0.484375 0.40625l0 -2.0625l0.703125 0l0 5.734375l-0.65625 0zm-2.21875 -2.078125q0 0.796875 0.328125 1.203125q0.34375 0.390625 0.796875 0.390625q0.46875 0 0.78125 -0.375q0.328125 -0.375 0.328125 -1.15625q0 -0.84375 -0.328125 -1.234375q-0.328125 -0.40625 -0.8125 -0.40625q-0.46875 0 -0.78125 0.390625q-0.3125 0.375 -0.3125 1.1875z\" fill=\"#000000\" fill-rule=\"nonzero\"/><path d=\"m253.14928 257.90094l-5.671875 0l0 -0.984375l5.671875 0l0 0.984375zm0 2.609375l-5.671875 0l0 -0.984375l5.671875 0l0 0.984375zm3.4765472 4.96875q-0.87498474 -1.109375 -1.4843597 -2.578125q-0.59375 -1.484375 -0.59375 -3.0625q0 -1.390625 0.4375 -2.671875q0.53125 -1.484375 1.6406097 -2.953125l0.75 0q-0.703125 1.21875 -0.9375 1.734375q-0.359375 0.8125 -0.56248474 1.6875q-0.25 1.09375 -0.25 2.203125q0 2.828125 1.7499847 5.640625l-0.75 0zm6.0117188 -2.53125l0 -0.78125q-0.59375 0.921875 -1.734375 0.921875q-0.75 0 -1.375 -0.40625q-0.625 -0.421875 -0.96875 -1.15625q-0.34375 -0.734375 -0.34375 -1.6875q0 -0.921875 0.3125 -1.6875q0.3125 -0.765625 0.9375 -1.15625q0.625 -0.40625 1.390625 -0.40625q0.5625 0 1.0 0.234375q0.4375 0.234375 0.71875 0.609375l0 -3.078125l1.046875 0l0 8.59375l-0.984375 0zm-3.328125 -3.109375q0 1.203125 0.5 1.796875q0.5 0.578125 1.1875 0.578125q0.6875 0 1.171875 -0.5625q0.484375 -0.5625 0.484375 -1.71875q0 -1.28125 -0.5 -1.875q-0.484375 -0.59375 -1.203125 -0.59375q-0.703125 0 -1.171875 0.578125q-0.46875 0.5625 -0.46875 1.796875zm5.720703 0.34375l1.0625 -0.09375q0.078125 0.65625 0.359375 1.0625q0.28125 0.40625 0.859375 0.671875q0.59375 0.25 1.328125 0.25q0.640625 0 1.140625 -0.1875q0.5 -0.203125 0.734375 -0.53125q0.25 -0.34375 0.25 -0.734375q0 -0.40625 -0.234375 -0.703125q-0.234375 -0.3125 -0.765625 -0.515625q-0.359375 -0.140625 -1.546875 -0.421875q-1.171875 -0.28125 -1.640625 -0.53125q-0.625 -0.328125 -0.921875 -0.796875q-0.296875 -0.484375 -0.296875 -1.078125q0 -0.640625 0.359375 -1.203125q0.375 -0.578125 1.078125 -0.859375q0.71875 -0.296875 1.578125 -0.296875q0.953125 0 1.6875 0.3125q0.734375 0.296875 1.125 0.90625q0.390625 0.59375 0.421875 1.34375l-1.09375 0.078125q-0.09375 -0.8125 -0.609375 -1.21875q-0.5 -0.421875 -1.484375 -0.421875q-1.03125 0 -1.5 0.375q-0.46875 0.375 -0.46875 0.90625q0 0.46875 0.328125 0.765625q0.328125 0.296875 1.703125 0.609375q1.390625 0.3125 1.90625 0.546875q0.75 0.359375 1.109375 0.890625q0.359375 0.515625 0.359375 1.21875q0 0.6875 -0.390625 1.296875q-0.390625 0.59375 -1.125 0.9375q-0.734375 0.328125 -1.65625 0.328125q-1.171875 0 -1.96875 -0.328125q-0.78125 -0.34375 -1.234375 -1.03125q-0.4375 -0.6875 -0.453125 -1.546875zm7.8320312 0.1875l0 -1.0625l3.25 0l0 1.0625l-3.25 0zm4.4960938 2.578125l0 -8.59375l1.140625 0l0 4.265625l4.265625 -4.265625l1.546875 0l-3.609375 3.484375l3.765625 5.109375l-1.5 0l-3.0625 -4.34375l-1.40625 1.359375l0 2.984375l-1.140625 0zm8.613281 2.53125l-0.75 0q1.75 -2.8125 1.75 -5.640625q0 -1.09375 -0.25 -2.1875q-0.203125 -0.875 -0.5625 -1.6875q-0.234375 -0.515625 -0.9375 -1.75l0.75 0q1.09375 1.46875 1.625 2.953125q0.453125 1.28125 0.453125 2.671875q0 1.578125 -0.609375 3.0625q-0.609375 1.46875 -1.46875 2.578125z\" fill=\"#000000\" fill-rule=\"nonzero\"/><path d=\"m290.48325 257.52594l0 -1.578125l-1.546875 0l0 -0.65625l1.546875 0l0 -1.5625l0.671875 0l0 1.5625l1.5625 0l0 0.65625l-1.5625 0l0 1.578125l-0.671875 0z\" fill=\"#000000\" fill-rule=\"nonzero\"/><path d=\"m280.29398 322.7244l130.2677 0\" fill=\"#000000\" fill-opacity=\"0.0\" fill-rule=\"evenodd\"/><path d=\"m280.29398 322.7244l124.2677 0\" fill-rule=\"evenodd\" stroke=\"#000000\" stroke-linecap=\"butt\" stroke-linejoin=\"round\" stroke-width=\"1.0\"/><path d=\"m404.56168 324.37613l4.5381165 -1.6517334l-4.5381165 -1.6517334z\" fill=\"#000000\" fill-rule=\"evenodd\" stroke=\"#000000\" stroke-linecap=\"butt\" stroke-width=\"1.0\"/><path d=\"m390.8714 326.24933l68.188965 0l0 30.519714l-68.188965 0z\" fill=\"#000000\" fill-opacity=\"0.0\" fill-rule=\"evenodd\"/><path d=\"m402.98077 346.76935l0 -7.578125l-2.828125 0l0 -1.015625l6.8125 0l0 1.015625l-2.84375 0l0 7.578125l-1.140625 0zm10.564453 -5.046875l-5.671875 0l0 -0.984375l5.671875 0l0 0.984375zm0 2.609375l-5.671875 0l0 -0.984375l5.671875 0l0 0.984375zm6.7109375 1.421875l0 1.015625l-5.6875 0q0 -0.375 0.125 -0.734375q0.21875 -0.578125 0.6875 -1.140625q0.484375 -0.5625 1.390625 -1.296875q1.40625 -1.15625 1.890625 -1.828125q0.5 -0.671875 0.5 -1.265625q0 -0.625 -0.453125 -1.046875q-0.453125 -0.4375 -1.171875 -0.4375q-0.765625 0 -1.21875 0.453125q-0.453125 0.453125 -0.46875 1.265625l-1.078125 -0.109375q0.109375 -1.21875 0.828125 -1.84375q0.734375 -0.640625 1.96875 -0.640625q1.234375 0 1.953125 0.6875q0.71875 0.6875 0.71875 1.703125q0 0.515625 -0.21875 1.015625q-0.203125 0.484375 -0.703125 1.046875q-0.484375 0.546875 -1.609375 1.5q-0.953125 0.796875 -1.234375 1.09375q-0.265625 0.28125 -0.4375 0.5625l4.21875 0zm0.6113281 1.015625l3.296875 -8.59375l1.234375 0l3.515625 8.59375l-8.046875 0zm1.578125 -1.015625l4.78125 0l-1.859375 -4.890625q-0.421875 -1.109375 -0.609375 -1.78125q-0.15625 0.796875 -0.46875 1.640625l-1.84375 5.03125zm9.546875 0.078125l0.15625 0.921875q-0.453125 0.09375 -0.796875 0.09375q-0.578125 0 -0.890625 -0.171875q-0.3125 -0.1875 -0.453125 -0.484375q-0.125 -0.296875 -0.125 -1.25l0 -3.578125l-0.765625 0l0 -0.8125l0.765625 0l0 -1.546875l1.046875 -0.625l0 2.171875l1.0625 0l0 0.8125l-1.0625 0l0 3.640625q0 0.453125 0.046875 0.578125q0.0625 0.125 0.1875 0.203125q0.125 0.078125 0.359375 0.078125q0.1875 0 0.46875 -0.03125z\" fill=\"#000000\" fill-rule=\"nonzero\"/></g></svg>"
      ],
      "text/plain": [
       "<IPython.core.display.SVG object>"
      ]
     },
     "execution_count": 4,
     "metadata": {},
     "output_type": "execute_result"
    }
   ],
   "source": [
    "SVG(filename='img/binom4.svg')"
   ]
  },
  {
   "cell_type": "markdown",
   "metadata": {},
   "source": [
    "Two-period tree = working backward:\n",
    "\n",
    "1. First, find prices $C_u$ and $C_d$:\n",
    "\n",
    "$C_u = e^{-r∆t} (p C_{uu}  + (1-p)C_{ud})$\n",
    "\n",
    "$C_d = e^{-r∆t} (p C_{ud}  + (1-p)C_{dd})$\n",
    "\n",
    "2. Second, find the current price (at $t=0$):\n",
    "\n",
    "$C = e^{-r∆t} (p C_u  + (1-p)C_d)$\n",
    "\n",
    "\n"
   ]
  },
  {
   "cell_type": "markdown",
   "metadata": {},
   "source": [
    "<br>\n",
    "\n",
    "## __Multi-Period Binomial Model__ "
   ]
  },
  {
   "cell_type": "markdown",
   "metadata": {},
   "source": [
    "__Notations__:\n",
    "\n",
    "* $n$ time periods; $T = n\\Delta t$; \n",
    "\n",
    "* $n+1$ terminal prices\n",
    "\n",
    "* $2^n$ possible paths\n",
    "\n",
    "* We index each node as $(i,j)$: \n",
    "\n",
    "    * $i$: number of time steps to the node $(i,j)$; $~i=1,n$\n",
    "    \n",
    "    * $j$: number of up moves to the node $(i,j)$; $~j=1,i$\n",
    "\n",
    "* $S_{i,j} = u^{j}d^{i-j}S_0$: price at the node $(i,j)$ \n",
    "\n",
    "* Call option payoffs at terminal nodes: $C_{n,j} = (S_{n,j}-K)^{+}$"
   ]
  },
  {
   "cell_type": "code",
   "execution_count": 5,
   "metadata": {},
   "outputs": [
    {
     "data": {
      "image/svg+xml": [
       "<svg fill=\"none\" stroke=\"none\" stroke-linecap=\"square\" stroke-miterlimit=\"10\" version=\"1.1\" viewBox=\"0.0 0.0 777.2073490813648 402.4803149606299\" xmlns=\"http://www.w3.org/2000/svg\" xmlns:xlink=\"http://www.w3.org/1999/xlink\"><clipPath id=\"p.0\"><path clip-rule=\"nonzero\" d=\"m0 0l777.20734 0l0 402.48032l-777.20734 0l0 -402.48032z\"/></clipPath><g clip-path=\"url(#p.0)\"><path d=\"m0 0l777.20734 0l0 402.48032l-777.20734 0z\" fill=\"#000000\" fill-opacity=\"0.0\" fill-rule=\"evenodd\"/><path d=\"m124.629036 175.583l101.10236 -22.582672\" fill=\"#000000\" fill-opacity=\"0.0\" fill-rule=\"evenodd\"/><path d=\"m124.629036 175.58301l95.246666 -21.274734\" fill-rule=\"evenodd\" stroke=\"#000000\" stroke-linecap=\"butt\" stroke-linejoin=\"round\" stroke-width=\"1.0\"/><path d=\"m220.23576 155.92029l4.0688934 -2.6012878l-4.7890167 -0.6227417z\" fill=\"#000000\" fill-rule=\"evenodd\" stroke=\"#000000\" stroke-linecap=\"butt\" stroke-width=\"1.0\"/><path d=\"m124.63092 177.90059l98.01575 21.637787\" fill=\"#000000\" fill-opacity=\"0.0\" fill-rule=\"evenodd\"/><path d=\"m124.63091 177.90059l92.15684 20.34439\" fill-rule=\"evenodd\" stroke=\"#000000\" stroke-linecap=\"butt\" stroke-linejoin=\"round\" stroke-width=\"1.0\"/><path d=\"m216.43169 199.85788l4.7874603 -0.6346283l-4.075348 -2.5911713z\" fill=\"#000000\" fill-rule=\"evenodd\" stroke=\"#000000\" stroke-linecap=\"butt\" stroke-width=\"1.0\"/><path d=\"m84.47507 154.25984l78.17323 0l0 46.960632l-78.17323 0z\" fill=\"#000000\" fill-opacity=\"0.0\" fill-rule=\"evenodd\"/><path d=\"m96.28757 177.3111q-0.875 -1.109375 -1.484375 -2.578125q-0.59375 -1.484375 -0.59375 -3.0625q0 -1.390625 0.4375 -2.671875q0.53125 -1.484375 1.640625 -2.953125l0.75 0q-0.703125 1.21875 -0.9375 1.734375q-0.359375 0.8125 -0.5625 1.6875q-0.25 1.09375 -0.25 2.203125q0 2.828125 1.75 5.640625l-0.75 0zm1.6835938 -6.765625q0 -1.53125 0.3125 -2.453125q0.3125 -0.9375 0.921875 -1.4375q0.625 -0.5 1.5625 -0.5q0.6875 0 1.203125 0.28125q0.53125 0.28125 0.875 0.8125q0.34375 0.515625 0.53125 1.265625q0.1875 0.75 0.1875 2.03125q0 1.515625 -0.3125 2.4375q-0.296875 0.921875 -0.921875 1.4375q-0.609375 0.5 -1.5625 0.5q-1.234375 0 -1.953125 -0.890625q-0.84375 -1.0625 -0.84375 -3.484375zm1.078125 0q0 2.109375 0.5 2.8125q0.5 0.703125 1.21875 0.703125q0.734375 0 1.21875 -0.703125q0.5 -0.703125 0.5 -2.8125q0 -2.125 -0.5 -2.8125q-0.484375 -0.703125 -1.234375 -0.703125q-0.71875 0 -1.15625 0.609375q-0.546875 0.78125 -0.546875 2.90625zm6.158203 4.234375l0 -1.203125l1.203125 0l0 1.203125q0 0.65625 -0.234375 1.0625q-0.234375 0.421875 -0.734375 0.640625l-0.296875 -0.453125q0.328125 -0.140625 0.484375 -0.4375q0.15625 -0.28125 0.1875 -0.8125l-0.609375 0zm2.7714844 -4.234375q0 -1.53125 0.3125 -2.453125q0.3125 -0.9375 0.921875 -1.4375q0.625 -0.5 1.5625 -0.5q0.6875 0 1.203125 0.28125q0.53125 0.28125 0.875 0.8125q0.34375 0.515625 0.53125 1.265625q0.1875 0.75 0.1875 2.03125q0 1.515625 -0.3125 2.4375q-0.296875 0.921875 -0.921875 1.4375q-0.609375 0.5 -1.5625 0.5q-1.234375 0 -1.953125 -0.890625q-0.84375 -1.0625 -0.84375 -3.484375zm1.078125 0q0 2.109375 0.5 2.8125q0.5 0.703125 1.21875 0.703125q0.734375 0 1.21875 -0.703125q0.5 -0.703125 0.5 -2.8125q0 -2.125 -0.5 -2.8125q-0.484375 -0.703125 -1.234375 -0.703125q-0.71875 0 -1.15625 0.609375q-0.546875 0.78125 -0.546875 2.90625zm6.580078 6.765625l-0.75 0q1.75 -2.8125 1.75 -5.640625q0 -1.09375 -0.25 -2.1875q-0.203125 -0.875 -0.5625 -1.6875q-0.234375 -0.515625 -0.9375 -1.75l0.75 0q1.09375 1.46875 1.625 2.953125q0.453125 1.28125 0.453125 2.671875q0 1.578125 -0.609375 3.0625q-0.609375 1.46875 -1.46875 2.578125z\" fill=\"#000000\" fill-rule=\"nonzero\"/><path d=\"m121.22835 273.97375l104.81889 -0.31497192\" fill=\"#000000\" fill-opacity=\"0.0\" fill-rule=\"evenodd\"/><path d=\"m121.22835 273.97375l98.818924 -0.29693604\" fill-rule=\"evenodd\" stroke=\"#000000\" stroke-linecap=\"butt\" stroke-linejoin=\"round\" stroke-width=\"1.0\"/><path d=\"m220.05223 275.32855l4.5331116 -1.6653748l-4.54303 -1.638092z\" fill=\"#000000\" fill-rule=\"evenodd\" stroke=\"#000000\" stroke-linecap=\"butt\" stroke-width=\"1.0\"/><path d=\"m98.25459 273.65878l43.74803 0l0 31.716553l-43.74803 0z\" fill=\"#000000\" fill-opacity=\"0.0\" fill-rule=\"evenodd\"/><path d=\"m110.34834 293.2413l0.15625 0.921875q-0.453125 0.09375 -0.796875 0.09375q-0.578125 0 -0.890625 -0.171875q-0.3125 -0.1875 -0.453125 -0.484375q-0.125 -0.296875 -0.125 -1.25l0 -3.578125l-0.765625 0l0 -0.8125l0.765625 0l0 -1.546875l1.046875 -0.625l0 2.171875l1.0625 0l0 0.8125l-1.0625 0l0 3.640625q0 0.453125 0.046875 0.578125q0.0625 0.125 0.1875 0.203125q0.125 0.078125 0.359375 0.078125q0.1875 0 0.46875 -0.03125zm6.5839844 -4.109375l-5.671875 0l0 -0.984375l5.671875 0l0 0.984375zm0 2.609375l-5.671875 0l0 -0.984375l5.671875 0l0 0.984375zm1.1640625 -1.796875q0 -1.53125 0.3125 -2.453125q0.3125 -0.9375 0.921875 -1.4375q0.625 -0.5 1.5625 -0.5q0.6875 0 1.203125 0.28125q0.53125 0.28125 0.875 0.8125q0.34375 0.515625 0.53125 1.265625q0.1875 0.75 0.1875 2.03125q0 1.515625 -0.3125 2.4375q-0.296875 0.921875 -0.921875 1.4375q-0.609375 0.5 -1.5625 0.5q-1.234375 0 -1.953125 -0.890625q-0.84375 -1.0625 -0.84375 -3.484375zm1.078125 0q0 2.109375 0.5 2.8125q0.5 0.703125 1.21875 0.703125q0.734375 0 1.21875 -0.703125q0.5 -0.703125 0.5 -2.8125q0 -2.125 -0.5 -2.8125q-0.484375 -0.703125 -1.234375 -0.703125q-0.71875 0 -1.15625 0.609375q-0.546875 0.78125 -0.546875 2.90625z\" fill=\"#000000\" fill-rule=\"nonzero\"/><path d=\"m203.38583 273.2021l48.094482 0l0 30.519684l-48.094482 0z\" fill=\"#000000\" fill-opacity=\"0.0\" fill-rule=\"evenodd\"/><path d=\"m215.47958 292.7846l0.15625 0.921875q-0.453125 0.09375 -0.796875 0.09375q-0.578125 0 -0.890625 -0.171875q-0.3125 -0.1875 -0.453125 -0.484375q-0.125 -0.296875 -0.125 -1.25l0 -3.578125l-0.765625 0l0 -0.8125l0.765625 0l0 -1.546875l1.046875 -0.625l0 2.171875l1.0625 0l0 0.8125l-1.0625 0l0 3.640625q0 0.453125 0.046875 0.578125q0.0625 0.125 0.1875 0.203125q0.125 0.078125 0.359375 0.078125q0.1875 0 0.46875 -0.03125z\" fill=\"#000000\" fill-rule=\"nonzero\"/><path d=\"m218.7042 298.2221l-0.703125 0l0 -4.484375q-0.25 0.25 -0.671875 0.5q-0.40625 0.234375 -0.734375 0.34375l0 -0.671875q0.59375 -0.28125 1.03125 -0.671875q0.4375 -0.390625 0.625 -0.765625l0.453125 0l0 5.75z\" fill=\"#000000\" fill-rule=\"nonzero\"/><path d=\"m222.64478 152.562l106.23624 -29.795273\" fill=\"#000000\" fill-opacity=\"0.0\" fill-rule=\"evenodd\"/><path d=\"m222.64479 152.562l100.45912 -28.175018\" fill-rule=\"evenodd\" stroke=\"#000000\" stroke-linecap=\"butt\" stroke-linejoin=\"round\" stroke-width=\"1.0\"/><path d=\"m323.54996 125.97735l3.923462 -2.8158493l-4.8155518 -0.36489105z\" fill=\"#000000\" fill-rule=\"evenodd\" stroke=\"#000000\" stroke-linecap=\"butt\" stroke-width=\"1.0\"/><path d=\"m223.81013 199.91896l108.56694 -28.692917\" fill=\"#000000\" fill-opacity=\"0.0\" fill-rule=\"evenodd\"/><path d=\"m223.81013 199.91896l102.7661 -27.159836\" fill-rule=\"evenodd\" stroke=\"#000000\" stroke-linecap=\"butt\" stroke-linejoin=\"round\" stroke-width=\"1.0\"/><path d=\"m326.9983 174.35603l3.965393 -2.7564545l-4.8094788 -0.4373474z\" fill=\"#000000\" fill-rule=\"evenodd\" stroke=\"#000000\" stroke-linecap=\"butt\" stroke-width=\"1.0\"/><path d=\"m223.81201 201.85596l106.61417 16.283478\" fill=\"#000000\" fill-opacity=\"0.0\" fill-rule=\"evenodd\"/><path d=\"m223.81203 201.85597l100.68294 15.377579\" fill-rule=\"evenodd\" stroke=\"#000000\" stroke-linecap=\"butt\" stroke-linejoin=\"round\" stroke-width=\"1.0\"/><path d=\"m324.2456 218.86635l4.735443 -0.94763184l-4.2366943 -2.3179626z\" fill=\"#000000\" fill-rule=\"evenodd\" stroke=\"#000000\" stroke-linecap=\"butt\" stroke-width=\"1.0\"/><path d=\"m222.64667 153.41371l110.897644 15.874008\" fill=\"#000000\" fill-opacity=\"0.0\" fill-rule=\"evenodd\"/><path d=\"m222.64667 153.4137l104.95819 15.0238495\" fill-rule=\"evenodd\" stroke=\"#000000\" stroke-linecap=\"butt\" stroke-linejoin=\"round\" stroke-width=\"1.0\"/><path d=\"m327.37082 170.0726l4.726349 -0.9920349l-4.2582703 -2.2780914z\" fill=\"#000000\" fill-rule=\"evenodd\" stroke=\"#000000\" stroke-linecap=\"butt\" stroke-width=\"1.0\"/><path d=\"m300.8819 87.362206l48.094482 0l0 37.637794l-48.094482 0z\" fill=\"#000000\" fill-opacity=\"0.0\" fill-rule=\"evenodd\"/><path d=\"m312.6944 110.41345q-0.875 -1.109375 -1.484375 -2.578125q-0.59375 -1.484375 -0.59375 -3.0625q0 -1.390625 0.4375 -2.671875q0.53125 -1.484375 1.640625 -2.953125l0.75 0q-0.703125 1.21875 -0.9375 1.734375q-0.359375 0.8125 -0.5625 1.6875q-0.25 1.09375 -0.25 2.203125q0 2.828125 1.75 5.640625l-0.75 0zm7.2304688 -3.546875l0 1.015625l-5.6875 0q0 -0.375 0.125 -0.734375q0.21875 -0.578125 0.6875 -1.140625q0.484375 -0.5625 1.390625 -1.296875q1.40625 -1.15625 1.890625 -1.828125q0.5 -0.671875 0.5 -1.265625q0 -0.625 -0.453125 -1.046875q-0.453125 -0.4375 -1.171875 -0.4375q-0.765625 0 -1.21875 0.453125q-0.453125 0.453125 -0.46875 1.265625l-1.078125 -0.109375q0.109375 -1.21875 0.828125 -1.84375q0.734375 -0.640625 1.96875 -0.640625q1.234375 0 1.953125 0.6875q0.71875 0.6875 0.71875 1.703125q0 0.515625 -0.21875 1.015625q-0.203125 0.484375 -0.703125 1.046875q-0.484375 0.546875 -1.609375 1.5q-0.953125 0.796875 -1.234375 1.09375q-0.265625 0.28125 -0.4375 0.5625l4.21875 0zm1.6894531 1.015625l0 -1.203125l1.203125 0l0 1.203125q0 0.65625 -0.234375 1.0625q-0.234375 0.421875 -0.734375 0.640625l-0.296875 -0.453125q0.328125 -0.140625 0.484375 -0.4375q0.15625 -0.28125 0.1875 -0.8125l-0.609375 0zm8.318359 -1.015625l0 1.015625l-5.6875 0q0 -0.375 0.125 -0.734375q0.21875 -0.578125 0.6875 -1.140625q0.484375 -0.5625 1.390625 -1.296875q1.40625 -1.15625 1.890625 -1.828125q0.5 -0.671875 0.5 -1.265625q0 -0.625 -0.453125 -1.046875q-0.453125 -0.4375 -1.171875 -0.4375q-0.765625 0 -1.21875 0.453125q-0.453125 0.453125 -0.46875 1.265625l-1.078125 -0.109375q0.109375 -1.21875 0.828125 -1.84375q0.734375 -0.640625 1.96875 -0.640625q1.234375 0 1.953125 0.6875q0.71875 0.6875 0.71875 1.703125q0 0.515625 -0.21875 1.015625q-0.203125 0.484375 -0.703125 1.046875q-0.484375 0.546875 -1.609375 1.5q-0.953125 0.796875 -1.234375 1.09375q-0.265625 0.28125 -0.4375 0.5625l4.21875 0zm2.1113281 3.546875l-0.75 0q1.75 -2.8125 1.75 -5.640625q0 -1.09375 -0.25 -2.1875q-0.203125 -0.875 -0.5625 -1.6875q-0.234375 -0.515625 -0.9375 -1.75l0.75 0q1.09375 1.46875 1.625 2.953125q0.453125 1.28125 0.453125 2.671875q0 1.578125 -0.609375 3.0625q-0.609375 1.46875 -1.46875 2.578125z\" fill=\"#000000\" fill-rule=\"nonzero\"/><path d=\"m316.6509 137.94489l48.094482 0l0 37.637787l-48.094482 0z\" fill=\"#000000\" fill-opacity=\"0.0\" fill-rule=\"evenodd\"/><path d=\"m328.4634 160.99614q-0.875 -1.109375 -1.484375 -2.578125q-0.59375 -1.484375 -0.59375 -3.0625q0 -1.390625 0.4375 -2.671875q0.53125 -1.484375 1.640625 -2.953125l0.75 0q-0.703125 1.21875 -0.9375 1.734375q-0.359375 0.8125 -0.5625 1.6875q-0.25 1.09375 -0.25 2.203125q0 2.828125 1.75 5.640625l-0.75 0zm7.2304688 -3.546875l0 1.015625l-5.6875 0q0 -0.375 0.125 -0.734375q0.21875 -0.578125 0.6875 -1.140625q0.484375 -0.5625 1.390625 -1.296875q1.40625 -1.15625 1.890625 -1.828125q0.5 -0.671875 0.5 -1.265625q0 -0.625 -0.453125 -1.046875q-0.453125 -0.4375 -1.171875 -0.4375q-0.765625 0 -1.21875 0.453125q-0.453125 0.453125 -0.46875 1.265625l-1.078125 -0.109375q0.109375 -1.21875 0.828125 -1.84375q0.734375 -0.640625 1.96875 -0.640625q1.234375 0 1.953125 0.6875q0.71875 0.6875 0.71875 1.703125q0 0.515625 -0.21875 1.015625q-0.203125 0.484375 -0.703125 1.046875q-0.484375 0.546875 -1.609375 1.5q-0.953125 0.796875 -1.234375 1.09375q-0.265625 0.28125 -0.4375 0.5625l4.21875 0zm1.6894531 1.015625l0 -1.203125l1.203125 0l0 1.203125q0 0.65625 -0.234375 1.0625q-0.234375 0.421875 -0.734375 0.640625l-0.296875 -0.453125q0.328125 -0.140625 0.484375 -0.4375q0.15625 -0.28125 0.1875 -0.8125l-0.609375 0zm6.7402344 0l-1.046875 0l0 -6.71875q-0.390625 0.359375 -1.015625 0.734375q-0.609375 0.359375 -1.09375 0.53125l0 -1.015625q0.875 -0.421875 1.53125 -1.0q0.671875 -0.59375 0.953125 -1.15625l0.671875 0l0 8.625zm3.6894531 2.53125l-0.75 0q1.75 -2.8125 1.75 -5.640625q0 -1.09375 -0.25 -2.1875q-0.203125 -0.875 -0.5625 -1.6875q-0.234375 -0.515625 -0.9375 -1.75l0.75 0q1.09375 1.46875 1.625 2.953125q0.453125 1.28125 0.453125 2.671875q0 1.578125 -0.609375 3.0625q-0.609375 1.46875 -1.46875 2.578125z\" fill=\"#000000\" fill-rule=\"nonzero\"/><path d=\"m304.36746 221.78477l51.55905 0l0 31.716537l-51.55905 0z\" fill=\"#000000\" fill-opacity=\"0.0\" fill-rule=\"evenodd\"/><path d=\"m316.17996 244.83603q-0.875 -1.109375 -1.484375 -2.578125q-0.59375 -1.484375 -0.59375 -3.0625q0 -1.390625 0.4375 -2.671875q0.53125 -1.484375 1.640625 -2.953125l0.75 0q-0.703125 1.21875 -0.9375 1.734375q-0.359375 0.8125 -0.5625 1.6875q-0.25 1.09375 -0.25 2.203125q0 2.828125 1.75 5.640625l-0.75 0zm7.2304688 -3.546875l0 1.015625l-5.6875 0q0 -0.375 0.125 -0.734375q0.21875 -0.578125 0.6875 -1.140625q0.484375 -0.5625 1.390625 -1.296875q1.40625 -1.15625 1.890625 -1.828125q0.5 -0.671875 0.5 -1.265625q0 -0.625 -0.453125 -1.046875q-0.453125 -0.4375 -1.171875 -0.4375q-0.765625 0 -1.21875 0.453125q-0.453125 0.453125 -0.46875 1.265625l-1.078125 -0.109375q0.109375 -1.21875 0.828125 -1.84375q0.734375 -0.640625 1.96875 -0.640625q1.234375 0 1.953125 0.6875q0.71875 0.6875 0.71875 1.703125q0 0.515625 -0.21875 1.015625q-0.203125 0.484375 -0.703125 1.046875q-0.484375 0.546875 -1.609375 1.5q-0.953125 0.796875 -1.234375 1.09375q-0.265625 0.28125 -0.4375 0.5625l4.21875 0zm1.6894531 1.015625l0 -1.203125l1.203125 0l0 1.203125q0 0.65625 -0.234375 1.0625q-0.234375 0.421875 -0.734375 0.640625l-0.296875 -0.453125q0.328125 -0.140625 0.484375 -0.4375q0.15625 -0.28125 0.1875 -0.8125l-0.609375 0zm2.7714844 -4.234375q0 -1.53125 0.3125 -2.453125q0.3125 -0.9375 0.921875 -1.4375q0.625 -0.5 1.5625 -0.5q0.6875 0 1.203125 0.28125q0.53125 0.28125 0.875 0.8125q0.34375 0.515625 0.53125 1.265625q0.1875 0.75 0.1875 2.03125q0 1.515625 -0.3125 2.4375q-0.296875 0.921875 -0.921875 1.4375q-0.609375 0.5 -1.5625 0.5q-1.234375 0 -1.953125 -0.890625q-0.84375 -1.0625 -0.84375 -3.484375zm1.078125 0q0 2.109375 0.5 2.8125q0.5 0.703125 1.21875 0.703125q0.734375 0 1.21875 -0.703125q0.5 -0.703125 0.5 -2.8125q0 -2.125 -0.5 -2.8125q-0.484375 -0.703125 -1.234375 -0.703125q-0.71875 0 -1.15625 0.609375q-0.546875 0.78125 -0.546875 2.90625zm6.580078 6.765625l-0.75 0q1.75 -2.8125 1.75 -5.640625q0 -1.09375 -0.25 -2.1875q-0.203125 -0.875 -0.5625 -1.6875q-0.234375 -0.515625 -0.9375 -1.75l0.75 0q1.09375 1.46875 1.625 2.953125q0.453125 1.28125 0.453125 2.671875q0 1.578125 -0.609375 3.0625q-0.609375 1.46875 -1.46875 2.578125z\" fill=\"#000000\" fill-rule=\"nonzero\"/><path d=\"m193.9672 122.7664l57.51181 0l0 43.74803l-57.51181 0z\" fill=\"#000000\" fill-opacity=\"0.0\" fill-rule=\"evenodd\"/><path d=\"m205.7797 145.81766q-0.875 -1.109375 -1.484375 -2.578125q-0.59375 -1.484375 -0.59375 -3.0625q0 -1.390625 0.4375 -2.671875q0.53125 -1.484375 1.640625 -2.953125l0.75 0q-0.703125 1.21875 -0.9375 1.734375q-0.359375 0.8125 -0.5625 1.6875q-0.25 1.09375 -0.25 2.203125q0 2.828125 1.75 5.640625l-0.75 0zm5.6523438 -2.53125l-1.046875 0l0 -6.71875q-0.390625 0.359375 -1.015625 0.734375q-0.609375 0.359375 -1.09375 0.53125l0 -1.015625q0.875 -0.421875 1.53125 -1.0q0.671875 -0.59375 0.953125 -1.15625l0.671875 0l0 8.625zm3.2675781 0l0 -1.203125l1.203125 0l0 1.203125q0 0.65625 -0.234375 1.0625q-0.234375 0.421875 -0.734375 0.640625l-0.296875 -0.453125q0.328125 -0.140625 0.484375 -0.4375q0.15625 -0.28125 0.1875 -0.8125l-0.609375 0zm6.7402344 0l-1.046875 0l0 -6.71875q-0.390625 0.359375 -1.015625 0.734375q-0.609375 0.359375 -1.09375 0.53125l0 -1.015625q0.875 -0.421875 1.53125 -1.0q0.671875 -0.59375 0.953125 -1.15625l0.671875 0l0 8.625zm3.6894531 2.53125l-0.75 0q1.75 -2.8125 1.75 -5.640625q0 -1.09375 -0.25 -2.1875q-0.203125 -0.875 -0.5625 -1.6875q-0.234375 -0.515625 -0.9375 -1.75l0.75 0q1.09375 1.46875 1.625 2.953125q0.453125 1.28125 0.453125 2.671875q0 1.578125 -0.609375 3.0625q-0.609375 1.46875 -1.46875 2.578125z\" fill=\"#000000\" fill-rule=\"nonzero\"/><path d=\"m198.06955 201.85564l48.094498 0l0 31.716537l-48.094498 0z\" fill=\"#000000\" fill-opacity=\"0.0\" fill-rule=\"evenodd\"/><path d=\"m209.88205 224.90689q-0.875 -1.109375 -1.484375 -2.578125q-0.59375 -1.484375 -0.59375 -3.0625q0 -1.390625 0.4375 -2.671875q0.53125 -1.484375 1.640625 -2.953125l0.75 0q-0.703125 1.21875 -0.9375 1.734375q-0.359375 0.8125 -0.5625 1.6875q-0.25 1.09375 -0.25 2.203125q0 2.828125 1.75 5.640625l-0.75 0zm5.6523438 -2.53125l-1.046875 0l0 -6.71875q-0.390625 0.359375 -1.015625 0.734375q-0.609375 0.359375 -1.09375 0.53125l0 -1.015625q0.875 -0.421875 1.53125 -1.0q0.671875 -0.59375 0.953125 -1.15625l0.671875 0l0 8.625zm3.2675781 0l0 -1.203125l1.203125 0l0 1.203125q0 0.65625 -0.234375 1.0625q-0.234375 0.421875 -0.734375 0.640625l-0.296875 -0.453125q0.328125 -0.140625 0.484375 -0.4375q0.15625 -0.28125 0.1875 -0.8125l-0.609375 0zm2.7714844 -4.234375q0 -1.53125 0.3125 -2.453125q0.3125 -0.9375 0.921875 -1.4375q0.625 -0.5 1.5625 -0.5q0.6875 0 1.203125 0.28125q0.53125 0.28125 0.875 0.8125q0.34375 0.515625 0.53125 1.265625q0.1875 0.75 0.1875 2.03125q0 1.515625 -0.3125 2.4375q-0.296875 0.921875 -0.921875 1.4375q-0.609375 0.5 -1.5625 0.5q-1.234375 0 -1.953125 -0.890625q-0.84375 -1.0625 -0.84375 -3.484375zm1.078125 0q0 2.109375 0.5 2.8125q0.5 0.703125 1.21875 0.703125q0.734375 0 1.21875 -0.703125q0.5 -0.703125 0.5 -2.8125q0 -2.125 -0.5 -2.8125q-0.484375 -0.703125 -1.234375 -0.703125q-0.71875 0 -1.15625 0.609375q-0.546875 0.78125 -0.546875 2.90625zm6.580078 6.765625l-0.75 0q1.75 -2.8125 1.75 -5.640625q0 -1.09375 -0.25 -2.1875q-0.203125 -0.875 -0.5625 -1.6875q-0.234375 -0.515625 -0.9375 -1.75l0.75 0q1.09375 1.46875 1.625 2.953125q0.453125 1.28125 0.453125 2.671875q0 1.578125 -0.609375 3.0625q-0.609375 1.46875 -1.46875 2.578125z\" fill=\"#000000\" fill-rule=\"nonzero\"/><path d=\"m225.73228 274.14697l105.4803 -0.94488525\" fill=\"#000000\" fill-opacity=\"0.0\" fill-rule=\"evenodd\"/><path d=\"m225.73228 274.14697l99.480545 -0.8911438\" fill-rule=\"evenodd\" stroke=\"#000000\" stroke-linecap=\"butt\" stroke-linejoin=\"round\" stroke-width=\"1.0\"/><path d=\"m325.22763 274.9075l4.5231323 -1.6922913l-4.552704 -1.611023z\" fill=\"#000000\" fill-rule=\"evenodd\" stroke=\"#000000\" stroke-linecap=\"butt\" stroke-width=\"1.0\"/><path d=\"m312.86353 273.2021l39.590546 0l0 22.582703l-39.590546 0z\" fill=\"#000000\" fill-opacity=\"0.0\" fill-rule=\"evenodd\"/><path d=\"m324.95728 292.7846l0.15625 0.921875q-0.453125 0.09375 -0.796875 0.09375q-0.578125 0 -0.890625 -0.171875q-0.3125 -0.1875 -0.453125 -0.484375q-0.125 -0.296875 -0.125 -1.25l0 -3.578125l-0.765625 0l0 -0.8125l0.765625 0l0 -1.546875l1.046875 -0.625l0 2.171875l1.0625 0l0 0.8125l-1.0625 0l0 3.640625q0 0.453125 0.046875 0.578125q0.0625 0.125 0.1875 0.203125q0.125 0.078125 0.359375 0.078125q0.1875 0 0.46875 -0.03125z\" fill=\"#000000\" fill-rule=\"nonzero\"/><path d=\"m329.22876 297.55023l0 0.671875l-3.78125 0q-0.015625 -0.25 0.078125 -0.484375q0.140625 -0.390625 0.453125 -0.765625q0.328125 -0.375 0.921875 -0.875q0.9375 -0.765625 1.265625 -1.203125q0.328125 -0.453125 0.328125 -0.84375q0 -0.421875 -0.296875 -0.703125q-0.296875 -0.296875 -0.78125 -0.296875q-0.5 0 -0.8125 0.3125q-0.296875 0.296875 -0.3125 0.84375l-0.71875 -0.078125q0.078125 -0.8125 0.5625 -1.234375q0.484375 -0.421875 1.296875 -0.421875q0.828125 0 1.296875 0.453125q0.484375 0.453125 0.484375 1.140625q0 0.34375 -0.140625 0.671875q-0.140625 0.328125 -0.46875 0.703125q-0.3125 0.359375 -1.078125 1.0q-0.625 0.53125 -0.8125 0.71875q-0.171875 0.1875 -0.296875 0.390625l2.8125 0z\" fill=\"#000000\" fill-rule=\"nonzero\"/><path d=\"m328.881 121.913704l106.236206 -29.795273\" fill=\"#000000\" fill-opacity=\"0.0\" fill-rule=\"evenodd\"/><path d=\"m328.881 121.913704l100.459076 -28.175026\" fill-rule=\"evenodd\" stroke=\"#000000\" stroke-linecap=\"butt\" stroke-linejoin=\"round\" stroke-width=\"1.0\"/><path d=\"m429.78616 95.329056l3.923462 -2.8158493l-4.8155518 -0.36489105z\" fill=\"#000000\" fill-rule=\"evenodd\" stroke=\"#000000\" stroke-linecap=\"butt\" stroke-width=\"1.0\"/><path d=\"m435.1181 64.561676l48.094482 0l0 37.637802l-48.094482 0z\" fill=\"#000000\" fill-opacity=\"0.0\" fill-rule=\"evenodd\"/><path d=\"m446.9306 87.61293q-0.875 -1.109375 -1.484375 -2.578125q-0.59375 -1.484375 -0.59375 -3.0625q0 -1.390625 0.4375 -2.671875q0.53125 -1.484375 1.640625 -2.953125l0.75 0q-0.703125 1.21875 -0.9375 1.734375q-0.359375 0.8125 -0.5625 1.6875q-0.25 1.09375 -0.25 2.203125q0 2.828125 1.75 5.640625l-0.75 0zm1.6835938 -4.796875l1.0625 -0.140625q0.171875 0.890625 0.609375 1.296875q0.4375 0.390625 1.0625 0.390625q0.75 0 1.265625 -0.515625q0.515625 -0.515625 0.515625 -1.28125q0 -0.71875 -0.484375 -1.1875q-0.46875 -0.484375 -1.203125 -0.484375q-0.296875 0 -0.75 0.125l0.125 -0.9375q0.109375 0.015625 0.171875 0.015625q0.671875 0 1.203125 -0.34375q0.546875 -0.359375 0.546875 -1.09375q0 -0.578125 -0.390625 -0.953125q-0.390625 -0.390625 -1.015625 -0.390625q-0.609375 0 -1.03125 0.390625q-0.40625 0.390625 -0.515625 1.15625l-1.0625 -0.1875q0.1875 -1.046875 0.875 -1.625q0.6875 -0.59375 1.703125 -0.59375q0.703125 0 1.296875 0.3125q0.59375 0.296875 0.90625 0.8125q0.3125 0.515625 0.3125 1.109375q0 0.546875 -0.296875 1.015625q-0.296875 0.453125 -0.875 0.71875q0.75 0.171875 1.171875 0.734375q0.421875 0.546875 0.421875 1.390625q0 1.125 -0.828125 1.90625q-0.8125 0.78125 -2.0625 0.78125q-1.125 0 -1.875 -0.671875q-0.75 -0.6875 -0.859375 -1.75zm7.236328 2.265625l0 -1.203125l1.203125 0l0 1.203125q0 0.65625 -0.234375 1.0625q-0.234375 0.421875 -0.734375 0.640625l-0.296875 -0.453125q0.328125 -0.140625 0.484375 -0.4375q0.15625 -0.28125 0.1875 -0.8125l-0.609375 0zm2.7714844 -2.265625l1.0625 -0.140625q0.171875 0.890625 0.609375 1.296875q0.4375 0.390625 1.0625 0.390625q0.75 0 1.265625 -0.515625q0.515625 -0.515625 0.515625 -1.28125q0 -0.71875 -0.484375 -1.1875q-0.46875 -0.484375 -1.203125 -0.484375q-0.296875 0 -0.75 0.125l0.125 -0.9375q0.109375 0.015625 0.171875 0.015625q0.671875 0 1.203125 -0.34375q0.546875 -0.359375 0.546875 -1.09375q0 -0.578125 -0.390625 -0.953125q-0.390625 -0.390625 -1.015625 -0.390625q-0.609375 0 -1.03125 0.390625q-0.40625 0.390625 -0.515625 1.15625l-1.0625 -0.1875q0.1875 -1.046875 0.875 -1.625q0.6875 -0.59375 1.703125 -0.59375q0.703125 0 1.296875 0.3125q0.59375 0.296875 0.90625 0.8125q0.3125 0.515625 0.3125 1.109375q0 0.546875 -0.296875 1.015625q-0.296875 0.453125 -0.875 0.71875q0.75 0.171875 1.171875 0.734375q0.421875 0.546875 0.421875 1.390625q0 1.125 -0.828125 1.90625q-0.8125 0.78125 -2.0625 0.78125q-1.125 0 -1.875 -0.671875q-0.75 -0.6875 -0.859375 -1.75zm7.658203 4.796875l-0.75 0q1.75 -2.8125 1.75 -5.640625q0 -1.09375 -0.25 -2.1875q-0.203125 -0.875 -0.5625 -1.6875q-0.234375 -0.515625 -0.9375 -1.75l0.75 0q1.09375 1.46875 1.625 2.953125q0.453125 1.28125 0.453125 2.671875q0 1.578125 -0.609375 3.0625q-0.609375 1.46875 -1.46875 2.578125z\" fill=\"#000000\" fill-rule=\"nonzero\"/><path d=\"m335.48468 171.8494l106.236206 -29.795273\" fill=\"#000000\" fill-opacity=\"0.0\" fill-rule=\"evenodd\"/><path d=\"m335.48468 171.8494l100.45911 -28.175018\" fill-rule=\"evenodd\" stroke=\"#000000\" stroke-linecap=\"butt\" stroke-linejoin=\"round\" stroke-width=\"1.0\"/><path d=\"m436.38983 145.26476l3.923462 -2.815857l-4.8155518 -0.36488342z\" fill=\"#000000\" fill-rule=\"evenodd\" stroke=\"#000000\" stroke-linecap=\"butt\" stroke-width=\"1.0\"/><path d=\"m332.37708 218.32315l106.236206 -29.795273\" fill=\"#000000\" fill-opacity=\"0.0\" fill-rule=\"evenodd\"/><path d=\"m332.37708 218.32317l100.459076 -28.175018\" fill-rule=\"evenodd\" stroke=\"#000000\" stroke-linecap=\"butt\" stroke-linejoin=\"round\" stroke-width=\"1.0\"/><path d=\"m433.28223 191.73851l3.923462 -2.8158417l-4.8155518 -0.36489868z\" fill=\"#000000\" fill-rule=\"evenodd\" stroke=\"#000000\" stroke-linecap=\"butt\" stroke-width=\"1.0\"/><path d=\"m331.5748 217.30577l113.63779 20.220474\" fill=\"#000000\" fill-opacity=\"0.0\" fill-rule=\"evenodd\"/><path d=\"m331.5748 217.30577l107.73062 19.169357\" fill-rule=\"evenodd\" stroke=\"#000000\" stroke-linecap=\"butt\" stroke-linejoin=\"round\" stroke-width=\"1.0\"/><path d=\"m439.01602 238.10132l4.7572937 -0.83117676l-4.1785583 -2.4212036z\" fill=\"#000000\" fill-rule=\"evenodd\" stroke=\"#000000\" stroke-linecap=\"butt\" stroke-width=\"1.0\"/><path d=\"m331.7848 172.54987l106.456665 15.338593\" fill=\"#000000\" fill-opacity=\"0.0\" fill-rule=\"evenodd\"/><path d=\"m331.7848 172.54987l100.518005 14.482925\" fill-rule=\"evenodd\" stroke=\"#000000\" stroke-linecap=\"butt\" stroke-linejoin=\"round\" stroke-width=\"1.0\"/><path d=\"m432.06723 188.66763l4.7272644 -0.9876709l-4.256134 -2.2820282z\" fill=\"#000000\" fill-rule=\"evenodd\" stroke=\"#000000\" stroke-linecap=\"butt\" stroke-width=\"1.0\"/><path d=\"m328.77167 124.31365l113.322815 18.614174\" fill=\"#000000\" fill-opacity=\"0.0\" fill-rule=\"evenodd\"/><path d=\"m328.77167 124.31365l107.40219 17.641655\" fill-rule=\"evenodd\" stroke=\"#000000\" stroke-linecap=\"butt\" stroke-linejoin=\"round\" stroke-width=\"1.0\"/><path d=\"m435.9061 143.58519l4.745819 -0.8943176l-4.2103577 -2.3654633z\" fill=\"#000000\" fill-rule=\"evenodd\" stroke=\"#000000\" stroke-linecap=\"butt\" stroke-width=\"1.0\"/><path d=\"m438.24146 169.43176l48.094513 0l0 37.637787l-48.094513 0z\" fill=\"#000000\" fill-opacity=\"0.0\" fill-rule=\"evenodd\"/><path d=\"m450.05396 192.483q-0.875 -1.109375 -1.484375 -2.578125q-0.59375 -1.484375 -0.59375 -3.0625q0 -1.390625 0.4375 -2.671875q0.53125 -1.484375 1.640625 -2.953125l0.75 0q-0.703125 1.21875 -0.9375 1.734375q-0.359375 0.8125 -0.5625 1.6875q-0.25 1.09375 -0.25 2.203125q0 2.828125 1.75 5.640625l-0.75 0zm1.6835938 -4.796875l1.0625 -0.140625q0.171875 0.890625 0.609375 1.296875q0.4375 0.390625 1.0625 0.390625q0.75 0 1.265625 -0.515625q0.515625 -0.515625 0.515625 -1.28125q0 -0.71875 -0.484375 -1.1875q-0.46875 -0.484375 -1.203125 -0.484375q-0.296875 0 -0.75 0.125l0.125 -0.9375q0.109375 0.015625 0.171875 0.015625q0.671875 0 1.203125 -0.34375q0.546875 -0.359375 0.546875 -1.09375q0 -0.578125 -0.390625 -0.953125q-0.390625 -0.390625 -1.015625 -0.390625q-0.609375 0 -1.03125 0.390625q-0.40625 0.390625 -0.515625 1.15625l-1.0625 -0.1875q0.1875 -1.046875 0.875 -1.625q0.6875 -0.59375 1.703125 -0.59375q0.703125 0 1.296875 0.3125q0.59375 0.296875 0.90625 0.8125q0.3125 0.515625 0.3125 1.109375q0 0.546875 -0.296875 1.015625q-0.296875 0.453125 -0.875 0.71875q0.75 0.171875 1.171875 0.734375q0.421875 0.546875 0.421875 1.390625q0 1.125 -0.828125 1.90625q-0.8125 0.78125 -2.0625 0.78125q-1.125 0 -1.875 -0.671875q-0.75 -0.6875 -0.859375 -1.75zm7.236328 2.265625l0 -1.203125l1.203125 0l0 1.203125q0 0.65625 -0.234375 1.0625q-0.234375 0.421875 -0.734375 0.640625l-0.296875 -0.453125q0.328125 -0.140625 0.484375 -0.4375q0.15625 -0.28125 0.1875 -0.8125l-0.609375 0zm6.7402344 0l-1.046875 0l0 -6.71875q-0.390625 0.359375 -1.015625 0.734375q-0.609375 0.359375 -1.09375 0.53125l0 -1.015625q0.875 -0.421875 1.53125 -1.0q0.671875 -0.59375 0.953125 -1.15625l0.671875 0l0 8.625zm3.6894531 2.53125l-0.75 0q1.75 -2.8125 1.75 -5.640625q0 -1.09375 -0.25 -2.1875q-0.203125 -0.875 -0.5625 -1.6875q-0.234375 -0.515625 -0.9375 -1.75l0.75 0q1.09375 1.46875 1.625 2.953125q0.453125 1.28125 0.453125 2.671875q0 1.578125 -0.609375 3.0625q-0.609375 1.46875 -1.46875 2.578125z\" fill=\"#000000\" fill-rule=\"nonzero\"/><path d=\"m438.24146 233.5748l48.094513 0l0 37.637787l-48.094513 0z\" fill=\"#000000\" fill-opacity=\"0.0\" fill-rule=\"evenodd\"/><path d=\"m450.05396 256.62607q-0.875 -1.1093903 -1.484375 -2.5781403q-0.59375 -1.484375 -0.59375 -3.0625q0 -1.390625 0.4375 -2.671875q0.53125 -1.484375 1.640625 -2.953125l0.75 0q-0.703125 1.21875 -0.9375 1.734375q-0.359375 0.8125 -0.5625 1.6875q-0.25 1.09375 -0.25 2.203125q0 2.828125 1.75 5.6406403l-0.75 0zm1.6835938 -4.7968903l1.0625 -0.140625q0.171875 0.890625 0.609375 1.296875q0.4375 0.390625 1.0625 0.390625q0.75 0 1.265625 -0.515625q0.515625 -0.515625 0.515625 -1.28125q0 -0.71875 -0.484375 -1.1875q-0.46875 -0.484375 -1.203125 -0.484375q-0.296875 0 -0.75 0.125l0.125 -0.9375q0.109375 0.015625 0.171875 0.015625q0.671875 0 1.203125 -0.34375q0.546875 -0.359375 0.546875 -1.09375q0 -0.578125 -0.390625 -0.953125q-0.390625 -0.390625 -1.015625 -0.390625q-0.609375 0 -1.03125 0.390625q-0.40625 0.390625 -0.515625 1.15625l-1.0625 -0.1875q0.1875 -1.046875 0.875 -1.625q0.6875 -0.59375 1.703125 -0.59375q0.703125 0 1.296875 0.3125q0.59375 0.296875 0.90625 0.8125q0.3125 0.515625 0.3125 1.109375q0 0.546875 -0.296875 1.015625q-0.296875 0.453125 -0.875 0.71875q0.75 0.171875 1.171875 0.734375q0.421875 0.546875 0.421875 1.390625q0 1.125 -0.828125 1.90625q-0.8125 0.78125 -2.0625 0.78125q-1.125 0 -1.875 -0.671875q-0.75 -0.6875 -0.859375 -1.75zm7.236328 2.265625l0 -1.203125l1.203125 0l0 1.203125q0 0.65625 -0.234375 1.0625q-0.234375 0.421875 -0.734375 0.640625l-0.296875 -0.453125q0.328125 -0.140625 0.484375 -0.4375q0.15625 -0.28125 0.1875 -0.8125l-0.609375 0zm2.7714844 -4.234375q0 -1.53125 0.3125 -2.453125q0.3125 -0.9375 0.921875 -1.4375q0.625 -0.5 1.5625 -0.5q0.6875 0 1.203125 0.28125q0.53125 0.28125 0.875 0.8125q0.34375 0.515625 0.53125 1.265625q0.1875 0.75 0.1875 2.03125q0 1.515625 -0.3125 2.4375q-0.296875 0.921875 -0.921875 1.4375q-0.609375 0.5 -1.5625 0.5q-1.234375 0 -1.953125 -0.890625q-0.84375 -1.0625 -0.84375 -3.484375zm1.078125 0q0 2.109375 0.5 2.8125q0.5 0.703125 1.21875 0.703125q0.734375 0 1.21875 -0.703125q0.5 -0.703125 0.5 -2.8125q0 -2.125 -0.5 -2.8125q-0.484375 -0.703125 -1.234375 -0.703125q-0.71875 0 -1.15625 0.609375q-0.546875 0.78125 -0.546875 2.90625zm6.580078 6.7656403l-0.75 0q1.75 -2.8125153 1.75 -5.6406403q0 -1.09375 -0.25 -2.1875q-0.203125 -0.875 -0.5625 -1.6875q-0.234375 -0.515625 -0.9375 -1.75l0.75 0q1.09375 1.46875 1.625 2.953125q0.453125 1.28125 0.453125 2.671875q0 1.578125 -0.609375 3.0625q-0.609375 1.46875 -1.46875 2.5781403z\" fill=\"#000000\" fill-rule=\"nonzero\"/><path d=\"m438.24146 121.55905l48.094513 0l0 37.637802l-48.094513 0z\" fill=\"#000000\" fill-opacity=\"0.0\" fill-rule=\"evenodd\"/><path d=\"m450.05396 144.6103q-0.875 -1.109375 -1.484375 -2.578125q-0.59375 -1.484375 -0.59375 -3.0625q0 -1.390625 0.4375 -2.671875q0.53125 -1.484375 1.640625 -2.953125l0.75 0q-0.703125 1.21875 -0.9375 1.734375q-0.359375 0.8125 -0.5625 1.6875q-0.25 1.09375 -0.25 2.203125q0 2.828125 1.75 5.640625l-0.75 0zm1.6835938 -4.796875l1.0625 -0.140625q0.171875 0.890625 0.609375 1.296875q0.4375 0.390625 1.0625 0.390625q0.75 0 1.265625 -0.515625q0.515625 -0.515625 0.515625 -1.28125q0 -0.71875 -0.484375 -1.1875q-0.46875 -0.484375 -1.203125 -0.484375q-0.296875 0 -0.75 0.125l0.125 -0.9375q0.109375 0.015625 0.171875 0.015625q0.671875 0 1.203125 -0.34375q0.546875 -0.359375 0.546875 -1.09375q0 -0.578125 -0.390625 -0.953125q-0.390625 -0.390625 -1.015625 -0.390625q-0.609375 0 -1.03125 0.390625q-0.40625 0.390625 -0.515625 1.15625l-1.0625 -0.1875q0.1875 -1.046875 0.875 -1.625q0.6875 -0.59375 1.703125 -0.59375q0.703125 0 1.296875 0.3125q0.59375 0.296875 0.90625 0.8125q0.3125 0.515625 0.3125 1.109375q0 0.546875 -0.296875 1.015625q-0.296875 0.453125 -0.875 0.71875q0.75 0.171875 1.171875 0.734375q0.421875 0.546875 0.421875 1.390625q0 1.125 -0.828125 1.90625q-0.8125 0.78125 -2.0625 0.78125q-1.125 0 -1.875 -0.671875q-0.75 -0.6875 -0.859375 -1.75zm7.236328 2.265625l0 -1.203125l1.203125 0l0 1.203125q0 0.65625 -0.234375 1.0625q-0.234375 0.421875 -0.734375 0.640625l-0.296875 -0.453125q0.328125 -0.140625 0.484375 -0.4375q0.15625 -0.28125 0.1875 -0.8125l-0.609375 0zm8.318359 -1.015625l0 1.015625l-5.6875 0q0 -0.375 0.125 -0.734375q0.21875 -0.578125 0.6875 -1.140625q0.484375 -0.5625 1.390625 -1.296875q1.40625 -1.15625 1.890625 -1.828125q0.5 -0.671875 0.5 -1.265625q0 -0.625 -0.453125 -1.046875q-0.453125 -0.4375 -1.171875 -0.4375q-0.765625 0 -1.21875 0.453125q-0.453125 0.453125 -0.46875 1.265625l-1.078125 -0.109375q0.109375 -1.21875 0.828125 -1.84375q0.734375 -0.640625 1.96875 -0.640625q1.234375 0 1.953125 0.6875q0.71875 0.6875 0.71875 1.703125q0 0.515625 -0.21875 1.015625q-0.203125 0.484375 -0.703125 1.046875q-0.484375 0.546875 -1.609375 1.5q-0.953125 0.796875 -1.234375 1.09375q-0.265625 0.28125 -0.4375 0.5625l4.21875 0zm2.1113281 3.546875l-0.75 0q1.75 -2.8125 1.75 -5.640625q0 -1.09375 -0.25 -2.1875q-0.203125 -0.875 -0.5625 -1.6875q-0.234375 -0.515625 -0.9375 -1.75l0.75 0q1.09375 1.46875 1.625 2.953125q0.453125 1.28125 0.453125 2.671875q0 1.578125 -0.609375 3.0625q-0.609375 1.46875 -1.46875 2.578125z\" fill=\"#000000\" fill-rule=\"nonzero\"/><path d=\"m332.65878 273.2021l115.02362 1.1023865\" fill=\"#000000\" fill-opacity=\"0.0\" fill-rule=\"evenodd\"/><path d=\"m332.65878 273.2021l109.023926 1.0448914\" fill-rule=\"evenodd\" stroke=\"#000000\" stroke-linecap=\"butt\" stroke-linejoin=\"round\" stroke-width=\"1.0\"/><path d=\"m441.66687 275.89862l4.553711 -1.6081543l-4.522064 -1.6951599z\" fill=\"#000000\" fill-rule=\"evenodd\" stroke=\"#000000\" stroke-linecap=\"butt\" stroke-width=\"1.0\"/><path d=\"m427.8714 274.30447l39.590546 0l0 28.692902l-39.590546 0z\" fill=\"#000000\" fill-opacity=\"0.0\" fill-rule=\"evenodd\"/><path d=\"m439.98077 294.82446l0 -7.578125l-2.828125 0l0 -1.015625l6.8125 0l0 1.015625l-2.84375 0l0 7.578125l-1.140625 0z\" fill=\"#000000\" fill-rule=\"nonzero\"/></g></svg>"
      ],
      "text/plain": [
       "<IPython.core.display.SVG object>"
      ]
     },
     "execution_count": 5,
     "metadata": {},
     "output_type": "execute_result"
    }
   ],
   "source": [
    "SVG(filename='img/binom_N.svg')"
   ]
  },
  {
   "cell_type": "markdown",
   "metadata": {},
   "source": [
    "#### __Working Backwards through the Tree: the Backward Induction Algorithm__ \n",
    "\n",
    "_Step $n$_: \n",
    "\n",
    "$C_{n,j} = (S_{n,j}-K)^{+},~~~j=0,1,...,n$\n",
    "\n",
    "_Step $n-1$_: \n",
    "\n",
    "$C_{n-1,j} = e^{-r \\Delta t}(pC_{n,j+1}+(1-p)C_{n,j}),~~~j=0,1,...,n-1$\n",
    "\n",
    "...\n",
    "\n",
    "_Step $i$_: \n",
    "\n",
    "$C_{i,j} = e^{-r \\Delta t}(pC_{i+1,j+1}+(1-p)C_{i+1,j}),~~~j=0,1,...,i$\n",
    "\n",
    "...\n",
    "\n",
    "_Step $0$_: \n",
    "\n",
    "$C = C_{0,0} = e^{-r \\Delta t}(pC_{i+1,j+1}+(1-p)C_{i+1,j}),~~~j=0,1,...,i$\n"
   ]
  },
  {
   "cell_type": "markdown",
   "metadata": {},
   "source": [
    "<br>\n",
    "\n",
    "#### __Closed-form solution for European options__\n",
    "\n",
    "For European options, the algorithm can be solved in closed form:\n",
    "\n",
    "$C = e^{-rT} \\sum_{j=0}^{n}\\binom{n}{j}p^{j}(1-p)^{n-j}C_{n,j}$\n",
    "\n",
    "* $C_{n,j}$: terminal payoffs at $(n,j)$\n",
    "\n",
    "* $e^{-rT}$: discount factor from $T$ to $t=0$\n",
    "\n",
    "* $\\binom{n}{j} = \\frac{n!}{j!(n-j)!}$: number of paths to a particular outcome $(n,j)$ at maturity (binomial coefficient)\n",
    "\n",
    "* $p_{n,j} = \\binom{n}{j}p^{j}(1-p)^{n-j}$: risk-neutral probability of an outcome $(n,j)$"
   ]
  },
  {
   "cell_type": "markdown",
   "metadata": {},
   "source": [
    "#### __Risk-Neutral Valuation Formula for European-style Derivatives with General Payoffs__\n",
    "\n",
    "Suppose a derivative contract is defined by its payoff $F(S_T)$. Then its present value (price) is given by the discounted risk-neutral expectation of the payoff: \n",
    "\n",
    "$PV = e^{-rT} \\sum_{j=0}^{n}p_{n,j}F(S_{n,j})$\n",
    "\n",
    "##### __Consistency check__:\n",
    "\n",
    "$e^{-rT} \\sum_{j=0}^{n}p_{n,j}S_{n,j} = e^{-rT}\\binom{n}{j}p^{j}(1-p)^{n-j}u^{j}d^{n-j}S = e^{-rT}(pu+d(1-p))^{n}S = e^{-rT}e^{r\\Delta t n}S = S$\n",
    "\n",
    "Thus, as expected, the price of the stock is equal to its current price. "
   ]
  },
  {
   "cell_type": "markdown",
   "metadata": {},
   "source": [
    "<br>\n",
    "\n",
    "\n",
    "## __American Options (No Dividends)__\n",
    "\n",
    "1. American calls: always worth more alive than dead. It is never optimal to exercise prior to expiration. \n",
    "\n",
    "2. American puts: at each time step we maximize the value of our position -- optimal exercise strategy maximizes the option value to the option holder. \n",
    "\n",
    "Assuming the rational option holder maximizes his portfolio value, the dynamic programming (Bellman) equation for American puts looks:\n",
    "\n",
    "$P_{i,j} = \\max (K-S_{i,j},~ e^{-r∆t}[pP_{i+1,j+1} + (1-p)P_{i+1,j}])$\n",
    "\n",
    "At each node we compare:\n",
    "\n",
    "1. Exercise value \n",
    "\n",
    "2. \"Continuing value\"\n",
    "\n",
    "and choose max of them."
   ]
  },
  {
   "cell_type": "markdown",
   "metadata": {},
   "source": [
    "<br>\n",
    "\n",
    "## __Model calibration__\n",
    "\n",
    "The binomial model have two parameters $u$ and $d$. _How do we choose these parameters?_\n",
    "\n",
    "$u$ and $d$ indicate how much the underlying asset deviates from the current value, so it makes sense to choose them to match volatility of the underlying asset $\\sigma$.\n",
    "\n",
    "Note, risk-neutral probability $p$ is chosed in such a way, so that the expected return of all instruments is\n",
    "the risk-free rate $r$. \n",
    "\n",
    "__Volatility__: the standard deviation of log return is equal to $\\sigma \\sqrt{\\Delta t}$. It is equivalent, that variance of gross return $Var(\\frac{S_{\\Delta t}}{S_0})$ is equal to  $\\sigma^{2} \\Delta t$ at small $\\Delta t$.\n",
    "\n",
    "When we take $u = e^{\\sigma \\sqrt{\\Delta t}}$ and $d = e^{-\\sigma \\sqrt{\\Delta t}}$ in binomial model, the variance of the asset gross return is also equal to $\\sigma \\sqrt{\\Delta t}$ at small $\\Delta t$. \n",
    "\n",
    "Let's demostrate this: \n",
    "\n",
    "\n",
    "$Var(\\frac{S_{\\Delta t}}{S_0}) = u^2p + d^2(1-p) - (up+d(1-p))^{2} = u^2p^2 + d^2(1-p)^2 - u^2p^2 - d^2(1-p)^2 - 2udp(1-p) = u^2p(1-p) + d^2p(1-p) - 2udp(1-p) = p(1-p)(u^2 + d^2 - 2 ud) = p(1-p)(u-d)^2~~~~~~~~~~~~(*)$ \n",
    "\n",
    "First, after substituting expression for $p$, it looks:\n",
    "\n",
    "$(*) = \\frac{(e^{r\\Delta t}-d)(u-e^{r\\Delta t})(u-d)^2 }{(u-d)^2 } = (e^{r\\Delta t}-d)(u-e^{r\\Delta t})$\n",
    "\n",
    "And second, using expressions for $u$ and $d$, we get:\n",
    "\n",
    "$(e^{r\\Delta t}-e^{-\\sigma \\sqrt{\\Delta t}})(e^{\\sigma \\sqrt{\\Delta t}}-e^{r\\Delta t}) =$ (by a Taylor expansion) $= (r\\Delta t + \\sigma \\sqrt{\\Delta t}) (\\sigma \\sqrt{\\Delta t}-r\\Delta t) = \\sigma^2 \\Delta t - (r\\Delta t)^2 \\approx \\sigma^2 \\Delta t$\n",
    "\n",
    "Thus, by taking $u = e^{\\sigma \\sqrt{\\Delta t}}$ and $d = e^{-\\sigma \\sqrt{\\Delta t}}$ we calibrate the binomial in such a way, so the volatility of the underlying asset is equal to $\\sigma$.\n",
    "\n"
   ]
  },
  {
   "cell_type": "code",
   "execution_count": null,
   "metadata": {},
   "outputs": [],
   "source": []
  },
  {
   "cell_type": "markdown",
   "metadata": {},
   "source": [
    "<br>\n",
    "\n",
    "### Problem from exam"
   ]
  },
  {
   "cell_type": "markdown",
   "metadata": {},
   "source": [
    "The current USD/RUB exchange rate is $S=70$. The risk free interest rates are $0\\%$ (for USD) and $6\\%$ (for RUB) (continuous compounding).  $Vol = 15\\%$. Strike $K=70$ for all options below, if not indicated directly in the question."
   ]
  },
  {
   "cell_type": "markdown",
   "metadata": {},
   "source": [
    "a) __(3 points)__ Build 3-period binomial tree for the stock spanning period of $T=3$ months (also calculate u,d,p, and probabilities of all nodes). \n",
    "\n",
    "b1) __(2 points)__ What is the price of European Put option with maturity $T=3$ months?\n",
    "\n",
    "b2) __(5 points)__ Suppose, you bought this Put at $t=0$, and in 1 months exchange rate droped. What is PnL? Suppose you want to lock in the profit (you are at (1,0) node right now). Explain, how do you hedge it till maturity. Demonsrate, how the hedging works, if, for example, realized path is (1,0)->(2,1)->(3,2). \n",
    "\n",
    "c) __(4 points)__ Calculate the price of barrier Put option with knock-out barrier at level $B=62$.\n",
    "Maturity of the option is 3m.\n",
    "\n",
    "d) __(2 points)__ What is the price of option paying $\\$100$ if $S_T>70$ in $T=3$ months at $t=0$."
   ]
  },
  {
   "cell_type": "markdown",
   "metadata": {},
   "source": [
    "#### __Solution__\n",
    "\n",
    "__a)__\n",
    "\n",
    "_This is case of underlying asset paying dividends_\n",
    "\n",
    "A binomial tree for asset with dividend is similar to the one without. The only difference is risk neutral probability: $p = \\frac{e^{(r-q)\\Delta t}-d}{u-d}$ "
   ]
  },
  {
   "cell_type": "code",
   "execution_count": 1,
   "metadata": {},
   "outputs": [],
   "source": [
    "import sys\n",
    "path = '/home/jupyter-slava/teaching/lib/bsm'\n",
    "sys.path.append(path)\n",
    "import numpy as np\n",
    "from bsm1 import *"
   ]
  },
  {
   "cell_type": "code",
   "execution_count": 2,
   "metadata": {},
   "outputs": [
    {
     "name": "stdout",
     "output_type": "stream",
     "text": [
      "Tree for  S\n",
      "1.20   \n",
      "1.17   1.24   \n",
      "1.13   1.20   1.27   \n",
      "1.10   1.17   1.24   1.31   \n",
      "\n",
      "Tree for  Prob\n",
      "1.00   \n",
      "0.49   0.51   \n",
      "0.24   0.50   0.26   \n",
      "0.12   0.37   0.38   0.13   \n"
     ]
    }
   ],
   "source": [
    "S, T, r, q, vol = 1.2, 3./12, 0.01, 0.0, 0.10\n",
    "K = 1.2\n",
    "# create class instance a (Tree object)\n",
    "a=Binomial(S,3./12.,r,q,vol,3)\n",
    "a.ShowTree('S')\n",
    "print(\"\")\n",
    "a.ShowTree('Prob')"
   ]
  },
  {
   "cell_type": "code",
   "execution_count": 6,
   "metadata": {},
   "outputs": [],
   "source": [
    "B = 1.18"
   ]
  },
  {
   "cell_type": "code",
   "execution_count": 8,
   "metadata": {},
   "outputs": [],
   "source": [
    "K = 1.2"
   ]
  },
  {
   "cell_type": "markdown",
   "metadata": {},
   "source": [
    "paths:\n",
    "\n",
    "1) uuu\n",
    "2) udu\n",
    "3) uud"
   ]
  },
  {
   "cell_type": "code",
   "execution_count": 12,
   "metadata": {},
   "outputs": [],
   "source": [
    "ExpectedPayoff = (a.p**3*(a.TreeS[3][3]-K)+2*a.p**2*(1-a.p)*(a.TreeS[3][2]-K))"
   ]
  },
  {
   "cell_type": "code",
   "execution_count": 13,
   "metadata": {},
   "outputs": [
    {
     "data": {
      "text/plain": [
       "0.023077459375051304"
      ]
     },
     "execution_count": 13,
     "metadata": {},
     "output_type": "execute_result"
    }
   ],
   "source": [
    "ExpectedPayoff"
   ]
  },
  {
   "cell_type": "code",
   "execution_count": 14,
   "metadata": {},
   "outputs": [],
   "source": [
    "PriceBO = a.df**3*ExpectedPayoff"
   ]
  },
  {
   "cell_type": "code",
   "execution_count": 15,
   "metadata": {},
   "outputs": [
    {
     "data": {
      "text/plain": [
       "0.02301983778361421"
      ]
     },
     "execution_count": 15,
     "metadata": {},
     "output_type": "execute_result"
    }
   ],
   "source": [
    "PriceBO"
   ]
  },
  {
   "cell_type": "markdown",
   "metadata": {},
   "source": [
    "paths:\n",
    "\n",
    "1) duu"
   ]
  },
  {
   "cell_type": "code",
   "execution_count": 18,
   "metadata": {},
   "outputs": [],
   "source": [
    "nIn = a.df**3*a.p**2*(1-a.p)*(a.TreeS[3][2]-K)"
   ]
  },
  {
   "cell_type": "code",
   "execution_count": 19,
   "metadata": {},
   "outputs": [
    {
     "data": {
      "text/plain": [
       "0.00444462817635901"
      ]
     },
     "execution_count": 19,
     "metadata": {},
     "output_type": "execute_result"
    }
   ],
   "source": [
    "nIn"
   ]
  },
  {
   "cell_type": "code",
   "execution_count": 20,
   "metadata": {},
   "outputs": [
    {
     "data": {
      "text/plain": [
       "0.02746446595997322"
      ]
     },
     "execution_count": 20,
     "metadata": {},
     "output_type": "execute_result"
    }
   ],
   "source": [
    "PriceBO + nIn"
   ]
  },
  {
   "cell_type": "code",
   "execution_count": 23,
   "metadata": {},
   "outputs": [
    {
     "data": {
      "text/plain": [
       "0.027464465959973223"
      ]
     },
     "execution_count": 23,
     "metadata": {},
     "output_type": "execute_result"
    }
   ],
   "source": [
    "a.df**3*(a.TreeProb[3][3]*(a.TreeS[3][3]-K)+a.TreeProb[3][2]*(a.TreeS[3][2]-K))"
   ]
  },
  {
   "cell_type": "code",
   "execution_count": 3,
   "metadata": {},
   "outputs": [],
   "source": [
    "Option = a.df**3*(a.TreeProb[3][3]*100*a.TreeS[3][3]+a.TreeProb[3][2]*100*a.TreeS[3][2])"
   ]
  },
  {
   "cell_type": "code",
   "execution_count": 4,
   "metadata": {},
   "outputs": [
    {
     "data": {
      "text/plain": [
       "63.89314840088041"
      ]
     },
     "execution_count": 4,
     "metadata": {},
     "output_type": "execute_result"
    }
   ],
   "source": [
    "Option"
   ]
  },
  {
   "cell_type": "code",
   "execution_count": 5,
   "metadata": {},
   "outputs": [
    {
     "data": {
      "text/plain": [
       "50.95558483740258"
      ]
     },
     "execution_count": 5,
     "metadata": {},
     "output_type": "execute_result"
    }
   ],
   "source": [
    "a.df**3*(a.TreeProb[3][3]*100+a.TreeProb[3][2]*100)"
   ]
  },
  {
   "cell_type": "code",
   "execution_count": 8,
   "metadata": {},
   "outputs": [
    {
     "data": {
      "text/plain": [
       "0.16370134139903358"
      ]
     },
     "execution_count": 8,
     "metadata": {},
     "output_type": "execute_result"
    }
   ],
   "source": [
    "a.TreeProb[3][3]"
   ]
  },
  {
   "cell_type": "code",
   "execution_count": 9,
   "metadata": {},
   "outputs": [
    {
     "data": {
      "text/plain": [
       "0.5470378955205085"
      ]
     },
     "execution_count": 9,
     "metadata": {},
     "output_type": "execute_result"
    }
   ],
   "source": [
    "(np.exp(r/12)-1/a.u)/(a.u-1/a.u)"
   ]
  },
  {
   "cell_type": "code",
   "execution_count": 10,
   "metadata": {},
   "outputs": [
    {
     "data": {
      "text/plain": [
       "0.5470378955205085"
      ]
     },
     "execution_count": 10,
     "metadata": {},
     "output_type": "execute_result"
    }
   ],
   "source": [
    "a.p"
   ]
  },
  {
   "cell_type": "markdown",
   "metadata": {},
   "source": [
    "__b1)__ \n",
    "\n",
    "Put value at node (0,0) is"
   ]
  },
  {
   "cell_type": "code",
   "execution_count": 11,
   "metadata": {},
   "outputs": [
    {
     "data": {
      "text/plain": [
       "1.7646681129684196"
      ]
     },
     "execution_count": 11,
     "metadata": {},
     "output_type": "execute_result"
    }
   ],
   "source": [
    "P00 = a.df**3*(a.TreeProb[3][0]*(K-a.TreeS[3][0]) + a.TreeProb[3][1]*(K-a.TreeS[3][1]))\n",
    "P00"
   ]
  },
  {
   "cell_type": "markdown",
   "metadata": {},
   "source": [
    "__b2)__\n",
    "\n",
    "New Put value at node (1,0) is"
   ]
  },
  {
   "cell_type": "code",
   "execution_count": 12,
   "metadata": {},
   "outputs": [
    {
     "data": {
      "text/plain": [
       "3.1876453342103117"
      ]
     },
     "execution_count": 12,
     "metadata": {},
     "output_type": "execute_result"
    }
   ],
   "source": [
    "P10 = a.df**2*((1-a.p)**2*(K-a.TreeS[3][0]) + 2*(1-a.p)*a.p*(K-a.TreeS[3][1]))\n",
    "P10"
   ]
  },
  {
   "cell_type": "code",
   "execution_count": 13,
   "metadata": {},
   "outputs": [
    {
     "data": {
      "text/plain": [
       "1.422977221241892"
      ]
     },
     "execution_count": 13,
     "metadata": {},
     "output_type": "execute_result"
    }
   ],
   "source": [
    "PnL = P10 - P00\n",
    "PnL"
   ]
  },
  {
   "cell_type": "code",
   "execution_count": 14,
   "metadata": {},
   "outputs": [
    {
     "data": {
      "text/plain": [
       "1.7646681129684196"
      ]
     },
     "execution_count": 14,
     "metadata": {},
     "output_type": "execute_result"
    }
   ],
   "source": [
    "# for hedge need to build tree for Put prices:  \n",
    "P00 = a.TreePut(K,3)[0]\n",
    "P00"
   ]
  },
  {
   "cell_type": "code",
   "execution_count": 15,
   "metadata": {},
   "outputs": [
    {
     "name": "stdout",
     "output_type": "stream",
     "text": [
      "Tree for  value\n",
      "1.76   \n",
      "3.19   0.60   \n",
      "5.46   1.34   0.00   \n",
      "8.53   2.97   0.00   0.00   \n"
     ]
    }
   ],
   "source": [
    "# Tree for option values\n",
    "a.ShowTree(\"value\")"
   ]
  },
  {
   "cell_type": "markdown",
   "metadata": {},
   "source": [
    "_To hedge the put till maturity sell delta quantity of EUR at each node:_"
   ]
  },
  {
   "cell_type": "code",
   "execution_count": 16,
   "metadata": {},
   "outputs": [],
   "source": [
    "# node(1,0)\n",
    "delta10 = (a.TreeValue[2][1] - a.TreeValue[2][0])/(a.TreeS[2][1] - a.TreeS[2][0])\n",
    "# hedge position at (1,0); let Pdh(ij) is the value of \"position delta hedged\" at node i,j \n",
    "Pdh10 = a.TreeValue[1][0]-delta10*a.TreeS[1][0]\n",
    "# note, when we short an asset, cash is generated (if delta is negative, cash is negative (borrow))\n",
    "cash10 = delta10*a.TreeS[1][0]"
   ]
  },
  {
   "cell_type": "code",
   "execution_count": 17,
   "metadata": {},
   "outputs": [
    {
     "data": {
      "text/plain": [
       "-0.7096496065559402"
      ]
     },
     "execution_count": 17,
     "metadata": {},
     "output_type": "execute_result"
    }
   ],
   "source": [
    "delta10"
   ]
  },
  {
   "cell_type": "code",
   "execution_count": 18,
   "metadata": {},
   "outputs": [
    {
     "name": "stdout",
     "output_type": "stream",
     "text": [
      "Up:51.012; Down:51.012\n"
     ]
    }
   ],
   "source": [
    "# check it hedging in up and down from (1,0); we took into account dividend\n",
    "Up = a.TreeValue[2][1]-delta10*a.TreeS[2][1]/a.dd\n",
    "Down = a.TreeValue[2][0]-delta10*a.TreeS[2][0]/a.dd\n",
    "print(\"Up:{0:.3f}; Down:{1:.3f}\".format(Up,Down))"
   ]
  },
  {
   "cell_type": "code",
   "execution_count": 19,
   "metadata": {},
   "outputs": [
    {
     "name": "stdout",
     "output_type": "stream",
     "text": [
      "Up:3.204; Down:3.204\n"
     ]
    }
   ],
   "source": [
    "# take into account cash:\n",
    "Up = a.TreeValue[2][1]-delta10*a.TreeS[2][1]/a.dd+cash10/a.df\n",
    "Down = a.TreeValue[2][0]-delta10*a.TreeS[2][0]/a.dd+cash10/a.df\n",
    "print(\"Up:{0:.3f}; Down:{1:.3f}\".format(Up,Down))"
   ]
  },
  {
   "cell_type": "code",
   "execution_count": 20,
   "metadata": {},
   "outputs": [
    {
     "name": "stdout",
     "output_type": "stream",
     "text": [
      "Up:3.220; Down:3.220\n"
     ]
    }
   ],
   "source": [
    "# next node is (2,1)\n",
    "delta21 = (a.TreeValue[3][2] - a.TreeValue[3][1])/(a.TreeS[3][2] - a.TreeS[3][1])\n",
    "Pdh21 = a.TreeValue[2][1]-delta21*a.TreeS[2][1] \n",
    "# cash dynamics\n",
    "cash21 = cash10/a.df +(delta21-delta10)*a.TreeS[2][1]\n",
    "Up = a.TreeValue[3][2] - delta21*a.TreeS[3][2]/a.dd + cash21/a.df\n",
    "Down = a.TreeValue[3][1] - delta21*a.TreeS[3][1]/a.dd + cash21/a.df\n",
    "print(\"Up:{0:.3f}; Down:{1:.3f}\".format(Up,Down))"
   ]
  },
  {
   "cell_type": "code",
   "execution_count": 21,
   "metadata": {},
   "outputs": [
    {
     "data": {
      "text/plain": [
       "-0.48917637359147487"
      ]
     },
     "execution_count": 21,
     "metadata": {},
     "output_type": "execute_result"
    }
   ],
   "source": [
    "delta21"
   ]
  },
  {
   "cell_type": "markdown",
   "metadata": {},
   "source": [
    "__c)__ \n",
    "\n",
    "Paths with positive payoffs:\n",
    " \n",
    " 1. (0,0) -> (1,0) -> (2,1)-> (3,1)\n",
    " \n",
    " 2. (0,0) -> (1,1) -> (2,1)-> (3,1)\n",
    " \n",
    " 3. (0,0) -> (1,0) -> (2,0)-> (3,1)\n",
    " \n",
    "Prob of each paths:\n",
    "\n",
    "$p(1-p)^2$\n",
    "\n",
    "Payoff: \n",
    "\n",
    "$(K-S_{(3,1)})$"
   ]
  },
  {
   "cell_type": "code",
   "execution_count": 22,
   "metadata": {},
   "outputs": [
    {
     "name": "stdout",
     "output_type": "stream",
     "text": [
      "Tree for  S\n",
      "70.00   \n",
      "67.03   73.10   \n",
      "64.19   70.00   76.33   \n",
      "61.47   67.03   73.10   79.71   \n"
     ]
    }
   ],
   "source": [
    "a.ShowTree('S')"
   ]
  },
  {
   "cell_type": "code",
   "execution_count": 23,
   "metadata": {},
   "outputs": [
    {
     "name": "stdout",
     "output_type": "stream",
     "text": [
      "Price = 0.9840\n"
     ]
    }
   ],
   "source": [
    "PriceBarrier = a.df**3*3*a.p*(1-a.p)**2*(K-a.TreeS[3][1])\n",
    "print(\"Price = {0:.4f}\".format(PriceBarrier))"
   ]
  },
  {
   "cell_type": "markdown",
   "metadata": {},
   "source": [
    "__d)__ \n"
   ]
  },
  {
   "cell_type": "code",
   "execution_count": 25,
   "metadata": {},
   "outputs": [
    {
     "name": "stdout",
     "output_type": "stream",
     "text": [
      "Price = 4213.6844\n"
     ]
    }
   ],
   "source": [
    "Price = a.df**3*(a.TreeProb[3][2]*100*a.TreeS[3][2] + a.TreeProb[3][3]*100*a.TreeS[3][3])\n",
    "print(\"Price = {0:.4f}\".format(Price))"
   ]
  },
  {
   "cell_type": "markdown",
   "metadata": {},
   "source": [
    "<br>\n",
    "\n",
    "### American option pricing"
   ]
  },
  {
   "cell_type": "markdown",
   "metadata": {},
   "source": [
    "\n",
    "e) __(2 points)__ What is the price of American Put option with maturity $T=3$ months?"
   ]
  },
  {
   "cell_type": "markdown",
   "metadata": {},
   "source": [
    "Pricing by backward induction:\n",
    "    \n",
    "1) Start with final nodes:"
   ]
  },
  {
   "cell_type": "code",
   "execution_count": 38,
   "metadata": {},
   "outputs": [
    {
     "name": "stdout",
     "output_type": "stream",
     "text": [
      "8.5274,2.9664,0.0000,0.0000\n"
     ]
    }
   ],
   "source": [
    "# value of American put at node (3,3) and so on..\n",
    "\n",
    "AP33 = max(K-a.TreeS[3][3],0)\n",
    "AP32 = max(K-a.TreeS[3][2],0)\n",
    "AP31 = max(K-a.TreeS[3][1],0)\n",
    "AP30 = max(K-a.TreeS[3][0],0)\n",
    "print(\"{0:.4f},{1:.4f},{2:.4f},{3:.4f}\".format(AP30,AP31,AP32,AP33))"
   ]
  },
  {
   "cell_type": "markdown",
   "metadata": {},
   "source": [
    "\n",
    "    \n",
    "2) at t=2m at each node we choose between exercise or wait till next period:"
   ]
  },
  {
   "cell_type": "code",
   "execution_count": 41,
   "metadata": {},
   "outputs": [
    {
     "name": "stdout",
     "output_type": "stream",
     "text": [
      "5.8071,1.3370,0.0000\n"
     ]
    }
   ],
   "source": [
    "# consider node (2,2)\n",
    "AP22 = max(K-a.TreeS[2][2], a.df*(a.p*AP33 + (1-a.p)*AP32))\n",
    "\n",
    "# similar for other nodes\n",
    "AP21 = max(K-a.TreeS[2][1], a.df*(a.p*AP32 + (1-a.p)*AP31))\n",
    "AP20 = max(K-a.TreeS[2][0], a.df*(a.p*AP31 + (1-a.p)*AP30))\n",
    "print(\"{0:.4f},{1:.4f},{2:.4f}\".format(AP20,AP21,AP22))"
   ]
  },
  {
   "cell_type": "markdown",
   "metadata": {},
   "source": [
    "\n",
    "    \n",
    "3) at t=1m at each node we choose between exercise or wait till next period:"
   ]
  },
  {
   "cell_type": "code",
   "execution_count": 45,
   "metadata": {},
   "outputs": [
    {
     "name": "stdout",
     "output_type": "stream",
     "text": [
      "3.3450,0.6026\n"
     ]
    }
   ],
   "source": [
    "# consider node (1,1)\n",
    "AP11 = max(K-a.TreeS[1][1], a.df*(a.p*AP22 + (1-a.p)*AP21))\n",
    "# consider node (1,0)\n",
    "AP10 = max(K-a.TreeS[1][0], a.df*(a.p*AP21 + (1-a.p)*AP20))\n",
    "print(\"{0:.4f},{1:.4f}\".format(AP10,AP11))"
   ]
  },
  {
   "cell_type": "markdown",
   "metadata": {},
   "source": [
    "__Finally: node(0,0)__"
   ]
  },
  {
   "cell_type": "code",
   "execution_count": 47,
   "metadata": {},
   "outputs": [
    {
     "name": "stdout",
     "output_type": "stream",
     "text": [
      "American Put = 1.8356\n"
     ]
    }
   ],
   "source": [
    "AP00 = max(K-a.TreeS[0][0], a.df*(a.p*AP11 + (1-a.p)*AP10))\n",
    "print(\"American Put = {0:.4f}\".format(AP00))"
   ]
  },
  {
   "cell_type": "markdown",
   "metadata": {},
   "source": [
    "Check using built-in function"
   ]
  },
  {
   "cell_type": "code",
   "execution_count": 50,
   "metadata": {},
   "outputs": [
    {
     "data": {
      "text/plain": [
       "1.8355872684443193"
      ]
     },
     "execution_count": 50,
     "metadata": {},
     "output_type": "execute_result"
    }
   ],
   "source": [
    "a.AmericanPut(70,3)[0]"
   ]
  },
  {
   "cell_type": "markdown",
   "metadata": {},
   "source": [
    "__The same!!!__"
   ]
  },
  {
   "cell_type": "code",
   "execution_count": null,
   "metadata": {},
   "outputs": [],
   "source": []
  }
 ],
 "metadata": {
  "celltoolbar": "Slideshow",
  "kernelspec": {
   "display_name": "Python 3 (ipykernel)",
   "language": "python",
   "name": "python3"
  },
  "language_info": {
   "codemirror_mode": {
    "name": "ipython",
    "version": 3
   },
   "file_extension": ".py",
   "mimetype": "text/x-python",
   "name": "python",
   "nbconvert_exporter": "python",
   "pygments_lexer": "ipython3",
   "version": "3.9.7"
  },
  "toc-autonumbering": false,
  "toc-showmarkdowntxt": false
 },
 "nbformat": 4,
 "nbformat_minor": 4
}
